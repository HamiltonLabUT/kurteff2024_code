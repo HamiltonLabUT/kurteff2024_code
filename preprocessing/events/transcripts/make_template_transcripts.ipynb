{
 "cells": [
  {
   "cell_type": "markdown",
   "metadata": {},
   "source": [
    "This notebook uses the log files (obtained from the iPad app) to create a \"dummy\" transcript that then can be spot checked by a researcher before forced alignment. This speeds up the transcription process by making it semi-automated. "
   ]
  },
  {
   "cell_type": "code",
   "execution_count": null,
   "metadata": {},
   "outputs": [],
   "source": [
    "import os\n",
    "import numpy as np\n",
    "import csv"
   ]
  },
  {
   "cell_type": "code",
   "execution_count": null,
   "metadata": {},
   "outputs": [],
   "source": [
    "# Local paths, please update accordingly\n",
    "git_path = '/path/to/git/kurteff2024_code/'"
   ]
  },
  {
   "cell_type": "code",
   "execution_count": null,
   "metadata": {},
   "outputs": [],
   "source": [
    "# Change these values accordingly\n",
    "subj = \"TCH14\"\n",
    "block = \"B12\""
   ]
  },
  {
   "cell_type": "code",
   "execution_count": null,
   "metadata": {},
   "outputs": [],
   "source": [
    "blockid = \"_\".join([subj,block])\n",
    "transcript_folder = os.path.join(git_path,\"preprocessing\",\"events\",\"transcripts\",subj,blockid)\n",
    "log_path = os.path.join(git_path,\"preprocessing\",\"events\",\"logfiles\",f\"{blockid}.txt\")\n",
    "if os.path.isfile(log_path) and os.path.isdir(transcript_folder):\n",
    "    transcript_path = os.path.join(transcript_folder,f\"{blockid}_mic.txt\")\n",
    "    if os.path.isfile(transcript_path):\n",
    "        with open(log_path,'r') as f:\n",
    "            next(f), next(f), next(f) # Skip the header\n",
    "            d = csv.DictReader(f,delimiter=\"\\t\")\n",
    "            sentences = np.array(\n",
    "                [[r['MOCHARead']] + ['{NS}','{NS}'] for r in d if r['TrialPart']=='readRepeat'])\n",
    "        np.savetxt(transcript_path, sentences, fmt = \"%s\", delimiter = \"\\n\")\n",
    "    else:\n",
    "        print(\"Transcript file already exists.\")\n",
    "else:\n",
    "    raise Exception (\"Could not locate log file and/or transcript file. Please check your local paths.\")"
   ]
  }
 ],
 "metadata": {
  "kernelspec": {
   "display_name": "Python 3",
   "language": "python",
   "name": "python3"
  },
  "language_info": {
   "codemirror_mode": {
    "name": "ipython",
    "version": 3
   },
   "file_extension": ".py",
   "mimetype": "text/x-python",
   "name": "python",
   "nbconvert_exporter": "python",
   "pygments_lexer": "ipython3",
   "version": "3.7.7"
  }
 },
 "nbformat": 4,
 "nbformat_minor": 4
}
