{
 "cells": [
  {
   "cell_type": "markdown",
   "metadata": {},
   "source": [
    "This notebook is a wrapper script for the [Penn Phonetics Forced Aligner](https://babel.ling.upenn.edu/phonetics/old_website_2015/p2fa/index.html)."
   ]
  },
  {
   "cell_type": "code",
   "execution_count": 1,
   "metadata": {},
   "outputs": [],
   "source": [
    "import os\n",
    "from scipy.io import wavfile\n",
    "import scipy.signal\n",
    "from forced_aligner.align import main as p2fa\n",
    "import numpy as np"
   ]
  },
  {
   "cell_type": "code",
   "execution_count": null,
   "metadata": {},
   "outputs": [],
   "source": [
    "# Local paths, please update accordingly\n",
    "git_path = '/path/to/git/kurteff2024_code/'\n",
    "data_path = '/path/to/bids/dataset/'"
   ]
  },
  {
   "cell_type": "code",
   "execution_count": null,
   "metadata": {},
   "outputs": [],
   "source": [
    "# Change these values accordingly\n",
    "subj = \"TCH14\"\n",
    "block = \"B12\""
   ]
  },
  {
   "cell_type": "code",
   "execution_count": null,
   "metadata": {},
   "outputs": [],
   "source": [
    "blockid = \"_\".join([subj,block])\n",
    "w = os.path.join(data_path,f\"sub-{subj}\",blockid,\"audio\",f\"{blockid}_mic.wav\")\n",
    "t = os.path.join(git_path,\"preprocessing\",\"events\",\"transcripts\",subj,blockid,f\"{blockid}_mic.txt\")\n",
    "o = os.path.join(git_path,\"preprocessing\",\"events\",\"textgrids\",subj,blockid,f\"{blockid}_mic.TextGrid\")\n",
    "m = os.path.join(git_path,\"preprocessing\",\"events\",\"textgrids\",\"forced_aligner\",\"model\")\n",
    "fs, wav = wavfile.read(w)\n",
    "if int(fs) != 11025:\n",
    "    # The Penn Phonetics Forced Aligner only operates at specific sampling rates\n",
    "    # The 11025 Hz model is a compromise between quality and speed and from\n",
    "    # trial-and-error testing, it works well enough for our needs\n",
    "    wav = signal.resample(wav, wav.shape[0]*11025/fs)\n",
    "    wavfile.write(w,11025,wav)\n",
    "# Run forced aligner\n",
    "p2fa(w,t,o,m)"
   ]
  },
  {
   "cell_type": "markdown",
   "metadata": {},
   "source": [
    "### Fix TextGrid rounding\n",
    "P2FA has this bug where the TextGrids it create have these weird floating point errors that can cause some problems when trying to adjust boundaries in Praat's GUI. This next cell will attempt to automatically fix those, but it might require some troubleshooting (open the TextGrid in your preferred text editor and just check the `xmin/xmax`)."
   ]
  },
  {
   "cell_type": "code",
   "execution_count": null,
   "metadata": {},
   "outputs": [],
   "source": [
    "# round / fix xmins\n",
    "phone_tg_fpath = o\n",
    "tab = \"    \"\n",
    "fixed_float_grid = []\n",
    "with open(phone_tg_fpath, 'r') as f:\n",
    "    for i, line in enumerate(f):\n",
    "        if 'xm' in line:\n",
    "            if tab+tab+tab in line:\n",
    "                indent = 19\n",
    "            elif tab+tab in line:\n",
    "                indent = 15\n",
    "            elif tab in line:\n",
    "                indent = 11\n",
    "            else:\n",
    "                indent = 7\n",
    "            time = float(line[indent:])\n",
    "            if 'xmin' in line and time <1:\n",
    "                # Fix xmins here\n",
    "                fixed_float_grid.append((line[:indent]+'0.0').replace('\\n',''))\n",
    "            else:\n",
    "                # Round weird floating points here\n",
    "                rounded_time = round(time,3) # to 3 decimal places\n",
    "                fixed_float_grid.append((line[:indent]+str(rounded_time)).replace('\\n',''))\n",
    "        else:\n",
    "            # For line that's not an xmin or xmax, simply add it to the fixed float grid unchanged\n",
    "            fixed_float_grid.append(line.replace('\\n',''))\n",
    "# Save to file\n",
    "np.savetxt(phone_tg_fpath,fixed_float_grid,fmt=\"%s\")"
   ]
  }
 ],
 "metadata": {
  "kernelspec": {
   "display_name": "Python 3",
   "language": "python",
   "name": "python3"
  },
  "language_info": {
   "codemirror_mode": {
    "name": "ipython",
    "version": 3
   },
   "file_extension": ".py",
   "mimetype": "text/x-python",
   "name": "python",
   "nbconvert_exporter": "python",
   "pygments_lexer": "ipython3",
   "version": "3.7.7"
  }
 },
 "nbformat": 4,
 "nbformat_minor": 4
}
