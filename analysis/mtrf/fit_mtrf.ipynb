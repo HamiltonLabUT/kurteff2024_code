{
 "cells": [
  {
   "cell_type": "code",
   "execution_count": 4,
   "metadata": {},
   "outputs": [],
   "source": [
    "# Paths - Update locally!\n",
    "git_path = '/path/to/git/kurteff2024_code/'\n",
    "data_path = '/path/to/bids/dataset/'"
   ]
  },
  {
   "cell_type": "code",
   "execution_count": 1,
   "metadata": {},
   "outputs": [],
   "source": [
    "# data loading / manip\n",
    "import mne\n",
    "import re\n",
    "import numpy as np\n",
    "import os\n",
    "import csv\n",
    "import h5py\n",
    "import warnings\n",
    "from tqdm.notebook import tqdm\n",
    "import random\n",
    "import itertools as itools\n",
    "import pandas as pd\n",
    "import time\n",
    "from img_pipe import img_pipe\n",
    "# plotting\n",
    "from matplotlib import pyplot as plt\n",
    "from matplotlib import rcParams, cm\n",
    "plt.style.use('seaborn')\n",
    "rcParams['pdf.fonttype'] = 42\n",
    "import seaborn as sns\n",
    "import sys\n",
    "sys.path.append(os.path.join(git_path,\"analysis\",\"mtrf\"))\n",
    "import mtrf_utils"
   ]
  },
  {
   "cell_type": "markdown",
   "metadata": {},
   "source": [
    "## Different models, different hypotheses\n",
    "* Model 1: with phnfeat + spk + mic + el + sh.\n",
    "    * Hypothesis: we see the same tuning but a reduction in amplitude.\n",
    "    * nfeats = 18 (14 phnfeat + 4 task)\n",
    "* Model 2: phnfeat_spk + phnfeat_mic + phnfeat_any + mic + el + sh.\n",
    "    * Hypothesis: the tuning is changing between conditions.\n",
    "    * nfeats = 46 (14 phnfeat_all + 14 phnfeat_mic + 14 phnfeat_spkr + 4 task)\n",
    "* Model 3: phnfeat + spk + mic.\n",
    "    * Hypothesis: Predictable/unpredictable don't make a difference.\n",
    "    * nfeats = 16 (model 1- 2 feat (el/sh))\n",
    "* Model 4: phnfeat + el + sh.\n",
    "    * Hypothesis: Perc/prod don't make a difference.\n",
    "    * nfeats = 16 (model 1- 2 feat (spkr/mic))"
   ]
  },
  {
   "cell_type": "code",
   "execution_count": 5,
   "metadata": {},
   "outputs": [],
   "source": [
    "subjs = [s for s in os.listdir(\n",
    "    os.path.join(git_path,\"preprocessing\",\"events\",\"csv\")) if \"TCH\" in s or \"S0\" in s]\n",
    "exclude = [\"TCH8\"]\n",
    "no_imaging = [\"S0010\"]\n",
    "subjs = [s for s in subjs if s not in exclude]\n",
    "\n",
    "blocks = {\n",
    "    s: [\n",
    "        b.split(\"_\")[-1] for b in os.listdir(os.path.join(\n",
    "            git_path,\"analysis\",\"events\",\"csv\",s)) if f\"{s}_B\" in b and os.path.isfile(os.path.join(\n",
    "            git_path,\"analysis\",\"events\",\"csv\",s,b,f\"{b}_spkr_sn_all.txt\"\n",
    "        ))\n",
    "    ] for s in subjs\n",
    "}"
   ]
  },
  {
   "cell_type": "markdown",
   "metadata": {},
   "source": [
    "### Step 1. Load stim/resp t/v/ split from hdf5\n",
    "**If you haven't made these, run `make_stim_resp.ipynb` first!**\n",
    "\n",
    "Here we load in the stim/resp training/validation split from an hdf5 file, then index those files along specific stimulus features given the particular model we're interested in running."
   ]
  },
  {
   "cell_type": "code",
   "execution_count": 6,
   "metadata": {
    "scrolled": true
   },
   "outputs": [
    {
     "data": {
      "application/json": {
       "ascii": false,
       "bar_format": null,
       "colour": null,
       "elapsed": 0.01599884033203125,
       "initial": 0,
       "n": 0,
       "ncols": null,
       "nrows": null,
       "postfix": null,
       "prefix": "",
       "rate": null,
       "total": 16,
       "unit": "it",
       "unit_divisor": 1000,
       "unit_scale": false
      },
      "application/vnd.jupyter.widget-view+json": {
       "model_id": "c0f9225731be45a988b7fcf0b9833055",
       "version_major": 2,
       "version_minor": 0
      },
      "text/plain": [
       "  0%|          | 0/16 [00:00<?, ?it/s]"
      ]
     },
     "metadata": {},
     "output_type": "display_data"
    },
    {
     "name": "stdout",
     "output_type": "stream",
     "text": [
      "S0004 model1 t/v stim: (82706, 18) (22146, 18) || t/v resp: (82706, 81) (22146, 81)\n",
      "S0004 model2 t/v stim: (82706, 46) (22146, 46) || t/v resp: (82706, 81) (22146, 81)\n",
      "S0004 model3 t/v stim: (82706, 16) (22146, 16) || t/v resp: (82706, 81) (22146, 81)\n",
      "S0004 model4 t/v stim: (82706, 16) (22146, 16) || t/v resp: (82706, 81) (22146, 81)\n",
      "S0006 model1 t/v stim: (97499, 18) (27205, 18) || t/v resp: (97499, 104) (27205, 104)\n",
      "S0006 model2 t/v stim: (97499, 46) (27205, 46) || t/v resp: (97499, 104) (27205, 104)\n",
      "S0006 model3 t/v stim: (97499, 16) (27205, 16) || t/v resp: (97499, 104) (27205, 104)\n",
      "S0006 model4 t/v stim: (97499, 16) (27205, 16) || t/v resp: (97499, 104) (27205, 104)\n",
      "S0007 model1 t/v stim: (113073, 18) (33055, 18) || t/v resp: (113073, 96) (33055, 96)\n",
      "S0007 model2 t/v stim: (113073, 46) (33055, 46) || t/v resp: (113073, 96) (33055, 96)\n",
      "S0007 model3 t/v stim: (113073, 16) (33055, 16) || t/v resp: (113073, 96) (33055, 96)\n",
      "S0007 model4 t/v stim: (113073, 16) (33055, 16) || t/v resp: (113073, 96) (33055, 96)\n",
      "S0010 model1 t/v stim: (94143, 18) (25062, 18) || t/v resp: (94143, 146) (25062, 146)\n",
      "S0010 model2 t/v stim: (94143, 46) (25062, 46) || t/v resp: (94143, 146) (25062, 146)\n",
      "S0010 model3 t/v stim: (94143, 16) (25062, 16) || t/v resp: (94143, 146) (25062, 146)\n",
      "S0010 model4 t/v stim: (94143, 16) (25062, 16) || t/v resp: (94143, 146) (25062, 146)\n",
      "S0014 model1 t/v stim: (35764, 18) (9646, 18) || t/v resp: (35764, 103) (9646, 103)\n",
      "S0014 model2 t/v stim: (35764, 46) (9646, 46) || t/v resp: (35764, 103) (9646, 103)\n",
      "S0014 model3 t/v stim: (35764, 16) (9646, 16) || t/v resp: (35764, 103) (9646, 103)\n",
      "S0014 model4 t/v stim: (35764, 16) (9646, 16) || t/v resp: (35764, 103) (9646, 103)\n",
      "S0015 model1 t/v stim: (34639, 18) (9583, 18) || t/v resp: (34639, 121) (9583, 121)\n",
      "S0015 model2 t/v stim: (34639, 46) (9583, 46) || t/v resp: (34639, 121) (9583, 121)\n",
      "S0015 model3 t/v stim: (34639, 16) (9583, 16) || t/v resp: (34639, 121) (9583, 121)\n",
      "S0015 model4 t/v stim: (34639, 16) (9583, 16) || t/v resp: (34639, 121) (9583, 121)\n",
      "S0017 model1 t/v stim: (47867, 18) (13911, 18) || t/v resp: (47867, 125) (13911, 125)\n",
      "S0017 model2 t/v stim: (47867, 46) (13911, 46) || t/v resp: (47867, 125) (13911, 125)\n",
      "S0017 model3 t/v stim: (47867, 16) (13911, 16) || t/v resp: (47867, 125) (13911, 125)\n",
      "S0017 model4 t/v stim: (47867, 16) (13911, 16) || t/v resp: (47867, 125) (13911, 125)\n",
      "S0018 model1 t/v stim: (104872, 18) (25803, 18) || t/v resp: (104872, 142) (25803, 142)\n",
      "S0018 model2 t/v stim: (104872, 46) (25803, 46) || t/v resp: (104872, 142) (25803, 142)\n",
      "S0018 model3 t/v stim: (104872, 16) (25803, 16) || t/v resp: (104872, 142) (25803, 142)\n",
      "S0018 model4 t/v stim: (104872, 16) (25803, 16) || t/v resp: (104872, 142) (25803, 142)\n",
      "S0019 model1 t/v stim: (92658, 18) (22154, 18) || t/v resp: (92658, 100) (22154, 100)\n",
      "S0019 model2 t/v stim: (92658, 46) (22154, 46) || t/v resp: (92658, 100) (22154, 100)\n",
      "S0019 model3 t/v stim: (92658, 16) (22154, 16) || t/v resp: (92658, 100) (22154, 100)\n",
      "S0019 model4 t/v stim: (92658, 16) (22154, 16) || t/v resp: (92658, 100) (22154, 100)\n",
      "S0020 model1 t/v stim: (103951, 18) (27379, 18) || t/v resp: (103951, 106) (27379, 106)\n",
      "S0020 model2 t/v stim: (103951, 46) (27379, 46) || t/v resp: (103951, 106) (27379, 106)\n",
      "S0020 model3 t/v stim: (103951, 16) (27379, 16) || t/v resp: (103951, 106) (27379, 106)\n",
      "S0020 model4 t/v stim: (103951, 16) (27379, 16) || t/v resp: (103951, 106) (27379, 106)\n",
      "S0021 model1 t/v stim: (54808, 18) (19114, 18) || t/v resp: (54808, 108) (19114, 108)\n",
      "S0021 model2 t/v stim: (54808, 46) (19114, 46) || t/v resp: (54808, 108) (19114, 108)\n",
      "S0021 model3 t/v stim: (54808, 16) (19114, 16) || t/v resp: (54808, 108) (19114, 108)\n",
      "S0021 model4 t/v stim: (54808, 16) (19114, 16) || t/v resp: (54808, 108) (19114, 108)\n",
      "S0023 model1 t/v stim: (10818, 18) (4324, 18) || t/v resp: (10818, 142) (4324, 142)\n",
      "S0023 model2 t/v stim: (10818, 46) (4324, 46) || t/v resp: (10818, 142) (4324, 142)\n",
      "S0023 model3 t/v stim: (10818, 16) (4324, 16) || t/v resp: (10818, 142) (4324, 142)\n",
      "S0023 model4 t/v stim: (10818, 16) (4324, 16) || t/v resp: (10818, 142) (4324, 142)\n",
      "S0024 model1 t/v stim: (47440, 18) (21576, 18) || t/v resp: (47440, 112) (21576, 112)\n",
      "S0024 model2 t/v stim: (47440, 46) (21576, 46) || t/v resp: (47440, 112) (21576, 112)\n",
      "S0024 model3 t/v stim: (47440, 16) (21576, 16) || t/v resp: (47440, 112) (21576, 112)\n",
      "S0024 model4 t/v stim: (47440, 16) (21576, 16) || t/v resp: (47440, 112) (21576, 112)\n",
      "S0026 model1 t/v stim: (38560, 18) (10229, 18) || t/v resp: (38560, 118) (10229, 118)\n",
      "S0026 model2 t/v stim: (38560, 46) (10229, 46) || t/v resp: (38560, 118) (10229, 118)\n",
      "S0026 model3 t/v stim: (38560, 16) (10229, 16) || t/v resp: (38560, 118) (10229, 118)\n",
      "S0026 model4 t/v stim: (38560, 16) (10229, 16) || t/v resp: (38560, 118) (10229, 118)\n",
      "TCH06 model1 t/v stim: (29872, 18) (9041, 18) || t/v resp: (29872, 186) (9041, 186)\n",
      "TCH06 model2 t/v stim: (29872, 46) (9041, 46) || t/v resp: (29872, 186) (9041, 186)\n",
      "TCH06 model3 t/v stim: (29872, 16) (9041, 16) || t/v resp: (29872, 186) (9041, 186)\n",
      "TCH06 model4 t/v stim: (29872, 16) (9041, 16) || t/v resp: (29872, 186) (9041, 186)\n",
      "TCH14 model1 t/v stim: (32935, 18) (9279, 18) || t/v resp: (32935, 255) (9279, 255)\n",
      "TCH14 model2 t/v stim: (32935, 46) (9279, 46) || t/v resp: (32935, 255) (9279, 255)\n",
      "TCH14 model3 t/v stim: (32935, 16) (9279, 16) || t/v resp: (32935, 255) (9279, 255)\n",
      "TCH14 model4 t/v stim: (32935, 16) (9279, 16) || t/v resp: (32935, 255) (9279, 255)\n"
     ]
    }
   ],
   "source": [
    "tStims, tResps, vStims, vResps = dict(), dict(), dict(), dict()\n",
    "pbar = tqdm(subjs)\n",
    "for s in pbar:\n",
    "    tStims[s], tResps[s], vStims[s], vResps[s] = dict(), dict(), dict(), dict()\n",
    "    for m in models:\n",
    "        pbar.set_description(f\"Loading model inputs for {s} {m}\")\n",
    "        # Update this file location accordingly on your local machine!\n",
    "        model_input_h5_fpath = os.path.join(git_path,\"analysis\",\"mtrf\",\"h5\",\"model_inputs\",\n",
    "                                            f\"{s}_model_inputs.hdf5\")\n",
    "        tStims[s][m], tResps[s][m], vStims[s][m], vResps[s][m] = mtrf_utils.load_model_inputs(\n",
    "            model_input_h5_fpath, m, mode='ecog')\n",
    "        print(s, m, \"t/v stim:\", tStims[s][m].shape, vStims[s][m].shape, \"||\",\n",
    "              \"t/v resp:\", tResps[s][m].shape, vResps[s][m].shape)"
   ]
  },
  {
   "cell_type": "markdown",
   "metadata": {},
   "source": [
    "### Step 2. Run the mTRF"
   ]
  },
  {
   "cell_type": "code",
   "execution_count": 7,
   "metadata": {},
   "outputs": [],
   "source": [
    "# mTRF parameters\n",
    "nboots = 10\n",
    "delay_min, delay_max = -0.3, 0.5\n",
    "delays = np.arange(np.floor(delay_min*100),np.ceil(delay_max*100),dtype=int)\n",
    "ndelays = len(delays)\n",
    "# Change the alphas if the output looks choppy (it's a smoothing parameter basically)\n",
    "# We want our subj_best_alpha to be in the middle of our alpha range, not at one end\n",
    "alpha_min, alpha_max = -4, 4\n",
    "alphas = np.hstack((0, np.logspace(alpha_min,alpha_max,20)))"
   ]
  },
  {
   "cell_type": "code",
   "execution_count": 8,
   "metadata": {
    "scrolled": true
   },
   "outputs": [
    {
     "data": {
      "application/json": {
       "ascii": false,
       "bar_format": null,
       "colour": null,
       "elapsed": 0.011625051498413086,
       "initial": 0,
       "n": 0,
       "ncols": null,
       "nrows": null,
       "postfix": null,
       "prefix": "",
       "rate": null,
       "total": 16,
       "unit": "it",
       "unit_divisor": 1000,
       "unit_scale": false
      },
      "application/vnd.jupyter.widget-view+json": {
       "model_id": "56137aa36299454093e494fd9e5f73b0",
       "version_major": 2,
       "version_minor": 0
      },
      "text/plain": [
       "  0%|          | 0/16 [00:00<?, ?it/s]"
      ]
     },
     "metadata": {},
     "output_type": "display_data"
    },
    {
     "name": "stdout",
     "output_type": "stream",
     "text": [
      "81 82706\n",
      "Using training/validation split passed into the func...\n",
      "(82706, 1440) (22146, 1440)\n",
      "(82706, 81) (22146, 81)\n"
     ]
    },
    {
     "name": "stderr",
     "output_type": "stream",
     "text": [
      "INFO:counter:1/10 items complete (4.25 seconds/item, 00:00:38 remaining)\n",
      "INFO:counter:2/10 items complete (4.27 seconds/item, 00:00:34 remaining)\n",
      "INFO:counter:3/10 items complete (4.23 seconds/item, 00:00:29 remaining)\n",
      "INFO:counter:4/10 items complete (4.20 seconds/item, 00:00:25 remaining)\n",
      "INFO:counter:5/10 items complete (4.20 seconds/item, 00:00:21 remaining)\n",
      "INFO:counter:6/10 items complete (4.21 seconds/item, 00:00:16 remaining)\n",
      "INFO:counter:7/10 items complete (4.22 seconds/item, 00:00:12 remaining)\n",
      "INFO:counter:8/10 items complete (4.22 seconds/item, 00:00:08 remaining)\n",
      "INFO:counter:9/10 items complete (4.22 seconds/item, 00:00:04 remaining)\n",
      "INFO:counter:10/10 items complete (4.23 seconds/item, 00:00:00 remaining)\n"
     ]
    },
    {
     "name": "stdout",
     "output_type": "stream",
     "text": [
      "Cmode = False\n",
      "Number of time points is greater than the number of features\n",
      "stim shape (not cmode): \n",
      "(82706, 1440)\n",
      "Covmat shape: \n",
      "(1440, 1440)\n",
      "(1440, 1440) (1440, 82706) (82706, 81)\n",
      "wt shape:\n",
      "(1440, 81)\n",
      "(1440, 81)\n",
      "S0004 model1: Best alpha: 10000.0 (should be in between 0.0 and 10000.0)\n",
      "81 82706\n",
      "Using training/validation split passed into the func...\n",
      "(82706, 3680) (22146, 3680)\n",
      "(82706, 81) (22146, 81)\n"
     ]
    },
    {
     "name": "stderr",
     "output_type": "stream",
     "text": [
      "INFO:counter:1/10 items complete (16.65 seconds/item, 00:02:29 remaining)\n",
      "INFO:counter:2/10 items complete (15.96 seconds/item, 00:02:07 remaining)\n",
      "INFO:counter:3/10 items complete (15.65 seconds/item, 00:01:49 remaining)\n",
      "INFO:counter:4/10 items complete (15.47 seconds/item, 00:01:32 remaining)\n",
      "INFO:counter:5/10 items complete (15.32 seconds/item, 00:01:16 remaining)\n",
      "INFO:counter:6/10 items complete (15.24 seconds/item, 00:01:00 remaining)\n",
      "INFO:counter:7/10 items complete (15.16 seconds/item, 00:00:45 remaining)\n",
      "INFO:counter:8/10 items complete (15.10 seconds/item, 00:00:30 remaining)\n",
      "INFO:counter:9/10 items complete (15.02 seconds/item, 00:00:15 remaining)\n",
      "INFO:counter:10/10 items complete (15.04 seconds/item, 00:00:00 remaining)\n"
     ]
    },
    {
     "name": "stdout",
     "output_type": "stream",
     "text": [
      "Cmode = False\n",
      "Number of time points is greater than the number of features\n",
      "stim shape (not cmode): \n",
      "(82706, 3680)\n",
      "Covmat shape: \n",
      "(3680, 3680)\n",
      "(3680, 3680) (3680, 82706) (82706, 81)\n",
      "wt shape:\n",
      "(3680, 81)\n",
      "(3680, 81)\n",
      "S0004 model2: Best alpha: 10000.0 (should be in between 0.0 and 10000.0)\n",
      "81 82706\n",
      "Using training/validation split passed into the func...\n",
      "(82706, 1280) (22146, 1280)\n",
      "(82706, 81) (22146, 81)\n"
     ]
    },
    {
     "name": "stderr",
     "output_type": "stream",
     "text": [
      "INFO:counter:1/10 items complete (3.57 seconds/item, 00:00:32 remaining)\n",
      "INFO:counter:2/10 items complete (3.54 seconds/item, 00:00:28 remaining)\n",
      "INFO:counter:3/10 items complete (3.53 seconds/item, 00:00:24 remaining)\n",
      "INFO:counter:4/10 items complete (3.53 seconds/item, 00:00:21 remaining)\n",
      "INFO:counter:5/10 items complete (3.54 seconds/item, 00:00:17 remaining)\n",
      "INFO:counter:6/10 items complete (3.54 seconds/item, 00:00:14 remaining)\n",
      "INFO:counter:7/10 items complete (3.56 seconds/item, 00:00:10 remaining)\n",
      "INFO:counter:8/10 items complete (3.55 seconds/item, 00:00:07 remaining)\n",
      "INFO:counter:9/10 items complete (3.56 seconds/item, 00:00:03 remaining)\n",
      "INFO:counter:10/10 items complete (3.57 seconds/item, 00:00:00 remaining)\n"
     ]
    },
    {
     "name": "stdout",
     "output_type": "stream",
     "text": [
      "Cmode = False\n",
      "Number of time points is greater than the number of features\n",
      "stim shape (not cmode): \n",
      "(82706, 1280)\n",
      "Covmat shape: \n",
      "(1280, 1280)\n",
      "(1280, 1280) (1280, 82706) (82706, 81)\n",
      "wt shape:\n",
      "(1280, 81)\n",
      "(1280, 81)\n",
      "S0004 model3: Best alpha: 10000.0 (should be in between 0.0 and 10000.0)\n",
      "81 82706\n",
      "Using training/validation split passed into the func...\n",
      "(82706, 1280) (22146, 1280)\n",
      "(82706, 81) (22146, 81)\n"
     ]
    },
    {
     "name": "stderr",
     "output_type": "stream",
     "text": [
      "INFO:counter:1/10 items complete (3.63 seconds/item, 00:00:32 remaining)\n",
      "INFO:counter:2/10 items complete (3.67 seconds/item, 00:00:29 remaining)\n",
      "INFO:counter:3/10 items complete (3.74 seconds/item, 00:00:26 remaining)\n",
      "INFO:counter:4/10 items complete (3.71 seconds/item, 00:00:22 remaining)\n",
      "INFO:counter:5/10 items complete (3.69 seconds/item, 00:00:18 remaining)\n",
      "INFO:counter:6/10 items complete (3.68 seconds/item, 00:00:14 remaining)\n",
      "INFO:counter:7/10 items complete (3.66 seconds/item, 00:00:10 remaining)\n",
      "INFO:counter:8/10 items complete (3.64 seconds/item, 00:00:07 remaining)\n",
      "INFO:counter:9/10 items complete (3.65 seconds/item, 00:00:03 remaining)\n",
      "INFO:counter:10/10 items complete (3.66 seconds/item, 00:00:00 remaining)\n"
     ]
    },
    {
     "name": "stdout",
     "output_type": "stream",
     "text": [
      "Cmode = False\n",
      "Number of time points is greater than the number of features\n",
      "stim shape (not cmode): \n",
      "(82706, 1280)\n",
      "Covmat shape: \n",
      "(1280, 1280)\n",
      "(1280, 1280) (1280, 82706) (82706, 81)\n",
      "wt shape:\n",
      "(1280, 81)\n",
      "(1280, 81)\n",
      "S0004 model4: Best alpha: 10000.0 (should be in between 0.0 and 10000.0)\n",
      "104 97499\n",
      "Using training/validation split passed into the func...\n",
      "(97499, 1440) (27205, 1440)\n",
      "(97499, 104) (27205, 104)\n"
     ]
    },
    {
     "name": "stderr",
     "output_type": "stream",
     "text": [
      "INFO:counter:1/10 items complete (5.06 seconds/item, 00:00:45 remaining)\n",
      "INFO:counter:2/10 items complete (5.12 seconds/item, 00:00:40 remaining)\n",
      "INFO:counter:3/10 items complete (5.28 seconds/item, 00:00:36 remaining)\n",
      "INFO:counter:4/10 items complete (5.21 seconds/item, 00:00:31 remaining)\n",
      "INFO:counter:5/10 items complete (5.19 seconds/item, 00:00:25 remaining)\n",
      "INFO:counter:6/10 items complete (5.18 seconds/item, 00:00:20 remaining)\n",
      "INFO:counter:7/10 items complete (5.17 seconds/item, 00:00:15 remaining)\n",
      "INFO:counter:8/10 items complete (5.17 seconds/item, 00:00:10 remaining)\n",
      "INFO:counter:9/10 items complete (5.16 seconds/item, 00:00:05 remaining)\n",
      "INFO:counter:10/10 items complete (5.14 seconds/item, 00:00:00 remaining)\n"
     ]
    },
    {
     "name": "stdout",
     "output_type": "stream",
     "text": [
      "Cmode = False\n",
      "Number of time points is greater than the number of features\n",
      "stim shape (not cmode): \n",
      "(97499, 1440)\n",
      "Covmat shape: \n",
      "(1440, 1440)\n",
      "(1440, 1440) (1440, 97499) (97499, 104)\n",
      "wt shape:\n",
      "(1440, 104)\n",
      "(1440, 104)\n",
      "S0006 model1: Best alpha: 1438.44988828766 (should be in between 0.0 and 10000.0)\n",
      "104 97499\n",
      "Using training/validation split passed into the func...\n",
      "(97499, 3680) (27205, 3680)\n",
      "(97499, 104) (27205, 104)\n"
     ]
    },
    {
     "name": "stderr",
     "output_type": "stream",
     "text": [
      "INFO:counter:1/10 items complete (17.35 seconds/item, 00:02:36 remaining)\n",
      "INFO:counter:2/10 items complete (18.04 seconds/item, 00:02:24 remaining)\n",
      "INFO:counter:3/10 items complete (17.98 seconds/item, 00:02:05 remaining)\n",
      "INFO:counter:4/10 items complete (17.91 seconds/item, 00:01:47 remaining)\n",
      "INFO:counter:5/10 items complete (17.89 seconds/item, 00:01:29 remaining)\n",
      "INFO:counter:6/10 items complete (17.86 seconds/item, 00:01:11 remaining)\n",
      "INFO:counter:7/10 items complete (17.83 seconds/item, 00:00:53 remaining)\n",
      "INFO:counter:8/10 items complete (17.80 seconds/item, 00:00:35 remaining)\n",
      "INFO:counter:9/10 items complete (17.78 seconds/item, 00:00:17 remaining)\n",
      "INFO:counter:10/10 items complete (17.75 seconds/item, 00:00:00 remaining)\n"
     ]
    },
    {
     "name": "stdout",
     "output_type": "stream",
     "text": [
      "Cmode = False\n",
      "Number of time points is greater than the number of features\n",
      "stim shape (not cmode): \n",
      "(97499, 3680)\n",
      "Covmat shape: \n",
      "(3680, 3680)\n",
      "(3680, 3680) (3680, 97499) (97499, 104)\n",
      "wt shape:\n",
      "(3680, 104)\n",
      "(3680, 104)\n",
      "S0006 model2: Best alpha: 1438.44988828766 (should be in between 0.0 and 10000.0)\n",
      "104 97499\n",
      "Using training/validation split passed into the func...\n",
      "(97499, 1280) (27205, 1280)\n",
      "(97499, 104) (27205, 104)\n"
     ]
    },
    {
     "name": "stderr",
     "output_type": "stream",
     "text": [
      "INFO:counter:1/10 items complete (4.34 seconds/item, 00:00:39 remaining)\n",
      "INFO:counter:2/10 items complete (4.47 seconds/item, 00:00:35 remaining)\n",
      "INFO:counter:3/10 items complete (4.44 seconds/item, 00:00:31 remaining)\n",
      "INFO:counter:4/10 items complete (4.40 seconds/item, 00:00:26 remaining)\n",
      "INFO:counter:5/10 items complete (4.42 seconds/item, 00:00:22 remaining)\n",
      "INFO:counter:6/10 items complete (4.43 seconds/item, 00:00:17 remaining)\n",
      "INFO:counter:7/10 items complete (4.46 seconds/item, 00:00:13 remaining)\n",
      "INFO:counter:8/10 items complete (4.47 seconds/item, 00:00:08 remaining)\n",
      "INFO:counter:9/10 items complete (4.45 seconds/item, 00:00:04 remaining)\n",
      "INFO:counter:10/10 items complete (4.44 seconds/item, 00:00:00 remaining)\n"
     ]
    },
    {
     "name": "stdout",
     "output_type": "stream",
     "text": [
      "Cmode = False\n",
      "Number of time points is greater than the number of features\n",
      "stim shape (not cmode): \n",
      "(97499, 1280)\n",
      "Covmat shape: \n",
      "(1280, 1280)\n",
      "(1280, 1280) (1280, 97499) (97499, 104)\n",
      "wt shape:\n",
      "(1280, 104)\n",
      "(1280, 104)\n",
      "S0006 model3: Best alpha: 1438.44988828766 (should be in between 0.0 and 10000.0)\n",
      "104 97499\n",
      "Using training/validation split passed into the func...\n",
      "(97499, 1280) (27205, 1280)\n",
      "(97499, 104) (27205, 104)\n"
     ]
    },
    {
     "name": "stderr",
     "output_type": "stream",
     "text": [
      "INFO:counter:1/10 items complete (4.47 seconds/item, 00:00:40 remaining)\n",
      "INFO:counter:2/10 items complete (4.41 seconds/item, 00:00:35 remaining)\n",
      "INFO:counter:3/10 items complete (4.42 seconds/item, 00:00:30 remaining)\n",
      "INFO:counter:4/10 items complete (4.46 seconds/item, 00:00:26 remaining)\n",
      "INFO:counter:5/10 items complete (4.45 seconds/item, 00:00:22 remaining)\n",
      "INFO:counter:6/10 items complete (4.44 seconds/item, 00:00:17 remaining)\n",
      "INFO:counter:7/10 items complete (4.43 seconds/item, 00:00:13 remaining)\n",
      "INFO:counter:8/10 items complete (4.43 seconds/item, 00:00:08 remaining)\n",
      "INFO:counter:9/10 items complete (4.42 seconds/item, 00:00:04 remaining)\n",
      "INFO:counter:10/10 items complete (4.43 seconds/item, 00:00:00 remaining)\n"
     ]
    },
    {
     "name": "stdout",
     "output_type": "stream",
     "text": [
      "Cmode = False\n",
      "Number of time points is greater than the number of features\n",
      "stim shape (not cmode): \n",
      "(97499, 1280)\n",
      "Covmat shape: \n",
      "(1280, 1280)\n",
      "(1280, 1280) (1280, 97499) (97499, 104)\n",
      "wt shape:\n",
      "(1280, 104)\n",
      "(1280, 104)\n",
      "S0006 model4: Best alpha: 545.5594781168514 (should be in between 0.0 and 10000.0)\n",
      "96 113073\n",
      "Using training/validation split passed into the func...\n",
      "(113073, 1440) (33055, 1440)\n",
      "(113073, 96) (33055, 96)\n"
     ]
    },
    {
     "name": "stderr",
     "output_type": "stream",
     "text": [
      "INFO:counter:1/10 items complete (5.77 seconds/item, 00:00:51 remaining)\n",
      "INFO:counter:2/10 items complete (5.78 seconds/item, 00:00:46 remaining)\n",
      "INFO:counter:3/10 items complete (5.85 seconds/item, 00:00:40 remaining)\n",
      "INFO:counter:4/10 items complete (5.87 seconds/item, 00:00:35 remaining)\n",
      "INFO:counter:5/10 items complete (5.87 seconds/item, 00:00:29 remaining)\n",
      "INFO:counter:6/10 items complete (5.89 seconds/item, 00:00:23 remaining)\n",
      "INFO:counter:7/10 items complete (5.88 seconds/item, 00:00:17 remaining)\n",
      "INFO:counter:8/10 items complete (5.86 seconds/item, 00:00:11 remaining)\n",
      "INFO:counter:9/10 items complete (5.85 seconds/item, 00:00:05 remaining)\n",
      "INFO:counter:10/10 items complete (5.86 seconds/item, 00:00:00 remaining)\n"
     ]
    },
    {
     "name": "stdout",
     "output_type": "stream",
     "text": [
      "Cmode = False\n",
      "Number of time points is greater than the number of features\n",
      "stim shape (not cmode): \n",
      "(113073, 1440)\n",
      "Covmat shape: \n",
      "(1440, 1440)\n",
      "(1440, 1440) (1440, 113073) (113073, 96)\n",
      "wt shape:\n",
      "(1440, 96)\n",
      "(1440, 96)\n",
      "S0007 model1: Best alpha: 3792.690190732246 (should be in between 0.0 and 10000.0)\n",
      "96 113073\n",
      "Using training/validation split passed into the func...\n",
      "(113073, 3680) (33055, 3680)\n",
      "(113073, 96) (33055, 96)\n"
     ]
    },
    {
     "name": "stderr",
     "output_type": "stream",
     "text": [
      "INFO:counter:1/10 items complete (20.37 seconds/item, 00:03:03 remaining)\n",
      "INFO:counter:2/10 items complete (20.21 seconds/item, 00:02:41 remaining)\n",
      "INFO:counter:3/10 items complete (20.01 seconds/item, 00:02:20 remaining)\n",
      "INFO:counter:4/10 items complete (20.03 seconds/item, 00:02:00 remaining)\n",
      "INFO:counter:5/10 items complete (20.33 seconds/item, 00:01:41 remaining)\n",
      "INFO:counter:6/10 items complete (20.30 seconds/item, 00:01:21 remaining)\n",
      "INFO:counter:7/10 items complete (20.19 seconds/item, 00:01:00 remaining)\n",
      "INFO:counter:8/10 items complete (20.12 seconds/item, 00:00:40 remaining)\n",
      "INFO:counter:9/10 items complete (20.10 seconds/item, 00:00:20 remaining)\n",
      "INFO:counter:10/10 items complete (20.05 seconds/item, 00:00:00 remaining)\n"
     ]
    },
    {
     "name": "stdout",
     "output_type": "stream",
     "text": [
      "Cmode = False\n",
      "Number of time points is greater than the number of features\n",
      "stim shape (not cmode): \n",
      "(113073, 3680)\n",
      "Covmat shape: \n",
      "(3680, 3680)\n",
      "(3680, 3680) (3680, 113073) (113073, 96)\n",
      "wt shape:\n",
      "(3680, 96)\n",
      "(3680, 96)\n",
      "S0007 model2: Best alpha: 1438.44988828766 (should be in between 0.0 and 10000.0)\n",
      "96 113073\n",
      "Using training/validation split passed into the func...\n",
      "(113073, 1280) (33055, 1280)\n",
      "(113073, 96) (33055, 96)\n"
     ]
    },
    {
     "name": "stderr",
     "output_type": "stream",
     "text": [
      "INFO:counter:1/10 items complete (5.11 seconds/item, 00:00:45 remaining)\n",
      "INFO:counter:2/10 items complete (5.10 seconds/item, 00:00:40 remaining)\n",
      "INFO:counter:3/10 items complete (5.09 seconds/item, 00:00:35 remaining)\n",
      "INFO:counter:4/10 items complete (5.11 seconds/item, 00:00:30 remaining)\n",
      "INFO:counter:5/10 items complete (5.12 seconds/item, 00:00:25 remaining)\n",
      "INFO:counter:6/10 items complete (5.13 seconds/item, 00:00:20 remaining)\n",
      "INFO:counter:7/10 items complete (5.13 seconds/item, 00:00:15 remaining)\n",
      "INFO:counter:8/10 items complete (5.15 seconds/item, 00:00:10 remaining)\n",
      "INFO:counter:9/10 items complete (5.15 seconds/item, 00:00:05 remaining)\n",
      "INFO:counter:10/10 items complete (5.15 seconds/item, 00:00:00 remaining)\n"
     ]
    },
    {
     "name": "stdout",
     "output_type": "stream",
     "text": [
      "Cmode = False\n",
      "Number of time points is greater than the number of features\n",
      "stim shape (not cmode): \n",
      "(113073, 1280)\n",
      "Covmat shape: \n",
      "(1280, 1280)\n",
      "(1280, 1280) (1280, 113073) (113073, 96)\n",
      "wt shape:\n",
      "(1280, 96)\n",
      "(1280, 96)\n",
      "S0007 model3: Best alpha: 3792.690190732246 (should be in between 0.0 and 10000.0)\n",
      "96 113073\n",
      "Using training/validation split passed into the func...\n",
      "(113073, 1280) (33055, 1280)\n",
      "(113073, 96) (33055, 96)\n"
     ]
    },
    {
     "name": "stderr",
     "output_type": "stream",
     "text": [
      "INFO:counter:1/10 items complete (5.01 seconds/item, 00:00:45 remaining)\n",
      "INFO:counter:2/10 items complete (5.05 seconds/item, 00:00:40 remaining)\n",
      "INFO:counter:3/10 items complete (5.10 seconds/item, 00:00:35 remaining)\n",
      "INFO:counter:4/10 items complete (5.24 seconds/item, 00:00:31 remaining)\n",
      "INFO:counter:5/10 items complete (5.33 seconds/item, 00:00:26 remaining)\n",
      "INFO:counter:6/10 items complete (5.24 seconds/item, 00:00:20 remaining)\n",
      "INFO:counter:7/10 items complete (5.18 seconds/item, 00:00:15 remaining)\n",
      "INFO:counter:8/10 items complete (5.15 seconds/item, 00:00:10 remaining)\n",
      "INFO:counter:9/10 items complete (5.14 seconds/item, 00:00:05 remaining)\n",
      "INFO:counter:10/10 items complete (5.12 seconds/item, 00:00:00 remaining)\n"
     ]
    },
    {
     "name": "stdout",
     "output_type": "stream",
     "text": [
      "Cmode = False\n",
      "Number of time points is greater than the number of features\n",
      "stim shape (not cmode): \n",
      "(113073, 1280)\n",
      "Covmat shape: \n",
      "(1280, 1280)\n",
      "(1280, 1280) (1280, 113073) (113073, 96)\n",
      "wt shape:\n",
      "(1280, 96)\n",
      "(1280, 96)\n",
      "S0007 model4: Best alpha: 3792.690190732246 (should be in between 0.0 and 10000.0)\n",
      "146 94143\n",
      "Using training/validation split passed into the func...\n",
      "(94143, 1440) (25062, 1440)\n",
      "(94143, 146) (25062, 146)\n"
     ]
    },
    {
     "name": "stderr",
     "output_type": "stream",
     "text": [
      "INFO:counter:1/10 items complete (4.96 seconds/item, 00:00:44 remaining)\n",
      "INFO:counter:2/10 items complete (5.11 seconds/item, 00:00:40 remaining)\n",
      "INFO:counter:3/10 items complete (5.07 seconds/item, 00:00:35 remaining)\n",
      "INFO:counter:4/10 items complete (5.04 seconds/item, 00:00:30 remaining)\n",
      "INFO:counter:5/10 items complete (5.02 seconds/item, 00:00:25 remaining)\n",
      "INFO:counter:6/10 items complete (5.01 seconds/item, 00:00:20 remaining)\n",
      "INFO:counter:7/10 items complete (5.04 seconds/item, 00:00:15 remaining)\n",
      "INFO:counter:8/10 items complete (5.03 seconds/item, 00:00:10 remaining)\n",
      "INFO:counter:9/10 items complete (5.02 seconds/item, 00:00:05 remaining)\n",
      "INFO:counter:10/10 items complete (5.02 seconds/item, 00:00:00 remaining)\n"
     ]
    },
    {
     "name": "stdout",
     "output_type": "stream",
     "text": [
      "Cmode = False\n",
      "Number of time points is greater than the number of features\n",
      "stim shape (not cmode): \n",
      "(94143, 1440)\n",
      "Covmat shape: \n",
      "(1440, 1440)\n",
      "(1440, 1440) (1440, 94143) (94143, 146)\n",
      "wt shape:\n",
      "(1440, 146)\n",
      "(1440, 146)\n",
      "S0010 model1: Best alpha: 10000.0 (should be in between 0.0 and 10000.0)\n",
      "146 94143\n",
      "Using training/validation split passed into the func...\n",
      "(94143, 3680) (25062, 3680)\n",
      "(94143, 146) (25062, 146)\n"
     ]
    },
    {
     "name": "stderr",
     "output_type": "stream",
     "text": [
      "INFO:counter:1/10 items complete (17.12 seconds/item, 00:02:34 remaining)\n",
      "INFO:counter:2/10 items complete (16.98 seconds/item, 00:02:15 remaining)\n",
      "INFO:counter:3/10 items complete (16.94 seconds/item, 00:01:58 remaining)\n",
      "INFO:counter:4/10 items complete (16.96 seconds/item, 00:01:41 remaining)\n",
      "INFO:counter:5/10 items complete (17.02 seconds/item, 00:01:25 remaining)\n",
      "INFO:counter:6/10 items complete (17.02 seconds/item, 00:01:08 remaining)\n",
      "INFO:counter:7/10 items complete (17.06 seconds/item, 00:00:51 remaining)\n",
      "INFO:counter:8/10 items complete (17.04 seconds/item, 00:00:34 remaining)\n",
      "INFO:counter:9/10 items complete (17.08 seconds/item, 00:00:17 remaining)\n",
      "INFO:counter:10/10 items complete (17.09 seconds/item, 00:00:00 remaining)\n"
     ]
    },
    {
     "name": "stdout",
     "output_type": "stream",
     "text": [
      "Cmode = False\n",
      "Number of time points is greater than the number of features\n",
      "stim shape (not cmode): \n",
      "(94143, 3680)\n",
      "Covmat shape: \n",
      "(3680, 3680)\n",
      "(3680, 3680) (3680, 94143) (94143, 146)\n",
      "wt shape:\n",
      "(3680, 146)\n",
      "(3680, 146)\n",
      "S0010 model2: Best alpha: 10000.0 (should be in between 0.0 and 10000.0)\n",
      "146 94143\n",
      "Using training/validation split passed into the func...\n",
      "(94143, 1280) (25062, 1280)\n",
      "(94143, 146) (25062, 146)\n"
     ]
    },
    {
     "name": "stderr",
     "output_type": "stream",
     "text": [
      "INFO:counter:1/10 items complete (4.53 seconds/item, 00:00:40 remaining)\n",
      "INFO:counter:2/10 items complete (4.51 seconds/item, 00:00:36 remaining)\n",
      "INFO:counter:3/10 items complete (4.56 seconds/item, 00:00:31 remaining)\n",
      "INFO:counter:4/10 items complete (4.53 seconds/item, 00:00:27 remaining)\n",
      "INFO:counter:5/10 items complete (4.51 seconds/item, 00:00:22 remaining)\n",
      "INFO:counter:6/10 items complete (4.49 seconds/item, 00:00:17 remaining)\n",
      "INFO:counter:7/10 items complete (4.47 seconds/item, 00:00:13 remaining)\n",
      "INFO:counter:8/10 items complete (4.47 seconds/item, 00:00:08 remaining)\n",
      "INFO:counter:9/10 items complete (4.46 seconds/item, 00:00:04 remaining)\n",
      "INFO:counter:10/10 items complete (4.46 seconds/item, 00:00:00 remaining)\n"
     ]
    },
    {
     "name": "stdout",
     "output_type": "stream",
     "text": [
      "Cmode = False\n",
      "Number of time points is greater than the number of features\n",
      "stim shape (not cmode): \n",
      "(94143, 1280)\n",
      "Covmat shape: \n",
      "(1280, 1280)\n",
      "(1280, 1280) (1280, 94143) (94143, 146)\n",
      "wt shape:\n",
      "(1280, 146)\n",
      "(1280, 146)\n",
      "S0010 model3: Best alpha: 10000.0 (should be in between 0.0 and 10000.0)\n",
      "146 94143\n",
      "Using training/validation split passed into the func...\n",
      "(94143, 1280) (25062, 1280)\n",
      "(94143, 146) (25062, 146)\n"
     ]
    },
    {
     "name": "stderr",
     "output_type": "stream",
     "text": [
      "INFO:counter:1/10 items complete (4.35 seconds/item, 00:00:39 remaining)\n",
      "INFO:counter:2/10 items complete (4.35 seconds/item, 00:00:34 remaining)\n",
      "INFO:counter:3/10 items complete (4.39 seconds/item, 00:00:30 remaining)\n",
      "INFO:counter:4/10 items complete (4.41 seconds/item, 00:00:26 remaining)\n",
      "INFO:counter:5/10 items complete (4.44 seconds/item, 00:00:22 remaining)\n",
      "INFO:counter:6/10 items complete (4.45 seconds/item, 00:00:17 remaining)\n",
      "INFO:counter:7/10 items complete (4.45 seconds/item, 00:00:13 remaining)\n",
      "INFO:counter:8/10 items complete (4.45 seconds/item, 00:00:08 remaining)\n",
      "INFO:counter:9/10 items complete (4.48 seconds/item, 00:00:04 remaining)\n",
      "INFO:counter:10/10 items complete (4.49 seconds/item, 00:00:00 remaining)\n"
     ]
    },
    {
     "name": "stdout",
     "output_type": "stream",
     "text": [
      "Cmode = False\n",
      "Number of time points is greater than the number of features\n",
      "stim shape (not cmode): \n",
      "(94143, 1280)\n",
      "Covmat shape: \n",
      "(1280, 1280)\n",
      "(1280, 1280) (1280, 94143) (94143, 146)\n",
      "wt shape:\n",
      "(1280, 146)\n",
      "(1280, 146)\n",
      "S0010 model4: Best alpha: 1438.44988828766 (should be in between 0.0 and 10000.0)\n",
      "103 35764\n",
      "Using training/validation split passed into the func...\n",
      "(35764, 1440) (9646, 1440)\n",
      "(35764, 103) (9646, 103)\n"
     ]
    },
    {
     "name": "stderr",
     "output_type": "stream",
     "text": [
      "INFO:counter:1/10 items complete (1.90 seconds/item, 00:00:17 remaining)\n",
      "INFO:counter:2/10 items complete (1.79 seconds/item, 00:00:14 remaining)\n",
      "INFO:counter:3/10 items complete (1.76 seconds/item, 00:00:12 remaining)\n",
      "INFO:counter:4/10 items complete (1.74 seconds/item, 00:00:10 remaining)\n",
      "INFO:counter:5/10 items complete (1.72 seconds/item, 00:00:08 remaining)\n",
      "INFO:counter:6/10 items complete (1.72 seconds/item, 00:00:06 remaining)\n",
      "INFO:counter:7/10 items complete (1.72 seconds/item, 00:00:05 remaining)\n",
      "INFO:counter:8/10 items complete (1.71 seconds/item, 00:00:03 remaining)\n",
      "INFO:counter:9/10 items complete (1.71 seconds/item, 00:00:01 remaining)\n",
      "INFO:counter:10/10 items complete (1.71 seconds/item, 00:00:00 remaining)\n"
     ]
    },
    {
     "name": "stdout",
     "output_type": "stream",
     "text": [
      "Cmode = False\n",
      "Number of time points is greater than the number of features\n",
      "stim shape (not cmode): \n",
      "(35764, 1440)\n",
      "Covmat shape: \n",
      "(1440, 1440)\n",
      "(1440, 1440) (1440, 35764) (35764, 103)\n",
      "wt shape:\n",
      "(1440, 103)\n",
      "(1440, 103)\n",
      "S0014 model1: Best alpha: 1438.44988828766 (should be in between 0.0 and 10000.0)\n",
      "103 35764\n",
      "Using training/validation split passed into the func...\n",
      "(35764, 3680) (9646, 3680)\n",
      "(35764, 103) (9646, 103)\n"
     ]
    },
    {
     "name": "stderr",
     "output_type": "stream",
     "text": [
      "INFO:counter:1/10 items complete (8.61 seconds/item, 00:01:17 remaining)\n",
      "INFO:counter:2/10 items complete (8.45 seconds/item, 00:01:07 remaining)\n",
      "INFO:counter:3/10 items complete (8.34 seconds/item, 00:00:58 remaining)\n",
      "INFO:counter:4/10 items complete (8.28 seconds/item, 00:00:49 remaining)\n",
      "INFO:counter:5/10 items complete (8.24 seconds/item, 00:00:41 remaining)\n",
      "INFO:counter:6/10 items complete (8.23 seconds/item, 00:00:32 remaining)\n",
      "INFO:counter:7/10 items complete (8.22 seconds/item, 00:00:24 remaining)\n",
      "INFO:counter:8/10 items complete (8.20 seconds/item, 00:00:16 remaining)\n",
      "INFO:counter:9/10 items complete (8.20 seconds/item, 00:00:08 remaining)\n",
      "INFO:counter:10/10 items complete (8.19 seconds/item, 00:00:00 remaining)\n"
     ]
    },
    {
     "name": "stdout",
     "output_type": "stream",
     "text": [
      "Cmode = False\n",
      "Number of time points is greater than the number of features\n",
      "stim shape (not cmode): \n",
      "(35764, 3680)\n",
      "Covmat shape: \n",
      "(3680, 3680)\n",
      "(3680, 3680) (3680, 35764) (35764, 103)\n",
      "wt shape:\n",
      "(3680, 103)\n",
      "(3680, 103)\n",
      "S0014 model2: Best alpha: 3792.690190732246 (should be in between 0.0 and 10000.0)\n",
      "103 35764\n",
      "Using training/validation split passed into the func...\n",
      "(35764, 1280) (9646, 1280)\n",
      "(35764, 103) (9646, 103)\n"
     ]
    },
    {
     "name": "stderr",
     "output_type": "stream",
     "text": [
      "INFO:counter:1/10 items complete (1.49 seconds/item, 00:00:13 remaining)\n",
      "INFO:counter:2/10 items complete (1.50 seconds/item, 00:00:11 remaining)\n",
      "INFO:counter:3/10 items complete (1.50 seconds/item, 00:00:10 remaining)\n",
      "INFO:counter:4/10 items complete (1.50 seconds/item, 00:00:09 remaining)\n",
      "INFO:counter:5/10 items complete (1.51 seconds/item, 00:00:07 remaining)\n",
      "INFO:counter:6/10 items complete (1.51 seconds/item, 00:00:06 remaining)\n",
      "INFO:counter:7/10 items complete (1.51 seconds/item, 00:00:04 remaining)\n",
      "INFO:counter:8/10 items complete (1.51 seconds/item, 00:00:03 remaining)\n",
      "INFO:counter:9/10 items complete (1.53 seconds/item, 00:00:01 remaining)\n",
      "INFO:counter:10/10 items complete (1.53 seconds/item, 00:00:00 remaining)\n"
     ]
    },
    {
     "name": "stdout",
     "output_type": "stream",
     "text": [
      "Cmode = False\n",
      "Number of time points is greater than the number of features\n",
      "stim shape (not cmode): \n",
      "(35764, 1280)\n",
      "Covmat shape: \n",
      "(1280, 1280)\n",
      "(1280, 1280) (1280, 35764) (35764, 103)\n",
      "wt shape:\n",
      "(1280, 103)\n",
      "(1280, 103)\n",
      "S0014 model3: Best alpha: 545.5594781168514 (should be in between 0.0 and 10000.0)\n",
      "103 35764\n",
      "Using training/validation split passed into the func...\n",
      "(35764, 1280) (9646, 1280)\n",
      "(35764, 103) (9646, 103)\n"
     ]
    },
    {
     "name": "stderr",
     "output_type": "stream",
     "text": [
      "INFO:counter:1/10 items complete (1.52 seconds/item, 00:00:13 remaining)\n",
      "INFO:counter:2/10 items complete (1.50 seconds/item, 00:00:12 remaining)\n",
      "INFO:counter:3/10 items complete (1.50 seconds/item, 00:00:10 remaining)\n",
      "INFO:counter:4/10 items complete (1.50 seconds/item, 00:00:09 remaining)\n",
      "INFO:counter:5/10 items complete (1.50 seconds/item, 00:00:07 remaining)\n",
      "INFO:counter:6/10 items complete (1.51 seconds/item, 00:00:06 remaining)\n",
      "INFO:counter:7/10 items complete (1.51 seconds/item, 00:00:04 remaining)\n",
      "INFO:counter:8/10 items complete (1.50 seconds/item, 00:00:03 remaining)\n",
      "INFO:counter:9/10 items complete (1.50 seconds/item, 00:00:01 remaining)\n",
      "INFO:counter:10/10 items complete (1.50 seconds/item, 00:00:00 remaining)\n"
     ]
    },
    {
     "name": "stdout",
     "output_type": "stream",
     "text": [
      "Cmode = False\n",
      "Number of time points is greater than the number of features\n",
      "stim shape (not cmode): \n",
      "(35764, 1280)\n",
      "Covmat shape: \n",
      "(1280, 1280)\n",
      "(1280, 1280) (1280, 35764) (35764, 103)\n",
      "wt shape:\n",
      "(1280, 103)\n",
      "(1280, 103)\n",
      "S0014 model4: Best alpha: 206.913808111479 (should be in between 0.0 and 10000.0)\n",
      "121 34639\n",
      "Using training/validation split passed into the func...\n",
      "(34639, 1440) (9583, 1440)\n",
      "(34639, 121) (9583, 121)\n"
     ]
    },
    {
     "name": "stderr",
     "output_type": "stream",
     "text": [
      "INFO:counter:1/10 items complete (1.68 seconds/item, 00:00:15 remaining)\n",
      "INFO:counter:2/10 items complete (1.67 seconds/item, 00:00:13 remaining)\n",
      "INFO:counter:3/10 items complete (1.67 seconds/item, 00:00:11 remaining)\n",
      "INFO:counter:4/10 items complete (1.68 seconds/item, 00:00:10 remaining)\n",
      "INFO:counter:5/10 items complete (1.68 seconds/item, 00:00:08 remaining)\n",
      "INFO:counter:6/10 items complete (1.68 seconds/item, 00:00:06 remaining)\n",
      "INFO:counter:7/10 items complete (1.68 seconds/item, 00:00:05 remaining)\n",
      "INFO:counter:8/10 items complete (1.68 seconds/item, 00:00:03 remaining)\n",
      "INFO:counter:9/10 items complete (1.70 seconds/item, 00:00:01 remaining)\n",
      "INFO:counter:10/10 items complete (1.70 seconds/item, 00:00:00 remaining)\n"
     ]
    },
    {
     "name": "stdout",
     "output_type": "stream",
     "text": [
      "Cmode = False\n",
      "Number of time points is greater than the number of features\n",
      "stim shape (not cmode): \n",
      "(34639, 1440)\n",
      "Covmat shape: \n",
      "(1440, 1440)\n",
      "(1440, 1440) (1440, 34639) (34639, 121)\n",
      "wt shape:\n",
      "(1440, 121)\n",
      "(1440, 121)\n",
      "S0015 model1: Best alpha: 10000.0 (should be in between 0.0 and 10000.0)\n",
      "121 34639\n",
      "Using training/validation split passed into the func...\n",
      "(34639, 3680) (9583, 3680)\n",
      "(34639, 121) (9583, 121)\n"
     ]
    },
    {
     "name": "stderr",
     "output_type": "stream",
     "text": [
      "INFO:counter:1/10 items complete (8.02 seconds/item, 00:01:12 remaining)\n",
      "INFO:counter:2/10 items complete (8.03 seconds/item, 00:01:04 remaining)\n",
      "INFO:counter:3/10 items complete (8.05 seconds/item, 00:00:56 remaining)\n",
      "INFO:counter:4/10 items complete (8.04 seconds/item, 00:00:48 remaining)\n",
      "INFO:counter:5/10 items complete (8.04 seconds/item, 00:00:40 remaining)\n",
      "INFO:counter:6/10 items complete (8.05 seconds/item, 00:00:32 remaining)\n",
      "INFO:counter:7/10 items complete (8.04 seconds/item, 00:00:24 remaining)\n",
      "INFO:counter:8/10 items complete (8.03 seconds/item, 00:00:16 remaining)\n",
      "INFO:counter:9/10 items complete (8.02 seconds/item, 00:00:08 remaining)\n",
      "INFO:counter:10/10 items complete (8.02 seconds/item, 00:00:00 remaining)\n"
     ]
    },
    {
     "name": "stdout",
     "output_type": "stream",
     "text": [
      "Cmode = False\n",
      "Number of time points is greater than the number of features\n",
      "stim shape (not cmode): \n",
      "(34639, 3680)\n",
      "Covmat shape: \n",
      "(3680, 3680)\n",
      "(3680, 3680) (3680, 34639) (34639, 121)\n",
      "wt shape:\n",
      "(3680, 121)\n",
      "(3680, 121)\n",
      "S0015 model2: Best alpha: 10000.0 (should be in between 0.0 and 10000.0)\n",
      "121 34639\n",
      "Using training/validation split passed into the func...\n",
      "(34639, 1280) (9583, 1280)\n",
      "(34639, 121) (9583, 121)\n"
     ]
    },
    {
     "name": "stderr",
     "output_type": "stream",
     "text": [
      "INFO:counter:1/10 items complete (1.49 seconds/item, 00:00:13 remaining)\n",
      "INFO:counter:2/10 items complete (1.48 seconds/item, 00:00:11 remaining)\n",
      "INFO:counter:3/10 items complete (1.48 seconds/item, 00:00:10 remaining)\n",
      "INFO:counter:4/10 items complete (1.48 seconds/item, 00:00:08 remaining)\n",
      "INFO:counter:5/10 items complete (1.48 seconds/item, 00:00:07 remaining)\n",
      "INFO:counter:6/10 items complete (1.48 seconds/item, 00:00:05 remaining)\n",
      "INFO:counter:7/10 items complete (1.48 seconds/item, 00:00:04 remaining)\n",
      "INFO:counter:8/10 items complete (1.48 seconds/item, 00:00:02 remaining)\n",
      "INFO:counter:9/10 items complete (1.49 seconds/item, 00:00:01 remaining)\n",
      "INFO:counter:10/10 items complete (1.49 seconds/item, 00:00:00 remaining)\n"
     ]
    },
    {
     "name": "stdout",
     "output_type": "stream",
     "text": [
      "Cmode = False\n",
      "Number of time points is greater than the number of features\n",
      "stim shape (not cmode): \n",
      "(34639, 1280)\n",
      "Covmat shape: \n",
      "(1280, 1280)\n",
      "(1280, 1280) (1280, 34639) (34639, 121)\n",
      "wt shape:\n",
      "(1280, 121)\n",
      "(1280, 121)\n",
      "S0015 model3: Best alpha: 10000.0 (should be in between 0.0 and 10000.0)\n",
      "121 34639\n",
      "Using training/validation split passed into the func...\n",
      "(34639, 1280) (9583, 1280)\n",
      "(34639, 121) (9583, 121)\n"
     ]
    },
    {
     "name": "stderr",
     "output_type": "stream",
     "text": [
      "INFO:counter:1/10 items complete (1.48 seconds/item, 00:00:13 remaining)\n",
      "INFO:counter:2/10 items complete (1.47 seconds/item, 00:00:11 remaining)\n",
      "INFO:counter:3/10 items complete (1.48 seconds/item, 00:00:10 remaining)\n",
      "INFO:counter:4/10 items complete (1.48 seconds/item, 00:00:08 remaining)\n",
      "INFO:counter:5/10 items complete (1.48 seconds/item, 00:00:07 remaining)\n",
      "INFO:counter:6/10 items complete (1.48 seconds/item, 00:00:05 remaining)\n",
      "INFO:counter:7/10 items complete (1.48 seconds/item, 00:00:04 remaining)\n",
      "INFO:counter:8/10 items complete (1.48 seconds/item, 00:00:02 remaining)\n",
      "INFO:counter:9/10 items complete (1.49 seconds/item, 00:00:01 remaining)\n",
      "INFO:counter:10/10 items complete (1.50 seconds/item, 00:00:00 remaining)\n"
     ]
    },
    {
     "name": "stdout",
     "output_type": "stream",
     "text": [
      "Cmode = False\n",
      "Number of time points is greater than the number of features\n",
      "stim shape (not cmode): \n",
      "(34639, 1280)\n",
      "Covmat shape: \n",
      "(1280, 1280)\n",
      "(1280, 1280) (1280, 34639) (34639, 121)\n",
      "wt shape:\n",
      "(1280, 121)\n",
      "(1280, 121)\n",
      "S0015 model4: Best alpha: 10000.0 (should be in between 0.0 and 10000.0)\n",
      "125 47867\n",
      "Using training/validation split passed into the func...\n",
      "(47867, 1440) (13911, 1440)\n",
      "(47867, 125) (13911, 125)\n"
     ]
    },
    {
     "name": "stderr",
     "output_type": "stream",
     "text": [
      "INFO:counter:1/10 items complete (2.37 seconds/item, 00:00:21 remaining)\n",
      "INFO:counter:2/10 items complete (2.36 seconds/item, 00:00:18 remaining)\n",
      "INFO:counter:3/10 items complete (2.36 seconds/item, 00:00:16 remaining)\n",
      "INFO:counter:4/10 items complete (2.36 seconds/item, 00:00:14 remaining)\n",
      "INFO:counter:5/10 items complete (2.36 seconds/item, 00:00:11 remaining)\n",
      "INFO:counter:6/10 items complete (2.36 seconds/item, 00:00:09 remaining)\n",
      "INFO:counter:7/10 items complete (2.36 seconds/item, 00:00:07 remaining)\n",
      "INFO:counter:8/10 items complete (2.36 seconds/item, 00:00:04 remaining)\n",
      "INFO:counter:9/10 items complete (2.36 seconds/item, 00:00:02 remaining)\n",
      "INFO:counter:10/10 items complete (2.36 seconds/item, 00:00:00 remaining)\n"
     ]
    },
    {
     "name": "stdout",
     "output_type": "stream",
     "text": [
      "Cmode = False\n",
      "Number of time points is greater than the number of features\n",
      "stim shape (not cmode): \n",
      "(47867, 1440)\n",
      "Covmat shape: \n",
      "(1440, 1440)\n",
      "(1440, 1440) (1440, 47867) (47867, 125)\n",
      "wt shape:\n",
      "(1440, 125)\n",
      "(1440, 125)\n",
      "S0017 model1: Best alpha: 10000.0 (should be in between 0.0 and 10000.0)\n",
      "125 47867\n",
      "Using training/validation split passed into the func...\n",
      "(47867, 3680) (13911, 3680)\n",
      "(47867, 125) (13911, 125)\n"
     ]
    },
    {
     "name": "stderr",
     "output_type": "stream",
     "text": [
      "INFO:counter:1/10 items complete (9.93 seconds/item, 00:01:29 remaining)\n",
      "INFO:counter:2/10 items complete (9.99 seconds/item, 00:01:19 remaining)\n",
      "INFO:counter:3/10 items complete (9.98 seconds/item, 00:01:09 remaining)\n",
      "INFO:counter:4/10 items complete (9.96 seconds/item, 00:00:59 remaining)\n",
      "INFO:counter:5/10 items complete (9.95 seconds/item, 00:00:49 remaining)\n",
      "INFO:counter:6/10 items complete (9.95 seconds/item, 00:00:39 remaining)\n",
      "INFO:counter:7/10 items complete (9.94 seconds/item, 00:00:29 remaining)\n",
      "INFO:counter:8/10 items complete (9.95 seconds/item, 00:00:19 remaining)\n",
      "INFO:counter:9/10 items complete (9.94 seconds/item, 00:00:09 remaining)\n",
      "INFO:counter:10/10 items complete (9.97 seconds/item, 00:00:00 remaining)\n"
     ]
    },
    {
     "name": "stdout",
     "output_type": "stream",
     "text": [
      "Cmode = False\n",
      "Number of time points is greater than the number of features\n",
      "stim shape (not cmode): \n",
      "(47867, 3680)\n",
      "Covmat shape: \n",
      "(3680, 3680)\n",
      "(3680, 3680) (3680, 47867) (47867, 125)\n",
      "wt shape:\n",
      "(3680, 125)\n",
      "(3680, 125)\n",
      "S0017 model2: Best alpha: 10000.0 (should be in between 0.0 and 10000.0)\n",
      "125 47867\n",
      "Using training/validation split passed into the func...\n",
      "(47867, 1280) (13911, 1280)\n",
      "(47867, 125) (13911, 125)\n"
     ]
    },
    {
     "name": "stderr",
     "output_type": "stream",
     "text": [
      "INFO:counter:1/10 items complete (2.07 seconds/item, 00:00:18 remaining)\n",
      "INFO:counter:2/10 items complete (2.07 seconds/item, 00:00:16 remaining)\n",
      "INFO:counter:3/10 items complete (2.07 seconds/item, 00:00:14 remaining)\n",
      "INFO:counter:4/10 items complete (2.07 seconds/item, 00:00:12 remaining)\n",
      "INFO:counter:5/10 items complete (2.07 seconds/item, 00:00:10 remaining)\n",
      "INFO:counter:6/10 items complete (2.07 seconds/item, 00:00:08 remaining)\n",
      "INFO:counter:7/10 items complete (2.07 seconds/item, 00:00:06 remaining)\n",
      "INFO:counter:8/10 items complete (2.07 seconds/item, 00:00:04 remaining)\n",
      "INFO:counter:9/10 items complete (2.07 seconds/item, 00:00:02 remaining)\n",
      "INFO:counter:10/10 items complete (2.07 seconds/item, 00:00:00 remaining)\n"
     ]
    },
    {
     "name": "stdout",
     "output_type": "stream",
     "text": [
      "Cmode = False\n",
      "Number of time points is greater than the number of features\n",
      "stim shape (not cmode): \n",
      "(47867, 1280)\n",
      "Covmat shape: \n",
      "(1280, 1280)\n",
      "(1280, 1280) (1280, 47867) (47867, 125)\n",
      "wt shape:\n",
      "(1280, 125)\n",
      "(1280, 125)\n",
      "S0017 model3: Best alpha: 10000.0 (should be in between 0.0 and 10000.0)\n",
      "125 47867\n",
      "Using training/validation split passed into the func...\n",
      "(47867, 1280) (13911, 1280)\n",
      "(47867, 125) (13911, 125)\n"
     ]
    },
    {
     "name": "stderr",
     "output_type": "stream",
     "text": [
      "INFO:counter:1/10 items complete (2.07 seconds/item, 00:00:18 remaining)\n",
      "INFO:counter:2/10 items complete (2.07 seconds/item, 00:00:16 remaining)\n",
      "INFO:counter:3/10 items complete (2.12 seconds/item, 00:00:14 remaining)\n",
      "INFO:counter:4/10 items complete (2.11 seconds/item, 00:00:12 remaining)\n",
      "INFO:counter:5/10 items complete (2.15 seconds/item, 00:00:10 remaining)\n",
      "INFO:counter:6/10 items complete (2.14 seconds/item, 00:00:08 remaining)\n",
      "INFO:counter:7/10 items complete (2.14 seconds/item, 00:00:06 remaining)\n",
      "INFO:counter:8/10 items complete (2.13 seconds/item, 00:00:04 remaining)\n",
      "INFO:counter:9/10 items complete (2.13 seconds/item, 00:00:02 remaining)\n",
      "INFO:counter:10/10 items complete (2.13 seconds/item, 00:00:00 remaining)\n"
     ]
    },
    {
     "name": "stdout",
     "output_type": "stream",
     "text": [
      "Cmode = False\n",
      "Number of time points is greater than the number of features\n",
      "stim shape (not cmode): \n",
      "(47867, 1280)\n",
      "Covmat shape: \n",
      "(1280, 1280)\n",
      "(1280, 1280) (1280, 47867) (47867, 125)\n",
      "wt shape:\n",
      "(1280, 125)\n",
      "(1280, 125)\n",
      "S0017 model4: Best alpha: 10000.0 (should be in between 0.0 and 10000.0)\n",
      "142 104872\n",
      "Using training/validation split passed into the func...\n",
      "(104872, 1440) (25803, 1440)\n",
      "(104872, 142) (25803, 142)\n"
     ]
    },
    {
     "name": "stderr",
     "output_type": "stream",
     "text": [
      "INFO:counter:1/10 items complete (5.60 seconds/item, 00:00:50 remaining)\n",
      "INFO:counter:2/10 items complete (5.57 seconds/item, 00:00:44 remaining)\n",
      "INFO:counter:3/10 items complete (5.58 seconds/item, 00:00:39 remaining)\n",
      "INFO:counter:4/10 items complete (5.54 seconds/item, 00:00:33 remaining)\n",
      "INFO:counter:5/10 items complete (5.52 seconds/item, 00:00:27 remaining)\n",
      "INFO:counter:6/10 items complete (5.52 seconds/item, 00:00:22 remaining)\n",
      "INFO:counter:7/10 items complete (5.52 seconds/item, 00:00:16 remaining)\n",
      "INFO:counter:8/10 items complete (5.52 seconds/item, 00:00:11 remaining)\n",
      "INFO:counter:9/10 items complete (5.54 seconds/item, 00:00:05 remaining)\n",
      "INFO:counter:10/10 items complete (5.54 seconds/item, 00:00:00 remaining)\n"
     ]
    },
    {
     "name": "stdout",
     "output_type": "stream",
     "text": [
      "Cmode = False\n",
      "Number of time points is greater than the number of features\n",
      "stim shape (not cmode): \n",
      "(104872, 1440)\n",
      "Covmat shape: \n",
      "(1440, 1440)\n",
      "(1440, 1440) (1440, 104872) (104872, 142)\n",
      "wt shape:\n",
      "(1440, 142)\n",
      "(1440, 142)\n",
      "S0018 model1: Best alpha: 10000.0 (should be in between 0.0 and 10000.0)\n",
      "142 104872\n",
      "Using training/validation split passed into the func...\n",
      "(104872, 3680) (25803, 3680)\n",
      "(104872, 142) (25803, 142)\n"
     ]
    },
    {
     "name": "stderr",
     "output_type": "stream",
     "text": [
      "INFO:counter:1/10 items complete (18.52 seconds/item, 00:02:46 remaining)\n",
      "INFO:counter:2/10 items complete (18.47 seconds/item, 00:02:27 remaining)\n",
      "INFO:counter:3/10 items complete (18.41 seconds/item, 00:02:08 remaining)\n",
      "INFO:counter:4/10 items complete (18.38 seconds/item, 00:01:50 remaining)\n",
      "INFO:counter:5/10 items complete (18.35 seconds/item, 00:01:31 remaining)\n",
      "INFO:counter:6/10 items complete (18.38 seconds/item, 00:01:13 remaining)\n",
      "INFO:counter:7/10 items complete (18.44 seconds/item, 00:00:55 remaining)\n",
      "INFO:counter:8/10 items complete (18.44 seconds/item, 00:00:36 remaining)\n",
      "INFO:counter:9/10 items complete (18.44 seconds/item, 00:00:18 remaining)\n",
      "INFO:counter:10/10 items complete (18.42 seconds/item, 00:00:00 remaining)\n"
     ]
    },
    {
     "name": "stdout",
     "output_type": "stream",
     "text": [
      "Cmode = False\n",
      "Number of time points is greater than the number of features\n",
      "stim shape (not cmode): \n",
      "(104872, 3680)\n",
      "Covmat shape: \n",
      "(3680, 3680)\n",
      "(3680, 3680) (3680, 104872) (104872, 142)\n",
      "wt shape:\n",
      "(3680, 142)\n",
      "(3680, 142)\n",
      "S0018 model2: Best alpha: 10000.0 (should be in between 0.0 and 10000.0)\n",
      "142 104872\n",
      "Using training/validation split passed into the func...\n",
      "(104872, 1280) (25803, 1280)\n",
      "(104872, 142) (25803, 142)\n"
     ]
    },
    {
     "name": "stderr",
     "output_type": "stream",
     "text": [
      "INFO:counter:1/10 items complete (5.02 seconds/item, 00:00:45 remaining)\n",
      "INFO:counter:2/10 items complete (5.06 seconds/item, 00:00:40 remaining)\n",
      "INFO:counter:3/10 items complete (5.06 seconds/item, 00:00:35 remaining)\n",
      "INFO:counter:4/10 items complete (5.03 seconds/item, 00:00:30 remaining)\n",
      "INFO:counter:5/10 items complete (5.01 seconds/item, 00:00:25 remaining)\n",
      "INFO:counter:6/10 items complete (5.02 seconds/item, 00:00:20 remaining)\n",
      "INFO:counter:7/10 items complete (5.03 seconds/item, 00:00:15 remaining)\n",
      "INFO:counter:8/10 items complete (5.03 seconds/item, 00:00:10 remaining)\n",
      "INFO:counter:9/10 items complete (5.04 seconds/item, 00:00:05 remaining)\n",
      "INFO:counter:10/10 items complete (5.04 seconds/item, 00:00:00 remaining)\n"
     ]
    },
    {
     "name": "stdout",
     "output_type": "stream",
     "text": [
      "Cmode = False\n",
      "Number of time points is greater than the number of features\n",
      "stim shape (not cmode): \n",
      "(104872, 1280)\n",
      "Covmat shape: \n",
      "(1280, 1280)\n",
      "(1280, 1280) (1280, 104872) (104872, 142)\n",
      "wt shape:\n",
      "(1280, 142)\n",
      "(1280, 142)\n",
      "S0018 model3: Best alpha: 10000.0 (should be in between 0.0 and 10000.0)\n",
      "142 104872\n",
      "Using training/validation split passed into the func...\n",
      "(104872, 1280) (25803, 1280)\n",
      "(104872, 142) (25803, 142)\n"
     ]
    },
    {
     "name": "stderr",
     "output_type": "stream",
     "text": [
      "INFO:counter:1/10 items complete (4.95 seconds/item, 00:00:44 remaining)\n",
      "INFO:counter:2/10 items complete (4.94 seconds/item, 00:00:39 remaining)\n",
      "INFO:counter:3/10 items complete (4.94 seconds/item, 00:00:34 remaining)\n",
      "INFO:counter:4/10 items complete (4.98 seconds/item, 00:00:29 remaining)\n",
      "INFO:counter:5/10 items complete (4.99 seconds/item, 00:00:24 remaining)\n",
      "INFO:counter:6/10 items complete (4.99 seconds/item, 00:00:19 remaining)\n",
      "INFO:counter:7/10 items complete (4.98 seconds/item, 00:00:14 remaining)\n",
      "INFO:counter:8/10 items complete (4.98 seconds/item, 00:00:09 remaining)\n",
      "INFO:counter:9/10 items complete (4.98 seconds/item, 00:00:04 remaining)\n",
      "INFO:counter:10/10 items complete (4.98 seconds/item, 00:00:00 remaining)\n"
     ]
    },
    {
     "name": "stdout",
     "output_type": "stream",
     "text": [
      "Cmode = False\n",
      "Number of time points is greater than the number of features\n",
      "stim shape (not cmode): \n",
      "(104872, 1280)\n",
      "Covmat shape: \n",
      "(1280, 1280)\n",
      "(1280, 1280) (1280, 104872) (104872, 142)\n",
      "wt shape:\n",
      "(1280, 142)\n",
      "(1280, 142)\n",
      "S0018 model4: Best alpha: 10000.0 (should be in between 0.0 and 10000.0)\n",
      "100 92658\n",
      "Using training/validation split passed into the func...\n",
      "(92658, 1440) (22154, 1440)\n",
      "(92658, 100) (22154, 100)\n"
     ]
    },
    {
     "name": "stderr",
     "output_type": "stream",
     "text": [
      "INFO:counter:1/10 items complete (4.44 seconds/item, 00:00:39 remaining)\n",
      "INFO:counter:2/10 items complete (4.47 seconds/item, 00:00:35 remaining)\n",
      "INFO:counter:3/10 items complete (4.46 seconds/item, 00:00:31 remaining)\n",
      "INFO:counter:4/10 items complete (4.45 seconds/item, 00:00:26 remaining)\n",
      "INFO:counter:5/10 items complete (4.46 seconds/item, 00:00:22 remaining)\n",
      "INFO:counter:6/10 items complete (4.46 seconds/item, 00:00:17 remaining)\n",
      "INFO:counter:7/10 items complete (4.46 seconds/item, 00:00:13 remaining)\n",
      "INFO:counter:8/10 items complete (4.46 seconds/item, 00:00:08 remaining)\n",
      "INFO:counter:9/10 items complete (4.45 seconds/item, 00:00:04 remaining)\n",
      "INFO:counter:10/10 items complete (4.45 seconds/item, 00:00:00 remaining)\n"
     ]
    },
    {
     "name": "stdout",
     "output_type": "stream",
     "text": [
      "Cmode = False\n",
      "Number of time points is greater than the number of features\n",
      "stim shape (not cmode): \n",
      "(92658, 1440)\n",
      "Covmat shape: \n",
      "(1440, 1440)\n",
      "(1440, 1440) (1440, 92658) (92658, 100)\n",
      "wt shape:\n",
      "(1440, 100)\n",
      "(1440, 100)\n",
      "S0019 model1: Best alpha: 1438.44988828766 (should be in between 0.0 and 10000.0)\n",
      "100 92658\n",
      "Using training/validation split passed into the func...\n",
      "(92658, 3680) (22154, 3680)\n",
      "(92658, 100) (22154, 100)\n"
     ]
    },
    {
     "name": "stderr",
     "output_type": "stream",
     "text": [
      "INFO:counter:1/10 items complete (15.98 seconds/item, 00:02:23 remaining)\n",
      "INFO:counter:2/10 items complete (15.79 seconds/item, 00:02:06 remaining)\n",
      "INFO:counter:3/10 items complete (15.85 seconds/item, 00:01:50 remaining)\n",
      "INFO:counter:4/10 items complete (15.93 seconds/item, 00:01:35 remaining)\n",
      "INFO:counter:5/10 items complete (15.93 seconds/item, 00:01:19 remaining)\n",
      "INFO:counter:6/10 items complete (15.93 seconds/item, 00:01:03 remaining)\n",
      "INFO:counter:7/10 items complete (15.98 seconds/item, 00:00:47 remaining)\n",
      "INFO:counter:8/10 items complete (15.99 seconds/item, 00:00:31 remaining)\n",
      "INFO:counter:9/10 items complete (15.97 seconds/item, 00:00:15 remaining)\n",
      "INFO:counter:10/10 items complete (15.95 seconds/item, 00:00:00 remaining)\n"
     ]
    },
    {
     "name": "stdout",
     "output_type": "stream",
     "text": [
      "Cmode = False\n",
      "Number of time points is greater than the number of features\n",
      "stim shape (not cmode): \n",
      "(92658, 3680)\n",
      "Covmat shape: \n",
      "(3680, 3680)\n",
      "(3680, 3680) (3680, 92658) (92658, 100)\n",
      "wt shape:\n",
      "(3680, 100)\n",
      "(3680, 100)\n",
      "S0019 model2: Best alpha: 1438.44988828766 (should be in between 0.0 and 10000.0)\n",
      "100 92658\n",
      "Using training/validation split passed into the func...\n",
      "(92658, 1280) (22154, 1280)\n",
      "(92658, 100) (22154, 100)\n"
     ]
    },
    {
     "name": "stderr",
     "output_type": "stream",
     "text": [
      "INFO:counter:1/10 items complete (4.15 seconds/item, 00:00:37 remaining)\n",
      "INFO:counter:2/10 items complete (4.07 seconds/item, 00:00:32 remaining)\n",
      "INFO:counter:3/10 items complete (4.28 seconds/item, 00:00:29 remaining)\n",
      "INFO:counter:4/10 items complete (4.38 seconds/item, 00:00:26 remaining)\n",
      "INFO:counter:5/10 items complete (4.50 seconds/item, 00:00:22 remaining)\n",
      "INFO:counter:6/10 items complete (4.49 seconds/item, 00:00:17 remaining)\n",
      "INFO:counter:7/10 items complete (4.54 seconds/item, 00:00:13 remaining)\n",
      "INFO:counter:8/10 items complete (4.48 seconds/item, 00:00:08 remaining)\n",
      "INFO:counter:9/10 items complete (4.45 seconds/item, 00:00:04 remaining)\n",
      "INFO:counter:10/10 items complete (4.41 seconds/item, 00:00:00 remaining)\n"
     ]
    },
    {
     "name": "stdout",
     "output_type": "stream",
     "text": [
      "Cmode = False\n",
      "Number of time points is greater than the number of features\n",
      "stim shape (not cmode): \n",
      "(92658, 1280)\n",
      "Covmat shape: \n",
      "(1280, 1280)\n",
      "(1280, 1280) (1280, 92658) (92658, 100)\n",
      "wt shape:\n",
      "(1280, 100)\n",
      "(1280, 100)\n",
      "S0019 model3: Best alpha: 1438.44988828766 (should be in between 0.0 and 10000.0)\n",
      "100 92658\n",
      "Using training/validation split passed into the func...\n",
      "(92658, 1280) (22154, 1280)\n",
      "(92658, 100) (22154, 100)\n"
     ]
    },
    {
     "name": "stderr",
     "output_type": "stream",
     "text": [
      "INFO:counter:1/10 items complete (4.13 seconds/item, 00:00:37 remaining)\n",
      "INFO:counter:2/10 items complete (4.17 seconds/item, 00:00:33 remaining)\n",
      "INFO:counter:3/10 items complete (4.20 seconds/item, 00:00:29 remaining)\n",
      "INFO:counter:4/10 items complete (4.21 seconds/item, 00:00:25 remaining)\n",
      "INFO:counter:5/10 items complete (4.23 seconds/item, 00:00:21 remaining)\n",
      "INFO:counter:6/10 items complete (4.21 seconds/item, 00:00:16 remaining)\n",
      "INFO:counter:7/10 items complete (4.21 seconds/item, 00:00:12 remaining)\n",
      "INFO:counter:8/10 items complete (4.22 seconds/item, 00:00:08 remaining)\n",
      "INFO:counter:9/10 items complete (4.22 seconds/item, 00:00:04 remaining)\n",
      "INFO:counter:10/10 items complete (4.22 seconds/item, 00:00:00 remaining)\n"
     ]
    },
    {
     "name": "stdout",
     "output_type": "stream",
     "text": [
      "Cmode = False\n",
      "Number of time points is greater than the number of features\n",
      "stim shape (not cmode): \n",
      "(92658, 1280)\n",
      "Covmat shape: \n",
      "(1280, 1280)\n",
      "(1280, 1280) (1280, 92658) (92658, 100)\n",
      "wt shape:\n",
      "(1280, 100)\n",
      "(1280, 100)\n",
      "S0019 model4: Best alpha: 206.913808111479 (should be in between 0.0 and 10000.0)\n",
      "106 103951\n",
      "Using training/validation split passed into the func...\n",
      "(103951, 1440) (27379, 1440)\n",
      "(103951, 106) (27379, 106)\n"
     ]
    },
    {
     "name": "stderr",
     "output_type": "stream",
     "text": [
      "INFO:counter:1/10 items complete (5.43 seconds/item, 00:00:48 remaining)\n",
      "INFO:counter:2/10 items complete (5.41 seconds/item, 00:00:43 remaining)\n",
      "INFO:counter:3/10 items complete (5.45 seconds/item, 00:00:38 remaining)\n",
      "INFO:counter:4/10 items complete (5.41 seconds/item, 00:00:32 remaining)\n",
      "INFO:counter:5/10 items complete (5.39 seconds/item, 00:00:26 remaining)\n",
      "INFO:counter:6/10 items complete (5.37 seconds/item, 00:00:21 remaining)\n",
      "INFO:counter:7/10 items complete (5.36 seconds/item, 00:00:16 remaining)\n",
      "INFO:counter:8/10 items complete (5.35 seconds/item, 00:00:10 remaining)\n",
      "INFO:counter:9/10 items complete (5.35 seconds/item, 00:00:05 remaining)\n",
      "INFO:counter:10/10 items complete (5.35 seconds/item, 00:00:00 remaining)\n"
     ]
    },
    {
     "name": "stdout",
     "output_type": "stream",
     "text": [
      "Cmode = False\n",
      "Number of time points is greater than the number of features\n",
      "stim shape (not cmode): \n",
      "(103951, 1440)\n",
      "Covmat shape: \n",
      "(1440, 1440)\n",
      "(1440, 1440) (1440, 103951) (103951, 106)\n",
      "wt shape:\n",
      "(1440, 106)\n",
      "(1440, 106)\n",
      "S0020 model1: Best alpha: 1438.44988828766 (should be in between 0.0 and 10000.0)\n",
      "106 103951\n",
      "Using training/validation split passed into the func...\n",
      "(103951, 3680) (27379, 3680)\n",
      "(103951, 106) (27379, 106)\n"
     ]
    },
    {
     "name": "stderr",
     "output_type": "stream",
     "text": [
      "INFO:counter:1/10 items complete (17.14 seconds/item, 00:02:34 remaining)\n",
      "INFO:counter:2/10 items complete (17.16 seconds/item, 00:02:17 remaining)\n",
      "INFO:counter:3/10 items complete (17.15 seconds/item, 00:02:00 remaining)\n",
      "INFO:counter:4/10 items complete (17.10 seconds/item, 00:01:42 remaining)\n",
      "INFO:counter:5/10 items complete (17.10 seconds/item, 00:01:25 remaining)\n",
      "INFO:counter:6/10 items complete (17.16 seconds/item, 00:01:08 remaining)\n",
      "INFO:counter:7/10 items complete (17.20 seconds/item, 00:00:51 remaining)\n",
      "INFO:counter:8/10 items complete (17.29 seconds/item, 00:00:34 remaining)\n",
      "INFO:counter:9/10 items complete (17.33 seconds/item, 00:00:17 remaining)\n",
      "INFO:counter:10/10 items complete (17.32 seconds/item, 00:00:00 remaining)\n"
     ]
    },
    {
     "name": "stdout",
     "output_type": "stream",
     "text": [
      "Cmode = False\n",
      "Number of time points is greater than the number of features\n",
      "stim shape (not cmode): \n",
      "(103951, 3680)\n",
      "Covmat shape: \n",
      "(3680, 3680)\n",
      "(3680, 3680) (3680, 103951) (103951, 106)\n",
      "wt shape:\n",
      "(3680, 106)\n",
      "(3680, 106)\n",
      "S0020 model2: Best alpha: 3792.690190732246 (should be in between 0.0 and 10000.0)\n",
      "106 103951\n",
      "Using training/validation split passed into the func...\n",
      "(103951, 1280) (27379, 1280)\n",
      "(103951, 106) (27379, 106)\n"
     ]
    },
    {
     "name": "stderr",
     "output_type": "stream",
     "text": [
      "INFO:counter:1/10 items complete (4.56 seconds/item, 00:00:41 remaining)\n",
      "INFO:counter:2/10 items complete (4.54 seconds/item, 00:00:36 remaining)\n",
      "INFO:counter:3/10 items complete (4.55 seconds/item, 00:00:31 remaining)\n",
      "INFO:counter:4/10 items complete (4.55 seconds/item, 00:00:27 remaining)\n",
      "INFO:counter:5/10 items complete (4.56 seconds/item, 00:00:22 remaining)\n",
      "INFO:counter:6/10 items complete (4.55 seconds/item, 00:00:18 remaining)\n",
      "INFO:counter:7/10 items complete (4.54 seconds/item, 00:00:13 remaining)\n",
      "INFO:counter:8/10 items complete (4.54 seconds/item, 00:00:09 remaining)\n",
      "INFO:counter:9/10 items complete (4.54 seconds/item, 00:00:04 remaining)\n",
      "INFO:counter:10/10 items complete (4.53 seconds/item, 00:00:00 remaining)\n"
     ]
    },
    {
     "name": "stdout",
     "output_type": "stream",
     "text": [
      "Cmode = False\n",
      "Number of time points is greater than the number of features\n",
      "stim shape (not cmode): \n",
      "(103951, 1280)\n",
      "Covmat shape: \n",
      "(1280, 1280)\n",
      "(1280, 1280) (1280, 103951) (103951, 106)\n",
      "wt shape:\n",
      "(1280, 106)\n",
      "(1280, 106)\n",
      "S0020 model3: Best alpha: 545.5594781168514 (should be in between 0.0 and 10000.0)\n",
      "106 103951\n",
      "Using training/validation split passed into the func...\n",
      "(103951, 1280) (27379, 1280)\n",
      "(103951, 106) (27379, 106)\n"
     ]
    },
    {
     "name": "stderr",
     "output_type": "stream",
     "text": [
      "INFO:counter:1/10 items complete (4.52 seconds/item, 00:00:40 remaining)\n",
      "INFO:counter:2/10 items complete (4.53 seconds/item, 00:00:36 remaining)\n",
      "INFO:counter:3/10 items complete (4.55 seconds/item, 00:00:31 remaining)\n",
      "INFO:counter:4/10 items complete (4.57 seconds/item, 00:00:27 remaining)\n",
      "INFO:counter:5/10 items complete (4.57 seconds/item, 00:00:22 remaining)\n",
      "INFO:counter:6/10 items complete (4.56 seconds/item, 00:00:18 remaining)\n",
      "INFO:counter:7/10 items complete (4.56 seconds/item, 00:00:13 remaining)\n",
      "INFO:counter:8/10 items complete (4.55 seconds/item, 00:00:09 remaining)\n",
      "INFO:counter:9/10 items complete (4.55 seconds/item, 00:00:04 remaining)\n",
      "INFO:counter:10/10 items complete (4.55 seconds/item, 00:00:00 remaining)\n"
     ]
    },
    {
     "name": "stdout",
     "output_type": "stream",
     "text": [
      "Cmode = False\n",
      "Number of time points is greater than the number of features\n",
      "stim shape (not cmode): \n",
      "(103951, 1280)\n",
      "Covmat shape: \n",
      "(1280, 1280)\n",
      "(1280, 1280) (1280, 103951) (103951, 106)\n",
      "wt shape:\n",
      "(1280, 106)\n",
      "(1280, 106)\n",
      "S0020 model4: Best alpha: 78.47599703514607 (should be in between 0.0 and 10000.0)\n",
      "108 54808\n",
      "Using training/validation split passed into the func...\n",
      "(54808, 1440) (19114, 1440)\n",
      "(54808, 108) (19114, 108)\n"
     ]
    },
    {
     "name": "stderr",
     "output_type": "stream",
     "text": [
      "INFO:counter:1/10 items complete (2.61 seconds/item, 00:00:23 remaining)\n",
      "INFO:counter:2/10 items complete (2.63 seconds/item, 00:00:21 remaining)\n",
      "INFO:counter:3/10 items complete (2.63 seconds/item, 00:00:18 remaining)\n",
      "INFO:counter:4/10 items complete (2.70 seconds/item, 00:00:16 remaining)\n",
      "INFO:counter:5/10 items complete (2.69 seconds/item, 00:00:13 remaining)\n",
      "INFO:counter:6/10 items complete (2.68 seconds/item, 00:00:10 remaining)\n",
      "INFO:counter:7/10 items complete (2.67 seconds/item, 00:00:08 remaining)\n",
      "INFO:counter:8/10 items complete (2.67 seconds/item, 00:00:05 remaining)\n",
      "INFO:counter:9/10 items complete (2.67 seconds/item, 00:00:02 remaining)\n",
      "INFO:counter:10/10 items complete (2.66 seconds/item, 00:00:00 remaining)\n"
     ]
    },
    {
     "name": "stdout",
     "output_type": "stream",
     "text": [
      "Cmode = False\n",
      "Number of time points is greater than the number of features\n",
      "stim shape (not cmode): \n",
      "(54808, 1440)\n",
      "Covmat shape: \n",
      "(1440, 1440)\n",
      "(1440, 1440) (1440, 54808) (54808, 108)\n",
      "wt shape:\n",
      "(1440, 108)\n",
      "(1440, 108)\n",
      "S0021 model1: Best alpha: 10000.0 (should be in between 0.0 and 10000.0)\n",
      "108 54808\n",
      "Using training/validation split passed into the func...\n",
      "(54808, 3680) (19114, 3680)\n",
      "(54808, 108) (19114, 108)\n"
     ]
    },
    {
     "name": "stderr",
     "output_type": "stream",
     "text": [
      "INFO:counter:1/10 items complete (10.72 seconds/item, 00:01:36 remaining)\n",
      "INFO:counter:2/10 items complete (10.69 seconds/item, 00:01:25 remaining)\n",
      "INFO:counter:3/10 items complete (10.68 seconds/item, 00:01:14 remaining)\n",
      "INFO:counter:4/10 items complete (10.67 seconds/item, 00:01:04 remaining)\n",
      "INFO:counter:5/10 items complete (10.69 seconds/item, 00:00:53 remaining)\n",
      "INFO:counter:6/10 items complete (10.68 seconds/item, 00:00:42 remaining)\n",
      "INFO:counter:7/10 items complete (10.69 seconds/item, 00:00:32 remaining)\n",
      "INFO:counter:8/10 items complete (10.68 seconds/item, 00:00:21 remaining)\n",
      "INFO:counter:9/10 items complete (10.67 seconds/item, 00:00:10 remaining)\n",
      "INFO:counter:10/10 items complete (10.70 seconds/item, 00:00:00 remaining)\n"
     ]
    },
    {
     "name": "stdout",
     "output_type": "stream",
     "text": [
      "Cmode = False\n",
      "Number of time points is greater than the number of features\n",
      "stim shape (not cmode): \n",
      "(54808, 3680)\n",
      "Covmat shape: \n",
      "(3680, 3680)\n",
      "(3680, 3680) (3680, 54808) (54808, 108)\n",
      "wt shape:\n",
      "(3680, 108)\n",
      "(3680, 108)\n",
      "S0021 model2: Best alpha: 10000.0 (should be in between 0.0 and 10000.0)\n",
      "108 54808\n",
      "Using training/validation split passed into the func...\n",
      "(54808, 1280) (19114, 1280)\n",
      "(54808, 108) (19114, 108)\n"
     ]
    },
    {
     "name": "stderr",
     "output_type": "stream",
     "text": [
      "INFO:counter:1/10 items complete (2.40 seconds/item, 00:00:21 remaining)\n",
      "INFO:counter:2/10 items complete (2.35 seconds/item, 00:00:18 remaining)\n",
      "INFO:counter:3/10 items complete (2.34 seconds/item, 00:00:16 remaining)\n",
      "INFO:counter:4/10 items complete (2.34 seconds/item, 00:00:14 remaining)\n",
      "INFO:counter:5/10 items complete (2.35 seconds/item, 00:00:11 remaining)\n",
      "INFO:counter:6/10 items complete (2.35 seconds/item, 00:00:09 remaining)\n",
      "INFO:counter:7/10 items complete (2.35 seconds/item, 00:00:07 remaining)\n",
      "INFO:counter:8/10 items complete (2.35 seconds/item, 00:00:04 remaining)\n",
      "INFO:counter:9/10 items complete (2.36 seconds/item, 00:00:02 remaining)\n",
      "INFO:counter:10/10 items complete (2.36 seconds/item, 00:00:00 remaining)\n"
     ]
    },
    {
     "name": "stdout",
     "output_type": "stream",
     "text": [
      "Cmode = False\n",
      "Number of time points is greater than the number of features\n",
      "stim shape (not cmode): \n",
      "(54808, 1280)\n",
      "Covmat shape: \n",
      "(1280, 1280)\n",
      "(1280, 1280) (1280, 54808) (54808, 108)\n",
      "wt shape:\n",
      "(1280, 108)\n",
      "(1280, 108)\n",
      "S0021 model3: Best alpha: 3792.690190732246 (should be in between 0.0 and 10000.0)\n",
      "108 54808\n",
      "Using training/validation split passed into the func...\n",
      "(54808, 1280) (19114, 1280)\n",
      "(54808, 108) (19114, 108)\n"
     ]
    },
    {
     "name": "stderr",
     "output_type": "stream",
     "text": [
      "INFO:counter:1/10 items complete (2.37 seconds/item, 00:00:21 remaining)\n",
      "INFO:counter:2/10 items complete (2.43 seconds/item, 00:00:19 remaining)\n",
      "INFO:counter:3/10 items complete (2.40 seconds/item, 00:00:16 remaining)\n",
      "INFO:counter:4/10 items complete (2.38 seconds/item, 00:00:14 remaining)\n",
      "INFO:counter:5/10 items complete (2.37 seconds/item, 00:00:11 remaining)\n",
      "INFO:counter:6/10 items complete (2.37 seconds/item, 00:00:09 remaining)\n",
      "INFO:counter:7/10 items complete (2.37 seconds/item, 00:00:07 remaining)\n",
      "INFO:counter:8/10 items complete (2.36 seconds/item, 00:00:04 remaining)\n",
      "INFO:counter:9/10 items complete (2.37 seconds/item, 00:00:02 remaining)\n",
      "INFO:counter:10/10 items complete (2.36 seconds/item, 00:00:00 remaining)\n"
     ]
    },
    {
     "name": "stdout",
     "output_type": "stream",
     "text": [
      "Cmode = False\n",
      "Number of time points is greater than the number of features\n",
      "stim shape (not cmode): \n",
      "(54808, 1280)\n",
      "Covmat shape: \n",
      "(1280, 1280)\n",
      "(1280, 1280) (1280, 54808) (54808, 108)\n",
      "wt shape:\n",
      "(1280, 108)\n",
      "(1280, 108)\n",
      "S0021 model4: Best alpha: 78.47599703514607 (should be in between 0.0 and 10000.0)\n",
      "142 10818\n",
      "Using training/validation split passed into the func...\n",
      "(10818, 1440) (4324, 1440)\n",
      "(10818, 142) (4324, 142)\n"
     ]
    },
    {
     "name": "stderr",
     "output_type": "stream",
     "text": [
      "/home/kfsh/git/onsetProd/gkTools/strf/ridge.py:370: RuntimeWarning: divide by zero encountered in true_divide\n",
      "  D = 1 / (L + a) # This is for eigridge\n",
      "/home/kfsh/git/onsetProd/gkTools/strf/utils.py:189: RuntimeWarning: invalid value encountered in multiply\n",
      "  return d*mtx\n",
      "INFO:counter:1/10 items complete (1.53 items/second, 00:00:05 remaining)\n",
      "INFO:counter:2/10 items complete (1.55 items/second, 00:00:05 remaining)\n",
      "INFO:counter:3/10 items complete (1.57 items/second, 00:00:04 remaining)\n",
      "INFO:counter:4/10 items complete (1.57 items/second, 00:00:03 remaining)\n",
      "INFO:counter:5/10 items complete (1.57 items/second, 00:00:03 remaining)\n",
      "INFO:counter:6/10 items complete (1.57 items/second, 00:00:02 remaining)\n",
      "INFO:counter:7/10 items complete (1.57 items/second, 00:00:01 remaining)\n",
      "INFO:counter:8/10 items complete (1.57 items/second, 00:00:01 remaining)\n",
      "INFO:counter:9/10 items complete (1.57 items/second, 00:00:00 remaining)\n",
      "INFO:counter:10/10 items complete (1.56 items/second, 00:00:00 remaining)\n"
     ]
    },
    {
     "name": "stdout",
     "output_type": "stream",
     "text": [
      "Cmode = False\n",
      "Number of time points is greater than the number of features\n",
      "stim shape (not cmode): \n",
      "(10818, 1440)\n",
      "Covmat shape: \n",
      "(1440, 1440)\n",
      "(1440, 1440) (1440, 10818) (10818, 142)\n",
      "wt shape:\n",
      "(1440, 142)\n",
      "(1440, 142)\n",
      "S0023 model1: Best alpha: 3792.690190732246 (should be in between 0.0 and 10000.0)\n",
      "142 10818\n",
      "Using training/validation split passed into the func...\n",
      "(10818, 3680) (4324, 3680)\n",
      "(10818, 142) (4324, 142)\n"
     ]
    },
    {
     "name": "stderr",
     "output_type": "stream",
     "text": [
      "INFO:counter:1/10 items complete (5.85 seconds/item, 00:00:52 remaining)\n",
      "INFO:counter:2/10 items complete (5.53 seconds/item, 00:00:44 remaining)\n",
      "INFO:counter:3/10 items complete (5.45 seconds/item, 00:00:38 remaining)\n",
      "INFO:counter:4/10 items complete (5.36 seconds/item, 00:00:32 remaining)\n",
      "INFO:counter:5/10 items complete (5.30 seconds/item, 00:00:26 remaining)\n",
      "INFO:counter:6/10 items complete (5.26 seconds/item, 00:00:21 remaining)\n",
      "INFO:counter:7/10 items complete (5.28 seconds/item, 00:00:15 remaining)\n",
      "INFO:counter:8/10 items complete (5.25 seconds/item, 00:00:10 remaining)\n",
      "INFO:counter:9/10 items complete (5.26 seconds/item, 00:00:05 remaining)\n",
      "INFO:counter:10/10 items complete (5.25 seconds/item, 00:00:00 remaining)\n"
     ]
    },
    {
     "name": "stdout",
     "output_type": "stream",
     "text": [
      "Cmode = False\n",
      "Number of time points is greater than the number of features\n",
      "stim shape (not cmode): \n",
      "(10818, 3680)\n",
      "Covmat shape: \n",
      "(3680, 3680)\n",
      "(3680, 3680) (3680, 10818) (10818, 142)\n",
      "wt shape:\n",
      "(3680, 142)\n",
      "(3680, 142)\n",
      "S0023 model2: Best alpha: 10000.0 (should be in between 0.0 and 10000.0)\n",
      "142 10818\n",
      "Using training/validation split passed into the func...\n",
      "(10818, 1280) (4324, 1280)\n",
      "(10818, 142) (4324, 142)\n"
     ]
    },
    {
     "name": "stderr",
     "output_type": "stream",
     "text": [
      "INFO:counter:1/10 items complete (1.82 items/second, 00:00:04 remaining)\n",
      "INFO:counter:2/10 items complete (1.65 items/second, 00:00:04 remaining)\n",
      "INFO:counter:3/10 items complete (1.69 items/second, 00:00:04 remaining)\n",
      "INFO:counter:4/10 items complete (1.73 items/second, 00:00:03 remaining)\n",
      "INFO:counter:5/10 items complete (1.74 items/second, 00:00:02 remaining)\n",
      "INFO:counter:6/10 items complete (1.76 items/second, 00:00:02 remaining)\n",
      "INFO:counter:7/10 items complete (1.77 items/second, 00:00:01 remaining)\n",
      "INFO:counter:8/10 items complete (1.77 items/second, 00:00:01 remaining)\n",
      "INFO:counter:9/10 items complete (1.77 items/second, 00:00:00 remaining)\n",
      "INFO:counter:10/10 items complete (1.77 items/second, 00:00:00 remaining)\n"
     ]
    },
    {
     "name": "stdout",
     "output_type": "stream",
     "text": [
      "Cmode = False\n",
      "Number of time points is greater than the number of features\n",
      "stim shape (not cmode): \n",
      "(10818, 1280)\n",
      "Covmat shape: \n",
      "(1280, 1280)\n",
      "(1280, 1280) (1280, 10818) (10818, 142)\n",
      "wt shape:\n",
      "(1280, 142)\n",
      "(1280, 142)\n",
      "S0023 model3: Best alpha: 3792.690190732246 (should be in between 0.0 and 10000.0)\n",
      "142 10818\n",
      "Using training/validation split passed into the func...\n",
      "(10818, 1280) (4324, 1280)\n",
      "(10818, 142) (4324, 142)\n"
     ]
    },
    {
     "name": "stderr",
     "output_type": "stream",
     "text": [
      "INFO:counter:1/10 items complete (1.80 items/second, 00:00:05 remaining)\n",
      "INFO:counter:2/10 items complete (1.81 items/second, 00:00:04 remaining)\n",
      "INFO:counter:3/10 items complete (1.81 items/second, 00:00:03 remaining)\n",
      "INFO:counter:4/10 items complete (1.82 items/second, 00:00:03 remaining)\n",
      "INFO:counter:5/10 items complete (1.82 items/second, 00:00:02 remaining)\n",
      "INFO:counter:6/10 items complete (1.82 items/second, 00:00:02 remaining)\n",
      "INFO:counter:7/10 items complete (1.82 items/second, 00:00:01 remaining)\n",
      "INFO:counter:8/10 items complete (1.82 items/second, 00:00:01 remaining)\n",
      "INFO:counter:9/10 items complete (1.82 items/second, 00:00:00 remaining)\n",
      "INFO:counter:10/10 items complete (1.83 items/second, 00:00:00 remaining)\n"
     ]
    },
    {
     "name": "stdout",
     "output_type": "stream",
     "text": [
      "Cmode = False\n",
      "Number of time points is greater than the number of features\n",
      "stim shape (not cmode): \n",
      "(10818, 1280)\n",
      "Covmat shape: \n",
      "(1280, 1280)\n",
      "(1280, 1280) (1280, 10818) (10818, 142)\n",
      "wt shape:\n",
      "(1280, 142)\n",
      "(1280, 142)\n",
      "S0023 model4: Best alpha: 10000.0 (should be in between 0.0 and 10000.0)\n",
      "112 47440\n",
      "Using training/validation split passed into the func...\n",
      "(47440, 1440) (21576, 1440)\n",
      "(47440, 112) (21576, 112)\n"
     ]
    },
    {
     "name": "stderr",
     "output_type": "stream",
     "text": [
      "INFO:counter:1/10 items complete (2.30 seconds/item, 00:00:20 remaining)\n",
      "INFO:counter:2/10 items complete (2.32 seconds/item, 00:00:18 remaining)\n",
      "INFO:counter:3/10 items complete (2.30 seconds/item, 00:00:16 remaining)\n",
      "INFO:counter:4/10 items complete (2.30 seconds/item, 00:00:13 remaining)\n",
      "INFO:counter:5/10 items complete (2.30 seconds/item, 00:00:11 remaining)\n",
      "INFO:counter:6/10 items complete (2.29 seconds/item, 00:00:09 remaining)\n",
      "INFO:counter:7/10 items complete (2.29 seconds/item, 00:00:06 remaining)\n",
      "INFO:counter:8/10 items complete (2.29 seconds/item, 00:00:04 remaining)\n",
      "INFO:counter:9/10 items complete (2.28 seconds/item, 00:00:02 remaining)\n",
      "INFO:counter:10/10 items complete (2.28 seconds/item, 00:00:00 remaining)\n"
     ]
    },
    {
     "name": "stdout",
     "output_type": "stream",
     "text": [
      "Cmode = False\n",
      "Number of time points is greater than the number of features\n",
      "stim shape (not cmode): \n",
      "(47440, 1440)\n",
      "Covmat shape: \n",
      "(1440, 1440)\n",
      "(1440, 1440) (1440, 47440) (47440, 112)\n",
      "wt shape:\n",
      "(1440, 112)\n",
      "(1440, 112)\n",
      "S0024 model1: Best alpha: 10000.0 (should be in between 0.0 and 10000.0)\n",
      "112 47440\n",
      "Using training/validation split passed into the func...\n",
      "(47440, 3680) (21576, 3680)\n",
      "(47440, 112) (21576, 112)\n"
     ]
    },
    {
     "name": "stderr",
     "output_type": "stream",
     "text": [
      "INFO:counter:1/10 items complete (9.73 seconds/item, 00:01:27 remaining)\n",
      "INFO:counter:2/10 items complete (9.75 seconds/item, 00:01:17 remaining)\n",
      "INFO:counter:3/10 items complete (9.72 seconds/item, 00:01:08 remaining)\n",
      "INFO:counter:4/10 items complete (9.74 seconds/item, 00:00:58 remaining)\n",
      "INFO:counter:5/10 items complete (9.74 seconds/item, 00:00:48 remaining)\n",
      "INFO:counter:6/10 items complete (9.88 seconds/item, 00:00:39 remaining)\n",
      "INFO:counter:7/10 items complete (9.87 seconds/item, 00:00:29 remaining)\n",
      "INFO:counter:8/10 items complete (9.89 seconds/item, 00:00:19 remaining)\n",
      "INFO:counter:9/10 items complete (9.88 seconds/item, 00:00:09 remaining)\n",
      "INFO:counter:10/10 items complete (9.87 seconds/item, 00:00:00 remaining)\n"
     ]
    },
    {
     "name": "stdout",
     "output_type": "stream",
     "text": [
      "Cmode = False\n",
      "Number of time points is greater than the number of features\n",
      "stim shape (not cmode): \n",
      "(47440, 3680)\n",
      "Covmat shape: \n",
      "(3680, 3680)\n",
      "(3680, 3680) (3680, 47440) (47440, 112)\n",
      "wt shape:\n",
      "(3680, 112)\n",
      "(3680, 112)\n",
      "S0024 model2: Best alpha: 10000.0 (should be in between 0.0 and 10000.0)\n",
      "112 47440\n",
      "Using training/validation split passed into the func...\n",
      "(47440, 1280) (21576, 1280)\n",
      "(47440, 112) (21576, 112)\n"
     ]
    },
    {
     "name": "stderr",
     "output_type": "stream",
     "text": [
      "INFO:counter:1/10 items complete (2.06 seconds/item, 00:00:18 remaining)\n",
      "INFO:counter:2/10 items complete (2.08 seconds/item, 00:00:16 remaining)\n",
      "INFO:counter:3/10 items complete (2.06 seconds/item, 00:00:14 remaining)\n",
      "INFO:counter:4/10 items complete (2.04 seconds/item, 00:00:12 remaining)\n",
      "INFO:counter:5/10 items complete (2.04 seconds/item, 00:00:10 remaining)\n",
      "INFO:counter:6/10 items complete (2.03 seconds/item, 00:00:08 remaining)\n",
      "INFO:counter:7/10 items complete (2.02 seconds/item, 00:00:06 remaining)\n",
      "INFO:counter:8/10 items complete (2.02 seconds/item, 00:00:04 remaining)\n",
      "INFO:counter:9/10 items complete (2.02 seconds/item, 00:00:02 remaining)\n",
      "INFO:counter:10/10 items complete (2.02 seconds/item, 00:00:00 remaining)\n"
     ]
    },
    {
     "name": "stdout",
     "output_type": "stream",
     "text": [
      "Cmode = False\n",
      "Number of time points is greater than the number of features\n",
      "stim shape (not cmode): \n",
      "(47440, 1280)\n",
      "Covmat shape: \n",
      "(1280, 1280)\n",
      "(1280, 1280) (1280, 47440) (47440, 112)\n",
      "wt shape:\n",
      "(1280, 112)\n",
      "(1280, 112)\n",
      "S0024 model3: Best alpha: 3792.690190732246 (should be in between 0.0 and 10000.0)\n",
      "112 47440\n",
      "Using training/validation split passed into the func...\n",
      "(47440, 1280) (21576, 1280)\n",
      "(47440, 112) (21576, 112)\n"
     ]
    },
    {
     "name": "stderr",
     "output_type": "stream",
     "text": [
      "INFO:counter:1/10 items complete (2.04 seconds/item, 00:00:18 remaining)\n",
      "INFO:counter:2/10 items complete (2.03 seconds/item, 00:00:16 remaining)\n",
      "INFO:counter:3/10 items complete (2.03 seconds/item, 00:00:14 remaining)\n",
      "INFO:counter:4/10 items complete (2.02 seconds/item, 00:00:12 remaining)\n",
      "INFO:counter:5/10 items complete (2.03 seconds/item, 00:00:10 remaining)\n",
      "INFO:counter:6/10 items complete (2.03 seconds/item, 00:00:08 remaining)\n",
      "INFO:counter:7/10 items complete (2.03 seconds/item, 00:00:06 remaining)\n",
      "INFO:counter:8/10 items complete (2.03 seconds/item, 00:00:04 remaining)\n",
      "INFO:counter:9/10 items complete (2.03 seconds/item, 00:00:02 remaining)\n",
      "INFO:counter:10/10 items complete (2.02 seconds/item, 00:00:00 remaining)\n"
     ]
    },
    {
     "name": "stdout",
     "output_type": "stream",
     "text": [
      "Cmode = False\n",
      "Number of time points is greater than the number of features\n",
      "stim shape (not cmode): \n",
      "(47440, 1280)\n",
      "Covmat shape: \n",
      "(1280, 1280)\n",
      "(1280, 1280) (1280, 47440) (47440, 112)\n",
      "wt shape:\n",
      "(1280, 112)\n",
      "(1280, 112)\n",
      "S0024 model4: Best alpha: 10000.0 (should be in between 0.0 and 10000.0)\n",
      "118 38560\n",
      "Using training/validation split passed into the func...\n",
      "(38560, 1440) (10229, 1440)\n",
      "(38560, 118) (10229, 118)\n"
     ]
    },
    {
     "name": "stderr",
     "output_type": "stream",
     "text": [
      "INFO:counter:1/10 items complete (1.91 seconds/item, 00:00:17 remaining)\n",
      "INFO:counter:2/10 items complete (1.91 seconds/item, 00:00:15 remaining)\n",
      "INFO:counter:3/10 items complete (1.90 seconds/item, 00:00:13 remaining)\n",
      "INFO:counter:4/10 items complete (1.91 seconds/item, 00:00:11 remaining)\n",
      "INFO:counter:5/10 items complete (1.91 seconds/item, 00:00:09 remaining)\n",
      "INFO:counter:6/10 items complete (1.91 seconds/item, 00:00:07 remaining)\n",
      "INFO:counter:7/10 items complete (1.91 seconds/item, 00:00:05 remaining)\n",
      "INFO:counter:8/10 items complete (1.91 seconds/item, 00:00:03 remaining)\n",
      "INFO:counter:9/10 items complete (1.91 seconds/item, 00:00:01 remaining)\n",
      "INFO:counter:10/10 items complete (1.91 seconds/item, 00:00:00 remaining)\n"
     ]
    },
    {
     "name": "stdout",
     "output_type": "stream",
     "text": [
      "Cmode = False\n",
      "Number of time points is greater than the number of features\n",
      "stim shape (not cmode): \n",
      "(38560, 1440)\n",
      "Covmat shape: \n",
      "(1440, 1440)\n",
      "(1440, 1440) (1440, 38560) (38560, 118)\n",
      "wt shape:\n",
      "(1440, 118)\n",
      "(1440, 118)\n",
      "S0026 model1: Best alpha: 1438.44988828766 (should be in between 0.0 and 10000.0)\n",
      "118 38560\n",
      "Using training/validation split passed into the func...\n",
      "(38560, 3680) (10229, 3680)\n",
      "(38560, 118) (10229, 118)\n"
     ]
    },
    {
     "name": "stderr",
     "output_type": "stream",
     "text": [
      "INFO:counter:1/10 items complete (8.67 seconds/item, 00:01:18 remaining)\n",
      "INFO:counter:2/10 items complete (8.63 seconds/item, 00:01:09 remaining)\n",
      "INFO:counter:3/10 items complete (8.78 seconds/item, 00:01:01 remaining)\n",
      "INFO:counter:4/10 items complete (8.74 seconds/item, 00:00:52 remaining)\n",
      "INFO:counter:5/10 items complete (8.73 seconds/item, 00:00:43 remaining)\n",
      "INFO:counter:6/10 items complete (8.76 seconds/item, 00:00:35 remaining)\n",
      "INFO:counter:7/10 items complete (8.77 seconds/item, 00:00:26 remaining)\n",
      "INFO:counter:8/10 items complete (8.80 seconds/item, 00:00:17 remaining)\n",
      "INFO:counter:9/10 items complete (8.80 seconds/item, 00:00:08 remaining)\n",
      "INFO:counter:10/10 items complete (8.80 seconds/item, 00:00:00 remaining)\n"
     ]
    },
    {
     "name": "stdout",
     "output_type": "stream",
     "text": [
      "Cmode = False\n",
      "Number of time points is greater than the number of features\n",
      "stim shape (not cmode): \n",
      "(38560, 3680)\n",
      "Covmat shape: \n",
      "(3680, 3680)\n",
      "(3680, 3680) (3680, 38560) (38560, 118)\n",
      "wt shape:\n",
      "(3680, 118)\n",
      "(3680, 118)\n",
      "S0026 model2: Best alpha: 1438.44988828766 (should be in between 0.0 and 10000.0)\n",
      "118 38560\n",
      "Using training/validation split passed into the func...\n",
      "(38560, 1280) (10229, 1280)\n",
      "(38560, 118) (10229, 118)\n"
     ]
    },
    {
     "name": "stderr",
     "output_type": "stream",
     "text": [
      "INFO:counter:1/10 items complete (1.76 seconds/item, 00:00:15 remaining)\n",
      "INFO:counter:2/10 items complete (1.74 seconds/item, 00:00:13 remaining)\n",
      "INFO:counter:3/10 items complete (1.73 seconds/item, 00:00:12 remaining)\n",
      "INFO:counter:4/10 items complete (1.73 seconds/item, 00:00:10 remaining)\n",
      "INFO:counter:5/10 items complete (1.73 seconds/item, 00:00:08 remaining)\n",
      "INFO:counter:6/10 items complete (1.73 seconds/item, 00:00:06 remaining)\n",
      "INFO:counter:7/10 items complete (1.73 seconds/item, 00:00:05 remaining)\n",
      "INFO:counter:8/10 items complete (1.73 seconds/item, 00:00:03 remaining)\n",
      "INFO:counter:9/10 items complete (1.73 seconds/item, 00:00:01 remaining)\n",
      "INFO:counter:10/10 items complete (1.73 seconds/item, 00:00:00 remaining)\n"
     ]
    },
    {
     "name": "stdout",
     "output_type": "stream",
     "text": [
      "Cmode = False\n",
      "Number of time points is greater than the number of features\n",
      "stim shape (not cmode): \n",
      "(38560, 1280)\n",
      "Covmat shape: \n",
      "(1280, 1280)\n",
      "(1280, 1280) (1280, 38560) (38560, 118)\n",
      "wt shape:\n",
      "(1280, 118)\n",
      "(1280, 118)\n",
      "S0026 model3: Best alpha: 1438.44988828766 (should be in between 0.0 and 10000.0)\n",
      "118 38560\n",
      "Using training/validation split passed into the func...\n",
      "(38560, 1280) (10229, 1280)\n",
      "(38560, 118) (10229, 118)\n"
     ]
    },
    {
     "name": "stderr",
     "output_type": "stream",
     "text": [
      "INFO:counter:1/10 items complete (1.72 seconds/item, 00:00:15 remaining)\n",
      "INFO:counter:2/10 items complete (1.72 seconds/item, 00:00:13 remaining)\n",
      "INFO:counter:3/10 items complete (1.73 seconds/item, 00:00:12 remaining)\n",
      "INFO:counter:4/10 items complete (1.73 seconds/item, 00:00:10 remaining)\n",
      "INFO:counter:5/10 items complete (1.73 seconds/item, 00:00:08 remaining)\n",
      "INFO:counter:6/10 items complete (1.73 seconds/item, 00:00:06 remaining)\n",
      "INFO:counter:7/10 items complete (1.74 seconds/item, 00:00:05 remaining)\n",
      "INFO:counter:8/10 items complete (1.74 seconds/item, 00:00:03 remaining)\n",
      "INFO:counter:9/10 items complete (1.74 seconds/item, 00:00:01 remaining)\n",
      "INFO:counter:10/10 items complete (1.74 seconds/item, 00:00:00 remaining)\n"
     ]
    },
    {
     "name": "stdout",
     "output_type": "stream",
     "text": [
      "Cmode = False\n",
      "Number of time points is greater than the number of features\n",
      "stim shape (not cmode): \n",
      "(38560, 1280)\n",
      "Covmat shape: \n",
      "(1280, 1280)\n",
      "(1280, 1280) (1280, 38560) (38560, 118)\n",
      "wt shape:\n",
      "(1280, 118)\n",
      "(1280, 118)\n",
      "S0026 model4: Best alpha: 1438.44988828766 (should be in between 0.0 and 10000.0)\n",
      "186 29872\n",
      "Using training/validation split passed into the func...\n",
      "(29872, 1440) (9041, 1440)\n",
      "(29872, 186) (9041, 186)\n"
     ]
    },
    {
     "name": "stderr",
     "output_type": "stream",
     "text": [
      "INFO:counter:1/10 items complete (1.63 seconds/item, 00:00:14 remaining)\n",
      "INFO:counter:2/10 items complete (1.64 seconds/item, 00:00:13 remaining)\n",
      "INFO:counter:3/10 items complete (1.64 seconds/item, 00:00:11 remaining)\n",
      "INFO:counter:4/10 items complete (1.64 seconds/item, 00:00:09 remaining)\n",
      "INFO:counter:5/10 items complete (1.66 seconds/item, 00:00:08 remaining)\n",
      "INFO:counter:6/10 items complete (1.69 seconds/item, 00:00:06 remaining)\n",
      "INFO:counter:7/10 items complete (1.68 seconds/item, 00:00:05 remaining)\n",
      "INFO:counter:8/10 items complete (1.68 seconds/item, 00:00:03 remaining)\n",
      "INFO:counter:9/10 items complete (1.68 seconds/item, 00:00:01 remaining)\n",
      "INFO:counter:10/10 items complete (1.67 seconds/item, 00:00:00 remaining)\n"
     ]
    },
    {
     "name": "stdout",
     "output_type": "stream",
     "text": [
      "Cmode = False\n",
      "Number of time points is greater than the number of features\n",
      "stim shape (not cmode): \n",
      "(29872, 1440)\n",
      "Covmat shape: \n",
      "(1440, 1440)\n",
      "(1440, 1440) (1440, 29872) (29872, 186)\n",
      "wt shape:\n",
      "(1440, 186)\n",
      "(1440, 186)\n",
      "TCH06 model1: Best alpha: 10000.0 (should be in between 0.0 and 10000.0)\n",
      "186 29872\n",
      "Using training/validation split passed into the func...\n",
      "(29872, 3680) (9041, 3680)\n",
      "(29872, 186) (9041, 186)\n"
     ]
    },
    {
     "name": "stderr",
     "output_type": "stream",
     "text": [
      "INFO:counter:1/10 items complete (7.76 seconds/item, 00:01:09 remaining)\n",
      "INFO:counter:2/10 items complete (7.79 seconds/item, 00:01:02 remaining)\n",
      "INFO:counter:3/10 items complete (7.81 seconds/item, 00:00:54 remaining)\n",
      "INFO:counter:4/10 items complete (7.81 seconds/item, 00:00:46 remaining)\n",
      "INFO:counter:5/10 items complete (7.83 seconds/item, 00:00:39 remaining)\n",
      "INFO:counter:6/10 items complete (7.83 seconds/item, 00:00:31 remaining)\n",
      "INFO:counter:7/10 items complete (7.82 seconds/item, 00:00:23 remaining)\n",
      "INFO:counter:8/10 items complete (7.81 seconds/item, 00:00:15 remaining)\n",
      "INFO:counter:9/10 items complete (7.80 seconds/item, 00:00:07 remaining)\n",
      "INFO:counter:10/10 items complete (7.80 seconds/item, 00:00:00 remaining)\n"
     ]
    },
    {
     "name": "stdout",
     "output_type": "stream",
     "text": [
      "Cmode = False\n",
      "Number of time points is greater than the number of features\n",
      "stim shape (not cmode): \n",
      "(29872, 3680)\n",
      "Covmat shape: \n",
      "(3680, 3680)\n",
      "(3680, 3680) (3680, 29872) (29872, 186)\n",
      "wt shape:\n",
      "(3680, 186)\n",
      "(3680, 186)\n",
      "TCH06 model2: Best alpha: 10000.0 (should be in between 0.0 and 10000.0)\n",
      "186 29872\n",
      "Using training/validation split passed into the func...\n",
      "(29872, 1280) (9041, 1280)\n",
      "(29872, 186) (9041, 186)\n"
     ]
    },
    {
     "name": "stderr",
     "output_type": "stream",
     "text": [
      "INFO:counter:1/10 items complete (1.43 seconds/item, 00:00:12 remaining)\n",
      "INFO:counter:2/10 items complete (1.44 seconds/item, 00:00:11 remaining)\n",
      "INFO:counter:3/10 items complete (1.44 seconds/item, 00:00:10 remaining)\n",
      "INFO:counter:4/10 items complete (1.44 seconds/item, 00:00:08 remaining)\n",
      "INFO:counter:5/10 items complete (1.44 seconds/item, 00:00:07 remaining)\n",
      "INFO:counter:6/10 items complete (1.44 seconds/item, 00:00:05 remaining)\n",
      "INFO:counter:7/10 items complete (1.44 seconds/item, 00:00:04 remaining)\n",
      "INFO:counter:8/10 items complete (1.44 seconds/item, 00:00:02 remaining)\n",
      "INFO:counter:9/10 items complete (1.44 seconds/item, 00:00:01 remaining)\n",
      "INFO:counter:10/10 items complete (1.44 seconds/item, 00:00:00 remaining)\n"
     ]
    },
    {
     "name": "stdout",
     "output_type": "stream",
     "text": [
      "Cmode = False\n",
      "Number of time points is greater than the number of features\n",
      "stim shape (not cmode): \n",
      "(29872, 1280)\n",
      "Covmat shape: \n",
      "(1280, 1280)\n",
      "(1280, 1280) (1280, 29872) (29872, 186)\n",
      "wt shape:\n",
      "(1280, 186)\n",
      "(1280, 186)\n",
      "TCH06 model3: Best alpha: 10000.0 (should be in between 0.0 and 10000.0)\n",
      "186 29872\n",
      "Using training/validation split passed into the func...\n",
      "(29872, 1280) (9041, 1280)\n",
      "(29872, 186) (9041, 186)\n"
     ]
    },
    {
     "name": "stderr",
     "output_type": "stream",
     "text": [
      "INFO:counter:1/10 items complete (1.44 seconds/item, 00:00:12 remaining)\n",
      "INFO:counter:2/10 items complete (1.44 seconds/item, 00:00:11 remaining)\n",
      "INFO:counter:3/10 items complete (1.44 seconds/item, 00:00:10 remaining)\n",
      "INFO:counter:4/10 items complete (1.44 seconds/item, 00:00:08 remaining)\n",
      "INFO:counter:5/10 items complete (1.44 seconds/item, 00:00:07 remaining)\n",
      "INFO:counter:6/10 items complete (1.44 seconds/item, 00:00:05 remaining)\n",
      "INFO:counter:7/10 items complete (1.47 seconds/item, 00:00:04 remaining)\n",
      "INFO:counter:8/10 items complete (1.46 seconds/item, 00:00:02 remaining)\n",
      "INFO:counter:9/10 items complete (1.46 seconds/item, 00:00:01 remaining)\n",
      "INFO:counter:10/10 items complete (1.46 seconds/item, 00:00:00 remaining)\n"
     ]
    },
    {
     "name": "stdout",
     "output_type": "stream",
     "text": [
      "Cmode = False\n",
      "Number of time points is greater than the number of features\n",
      "stim shape (not cmode): \n",
      "(29872, 1280)\n",
      "Covmat shape: \n",
      "(1280, 1280)\n",
      "(1280, 1280) (1280, 29872) (29872, 186)\n",
      "wt shape:\n",
      "(1280, 186)\n",
      "(1280, 186)\n",
      "TCH06 model4: Best alpha: 10000.0 (should be in between 0.0 and 10000.0)\n",
      "255 32935\n",
      "Using training/validation split passed into the func...\n",
      "(32935, 1440) (9279, 1440)\n",
      "(32935, 255) (9279, 255)\n"
     ]
    },
    {
     "name": "stderr",
     "output_type": "stream",
     "text": [
      "INFO:counter:1/10 items complete (2.02 seconds/item, 00:00:18 remaining)\n",
      "INFO:counter:2/10 items complete (2.01 seconds/item, 00:00:16 remaining)\n",
      "INFO:counter:3/10 items complete (2.02 seconds/item, 00:00:14 remaining)\n",
      "INFO:counter:4/10 items complete (2.01 seconds/item, 00:00:12 remaining)\n",
      "INFO:counter:5/10 items complete (2.02 seconds/item, 00:00:10 remaining)\n",
      "INFO:counter:6/10 items complete (2.01 seconds/item, 00:00:08 remaining)\n",
      "INFO:counter:7/10 items complete (2.01 seconds/item, 00:00:06 remaining)\n",
      "INFO:counter:8/10 items complete (2.02 seconds/item, 00:00:04 remaining)\n",
      "INFO:counter:9/10 items complete (2.02 seconds/item, 00:00:02 remaining)\n",
      "INFO:counter:10/10 items complete (2.02 seconds/item, 00:00:00 remaining)\n"
     ]
    },
    {
     "name": "stdout",
     "output_type": "stream",
     "text": [
      "Cmode = False\n",
      "Number of time points is greater than the number of features\n",
      "stim shape (not cmode): \n",
      "(32935, 1440)\n",
      "Covmat shape: \n",
      "(1440, 1440)\n",
      "(1440, 1440) (1440, 32935) (32935, 255)\n",
      "wt shape:\n",
      "(1440, 255)\n",
      "(1440, 255)\n",
      "TCH14 model1: Best alpha: 10000.0 (should be in between 0.0 and 10000.0)\n",
      "255 32935\n",
      "Using training/validation split passed into the func...\n",
      "(32935, 3680) (9279, 3680)\n",
      "(32935, 255) (9279, 255)\n"
     ]
    },
    {
     "name": "stderr",
     "output_type": "stream",
     "text": [
      "INFO:counter:1/10 items complete (8.60 seconds/item, 00:01:17 remaining)\n",
      "INFO:counter:2/10 items complete (8.64 seconds/item, 00:01:09 remaining)\n",
      "INFO:counter:3/10 items complete (8.63 seconds/item, 00:01:00 remaining)\n",
      "INFO:counter:4/10 items complete (8.62 seconds/item, 00:00:51 remaining)\n",
      "INFO:counter:5/10 items complete (8.66 seconds/item, 00:00:43 remaining)\n",
      "INFO:counter:6/10 items complete (8.64 seconds/item, 00:00:34 remaining)\n",
      "INFO:counter:7/10 items complete (8.61 seconds/item, 00:00:25 remaining)\n",
      "INFO:counter:8/10 items complete (8.59 seconds/item, 00:00:17 remaining)\n",
      "INFO:counter:9/10 items complete (8.59 seconds/item, 00:00:08 remaining)\n",
      "INFO:counter:10/10 items complete (8.58 seconds/item, 00:00:00 remaining)\n"
     ]
    },
    {
     "name": "stdout",
     "output_type": "stream",
     "text": [
      "Cmode = False\n",
      "Number of time points is greater than the number of features\n",
      "stim shape (not cmode): \n",
      "(32935, 3680)\n",
      "Covmat shape: \n",
      "(3680, 3680)\n",
      "(3680, 3680) (3680, 32935) (32935, 255)\n",
      "wt shape:\n",
      "(3680, 255)\n",
      "(3680, 255)\n",
      "TCH14 model2: Best alpha: 10000.0 (should be in between 0.0 and 10000.0)\n",
      "255 32935\n",
      "Using training/validation split passed into the func...\n",
      "(32935, 1280) (9279, 1280)\n",
      "(32935, 255) (9279, 255)\n"
     ]
    },
    {
     "name": "stderr",
     "output_type": "stream",
     "text": [
      "INFO:counter:1/10 items complete (1.79 seconds/item, 00:00:16 remaining)\n",
      "INFO:counter:2/10 items complete (1.76 seconds/item, 00:00:14 remaining)\n",
      "INFO:counter:3/10 items complete (1.77 seconds/item, 00:00:12 remaining)\n",
      "INFO:counter:4/10 items complete (1.77 seconds/item, 00:00:10 remaining)\n",
      "INFO:counter:5/10 items complete (1.77 seconds/item, 00:00:08 remaining)\n",
      "INFO:counter:6/10 items complete (1.77 seconds/item, 00:00:07 remaining)\n",
      "INFO:counter:7/10 items complete (1.76 seconds/item, 00:00:05 remaining)\n",
      "INFO:counter:8/10 items complete (1.76 seconds/item, 00:00:03 remaining)\n",
      "INFO:counter:9/10 items complete (1.76 seconds/item, 00:00:01 remaining)\n",
      "INFO:counter:10/10 items complete (1.76 seconds/item, 00:00:00 remaining)\n"
     ]
    },
    {
     "name": "stdout",
     "output_type": "stream",
     "text": [
      "Cmode = False\n",
      "Number of time points is greater than the number of features\n",
      "stim shape (not cmode): \n",
      "(32935, 1280)\n",
      "Covmat shape: \n",
      "(1280, 1280)\n",
      "(1280, 1280) (1280, 32935) (32935, 255)\n",
      "wt shape:\n",
      "(1280, 255)\n",
      "(1280, 255)\n",
      "TCH14 model3: Best alpha: 10000.0 (should be in between 0.0 and 10000.0)\n",
      "255 32935\n",
      "Using training/validation split passed into the func...\n",
      "(32935, 1280) (9279, 1280)\n",
      "(32935, 255) (9279, 255)\n"
     ]
    },
    {
     "name": "stderr",
     "output_type": "stream",
     "text": [
      "INFO:counter:1/10 items complete (1.75 seconds/item, 00:00:15 remaining)\n",
      "INFO:counter:2/10 items complete (1.75 seconds/item, 00:00:13 remaining)\n",
      "INFO:counter:3/10 items complete (1.75 seconds/item, 00:00:12 remaining)\n",
      "INFO:counter:4/10 items complete (1.76 seconds/item, 00:00:10 remaining)\n",
      "INFO:counter:5/10 items complete (1.75 seconds/item, 00:00:08 remaining)\n",
      "INFO:counter:6/10 items complete (1.75 seconds/item, 00:00:07 remaining)\n",
      "INFO:counter:7/10 items complete (1.75 seconds/item, 00:00:05 remaining)\n",
      "INFO:counter:8/10 items complete (1.75 seconds/item, 00:00:03 remaining)\n",
      "INFO:counter:9/10 items complete (1.75 seconds/item, 00:00:01 remaining)\n",
      "INFO:counter:10/10 items complete (1.75 seconds/item, 00:00:00 remaining)\n"
     ]
    },
    {
     "name": "stdout",
     "output_type": "stream",
     "text": [
      "Cmode = False\n",
      "Number of time points is greater than the number of features\n",
      "stim shape (not cmode): \n",
      "(32935, 1280)\n",
      "Covmat shape: \n",
      "(1280, 1280)\n",
      "(1280, 1280) (1280, 32935) (32935, 255)\n",
      "wt shape:\n",
      "(1280, 255)\n",
      "(1280, 255)\n",
      "TCH14 model4: Best alpha: 0.0 (should be in between 0.0 and 10000.0)\n"
     ]
    }
   ],
   "source": [
    "# Run the mTRF\n",
    "corrs, wts, best_alphas = dict(),dict(),dict()\n",
    "pbar = tqdm(subjs)\n",
    "for s in pbar:\n",
    "    corrs[s], wts[s], best_alphas[s] = dict(),dict(),dict()\n",
    "    for m in models:\n",
    "        pbar.set_description(f\"Fitting mTRF for {s} {m}\")\n",
    "        subj_corrs, subj_wts, _, _, _, _, subj_best_alphas = mtrf_utils.mtrf( # don't save stim/resp\n",
    "            tResps[s][m], tStims[s][m],\n",
    "            vResp = vResps[s][m], vStim = vStims[s][m],\n",
    "            nboots=nboots, delay_min=delay_min, delay_max=delay_max, alphas=alphas,\n",
    "            flip_resp = True, sfreq = 100\n",
    "        )\n",
    "        print(\n",
    "            f\"{s} {m}: Best alpha: {subj_best_alphas[0]} (should be in between {alphas[0]} and {alphas[-1]})\"\n",
    "        )\n",
    "        # Write model output to dicts\n",
    "        corrs[s][m] = subj_corrs[0] # R-value between predicted and actual EEG at each channel\n",
    "        wts[s][m] = subj_wts[0].reshape((\n",
    "            # delays x feats x chans\n",
    "            ndelays,tStims[s][m].shape[1],tResps[s][m].shape[1]\n",
    "        )) \n",
    "        best_alphas[s][m] = subj_best_alphas # Regularization parameter that yielded best model fit"
   ]
  },
  {
   "cell_type": "code",
   "execution_count": 9,
   "metadata": {
    "scrolled": true
   },
   "outputs": [
    {
     "name": "stdout",
     "output_type": "stream",
     "text": [
      "S0004 model1 Alpha min: 0.0 || Alpha max: 10000.0 || Best alpha (should be in min-max range): 10000.0\n",
      "S0004 model2 Alpha min: 0.0 || Alpha max: 10000.0 || Best alpha (should be in min-max range): 10000.0\n",
      "S0004 model3 Alpha min: 0.0 || Alpha max: 10000.0 || Best alpha (should be in min-max range): 10000.0\n",
      "S0004 model4 Alpha min: 0.0 || Alpha max: 10000.0 || Best alpha (should be in min-max range): 10000.0\n",
      "\n",
      "S0006 model1 Alpha min: 0.0 || Alpha max: 10000.0 || Best alpha (should be in min-max range): 1438.44988828766\n",
      "S0006 model2 Alpha min: 0.0 || Alpha max: 10000.0 || Best alpha (should be in min-max range): 1438.44988828766\n",
      "S0006 model3 Alpha min: 0.0 || Alpha max: 10000.0 || Best alpha (should be in min-max range): 1438.44988828766\n",
      "S0006 model4 Alpha min: 0.0 || Alpha max: 10000.0 || Best alpha (should be in min-max range): 545.5594781168514\n",
      "\n",
      "S0007 model1 Alpha min: 0.0 || Alpha max: 10000.0 || Best alpha (should be in min-max range): 3792.690190732246\n",
      "S0007 model2 Alpha min: 0.0 || Alpha max: 10000.0 || Best alpha (should be in min-max range): 1438.44988828766\n",
      "S0007 model3 Alpha min: 0.0 || Alpha max: 10000.0 || Best alpha (should be in min-max range): 3792.690190732246\n",
      "S0007 model4 Alpha min: 0.0 || Alpha max: 10000.0 || Best alpha (should be in min-max range): 3792.690190732246\n",
      "\n",
      "S0010 model1 Alpha min: 0.0 || Alpha max: 10000.0 || Best alpha (should be in min-max range): 10000.0\n",
      "S0010 model2 Alpha min: 0.0 || Alpha max: 10000.0 || Best alpha (should be in min-max range): 10000.0\n",
      "S0010 model3 Alpha min: 0.0 || Alpha max: 10000.0 || Best alpha (should be in min-max range): 10000.0\n",
      "S0010 model4 Alpha min: 0.0 || Alpha max: 10000.0 || Best alpha (should be in min-max range): 1438.44988828766\n",
      "\n",
      "S0014 model1 Alpha min: 0.0 || Alpha max: 10000.0 || Best alpha (should be in min-max range): 1438.44988828766\n",
      "S0014 model2 Alpha min: 0.0 || Alpha max: 10000.0 || Best alpha (should be in min-max range): 3792.690190732246\n",
      "S0014 model3 Alpha min: 0.0 || Alpha max: 10000.0 || Best alpha (should be in min-max range): 545.5594781168514\n",
      "S0014 model4 Alpha min: 0.0 || Alpha max: 10000.0 || Best alpha (should be in min-max range): 206.913808111479\n",
      "\n",
      "S0015 model1 Alpha min: 0.0 || Alpha max: 10000.0 || Best alpha (should be in min-max range): 10000.0\n",
      "S0015 model2 Alpha min: 0.0 || Alpha max: 10000.0 || Best alpha (should be in min-max range): 10000.0\n",
      "S0015 model3 Alpha min: 0.0 || Alpha max: 10000.0 || Best alpha (should be in min-max range): 10000.0\n",
      "S0015 model4 Alpha min: 0.0 || Alpha max: 10000.0 || Best alpha (should be in min-max range): 10000.0\n",
      "\n",
      "S0017 model1 Alpha min: 0.0 || Alpha max: 10000.0 || Best alpha (should be in min-max range): 10000.0\n",
      "S0017 model2 Alpha min: 0.0 || Alpha max: 10000.0 || Best alpha (should be in min-max range): 10000.0\n",
      "S0017 model3 Alpha min: 0.0 || Alpha max: 10000.0 || Best alpha (should be in min-max range): 10000.0\n",
      "S0017 model4 Alpha min: 0.0 || Alpha max: 10000.0 || Best alpha (should be in min-max range): 10000.0\n",
      "\n",
      "S0018 model1 Alpha min: 0.0 || Alpha max: 10000.0 || Best alpha (should be in min-max range): 10000.0\n",
      "S0018 model2 Alpha min: 0.0 || Alpha max: 10000.0 || Best alpha (should be in min-max range): 10000.0\n",
      "S0018 model3 Alpha min: 0.0 || Alpha max: 10000.0 || Best alpha (should be in min-max range): 10000.0\n",
      "S0018 model4 Alpha min: 0.0 || Alpha max: 10000.0 || Best alpha (should be in min-max range): 10000.0\n",
      "\n",
      "S0019 model1 Alpha min: 0.0 || Alpha max: 10000.0 || Best alpha (should be in min-max range): 1438.44988828766\n",
      "S0019 model2 Alpha min: 0.0 || Alpha max: 10000.0 || Best alpha (should be in min-max range): 1438.44988828766\n",
      "S0019 model3 Alpha min: 0.0 || Alpha max: 10000.0 || Best alpha (should be in min-max range): 1438.44988828766\n",
      "S0019 model4 Alpha min: 0.0 || Alpha max: 10000.0 || Best alpha (should be in min-max range): 206.913808111479\n",
      "\n",
      "S0020 model1 Alpha min: 0.0 || Alpha max: 10000.0 || Best alpha (should be in min-max range): 1438.44988828766\n",
      "S0020 model2 Alpha min: 0.0 || Alpha max: 10000.0 || Best alpha (should be in min-max range): 3792.690190732246\n",
      "S0020 model3 Alpha min: 0.0 || Alpha max: 10000.0 || Best alpha (should be in min-max range): 545.5594781168514\n",
      "S0020 model4 Alpha min: 0.0 || Alpha max: 10000.0 || Best alpha (should be in min-max range): 78.47599703514607\n",
      "\n",
      "S0021 model1 Alpha min: 0.0 || Alpha max: 10000.0 || Best alpha (should be in min-max range): 10000.0\n",
      "S0021 model2 Alpha min: 0.0 || Alpha max: 10000.0 || Best alpha (should be in min-max range): 10000.0\n",
      "S0021 model3 Alpha min: 0.0 || Alpha max: 10000.0 || Best alpha (should be in min-max range): 3792.690190732246\n",
      "S0021 model4 Alpha min: 0.0 || Alpha max: 10000.0 || Best alpha (should be in min-max range): 78.47599703514607\n",
      "\n",
      "S0023 model1 Alpha min: 0.0 || Alpha max: 10000.0 || Best alpha (should be in min-max range): 3792.690190732246\n",
      "S0023 model2 Alpha min: 0.0 || Alpha max: 10000.0 || Best alpha (should be in min-max range): 10000.0\n",
      "S0023 model3 Alpha min: 0.0 || Alpha max: 10000.0 || Best alpha (should be in min-max range): 3792.690190732246\n",
      "S0023 model4 Alpha min: 0.0 || Alpha max: 10000.0 || Best alpha (should be in min-max range): 10000.0\n",
      "\n",
      "S0024 model1 Alpha min: 0.0 || Alpha max: 10000.0 || Best alpha (should be in min-max range): 10000.0\n",
      "S0024 model2 Alpha min: 0.0 || Alpha max: 10000.0 || Best alpha (should be in min-max range): 10000.0\n",
      "S0024 model3 Alpha min: 0.0 || Alpha max: 10000.0 || Best alpha (should be in min-max range): 3792.690190732246\n",
      "S0024 model4 Alpha min: 0.0 || Alpha max: 10000.0 || Best alpha (should be in min-max range): 10000.0\n",
      "\n",
      "S0026 model1 Alpha min: 0.0 || Alpha max: 10000.0 || Best alpha (should be in min-max range): 1438.44988828766\n",
      "S0026 model2 Alpha min: 0.0 || Alpha max: 10000.0 || Best alpha (should be in min-max range): 1438.44988828766\n",
      "S0026 model3 Alpha min: 0.0 || Alpha max: 10000.0 || Best alpha (should be in min-max range): 1438.44988828766\n",
      "S0026 model4 Alpha min: 0.0 || Alpha max: 10000.0 || Best alpha (should be in min-max range): 1438.44988828766\n",
      "\n",
      "TCH06 model1 Alpha min: 0.0 || Alpha max: 10000.0 || Best alpha (should be in min-max range): 10000.0\n",
      "TCH06 model2 Alpha min: 0.0 || Alpha max: 10000.0 || Best alpha (should be in min-max range): 10000.0\n",
      "TCH06 model3 Alpha min: 0.0 || Alpha max: 10000.0 || Best alpha (should be in min-max range): 10000.0\n",
      "TCH06 model4 Alpha min: 0.0 || Alpha max: 10000.0 || Best alpha (should be in min-max range): 10000.0\n",
      "\n",
      "TCH14 model1 Alpha min: 0.0 || Alpha max: 10000.0 || Best alpha (should be in min-max range): 10000.0\n",
      "TCH14 model2 Alpha min: 0.0 || Alpha max: 10000.0 || Best alpha (should be in min-max range): 10000.0\n",
      "TCH14 model3 Alpha min: 0.0 || Alpha max: 10000.0 || Best alpha (should be in min-max range): 10000.0\n",
      "TCH14 model4 Alpha min: 0.0 || Alpha max: 10000.0 || Best alpha (should be in min-max range): 0.0\n",
      "\n"
     ]
    }
   ],
   "source": [
    "for s in subjs:\n",
    "    for m in models:\n",
    "         print(\n",
    "            f\"{s} {m} Alpha min: {alphas[0]} || Alpha max: {alphas[-1]} || Best alpha (should be in min-max range): {best_alphas[s][m][0]}\"\n",
    "         )\n",
    "    print(\"\")"
   ]
  },
  {
   "cell_type": "markdown",
   "metadata": {},
   "source": [
    "### Step 2a. Re-fit STRFs for subj/models with poor alpha range\n",
    "I.e., the best alpha is either the min or the max value."
   ]
  },
  {
   "cell_type": "markdown",
   "metadata": {},
   "source": [
    "### 3. Save model results"
   ]
  },
  {
   "cell_type": "code",
   "execution_count": 22,
   "metadata": {},
   "outputs": [
    {
     "data": {
      "application/json": {
       "ascii": false,
       "bar_format": null,
       "colour": null,
       "elapsed": 0.012317895889282227,
       "initial": 0,
       "n": 0,
       "ncols": null,
       "nrows": null,
       "postfix": null,
       "prefix": "",
       "rate": null,
       "total": 16,
       "unit": "it",
       "unit_divisor": 1000,
       "unit_scale": false
      },
      "application/vnd.jupyter.widget-view+json": {
       "model_id": "54feacff691e4215baf703a62178851c",
       "version_major": 2,
       "version_minor": 0
      },
      "text/plain": [
       "  0%|          | 0/16 [00:00<?, ?it/s]"
      ]
     },
     "metadata": {},
     "output_type": "display_data"
    }
   ],
   "source": [
    "# Save weights to hdf5 file\n",
    "force_overwrite = True\n",
    "pbar = tqdm(subjs)\n",
    "for s in pbar:\n",
    "    model_output_h5_fpath = os.path.join(git_path,\"analysis\",\"mtrf\",\"h5\",\"weights\",f\"{s}_weights.hdf5\")\n",
    "    for m in models:\n",
    "        pbar.set_description(f\"Saving model results for {s} {m}\")\n",
    "        # Update this file location accordingly on your local machine!\n",
    "        if os.path.isfile(model_output_h5_fpath):\n",
    "            with h5py.File(model_output_h5_fpath,'a') as f:\n",
    "                if m not in f.keys():\n",
    "                    f.create_dataset(m, data = wts[s][m])\n",
    "                elif force_overwrite:\n",
    "                    f[m][:] = wts[s][m]\n",
    "                else:\n",
    "                    print(\n",
    "                        f\"{s} {m} weights already saved to hdf5. To force an overwrite, set 'force_overwrite' to True.\"\n",
    "                    )\n",
    "        else:\n",
    "            with h5py.File(model_output_h5_fpath,'w') as f:\n",
    "                f.create_dataset(m, data = wts[s][m])    "
   ]
  },
  {
   "cell_type": "code",
   "execution_count": 23,
   "metadata": {},
   "outputs": [
    {
     "data": {
      "application/json": {
       "ascii": false,
       "bar_format": null,
       "colour": null,
       "elapsed": 0.010434865951538086,
       "initial": 0,
       "n": 0,
       "ncols": null,
       "nrows": null,
       "postfix": null,
       "prefix": "",
       "rate": null,
       "total": 16,
       "unit": "it",
       "unit_divisor": 1000,
       "unit_scale": false
      },
      "application/vnd.jupyter.widget-view+json": {
       "model_id": "237c0b3b0ff848a892087f58bd1febf0",
       "version_major": 2,
       "version_minor": 0
      },
      "text/plain": [
       "  0%|          | 0/16 [00:00<?, ?it/s]"
      ]
     },
     "metadata": {},
     "output_type": "display_data"
    }
   ],
   "source": [
    "force_overwrite = True\n",
    "results_csv_fpath = os.path.join(git_path,\"analysis\",\"mtrf\",\"results.csv\")\n",
    "df = pd.read_csv(results_csv_fpath)\n",
    "pbar = tqdm(subjs)\n",
    "for s in pbar:\n",
    "    for m in models:\n",
    "        pbar.set_description(f\"Saving alphas/corrs for {s} {m} to csv\")\n",
    "        for i,ch in enumerate(ch_names[s]):\n",
    "            if len(df[(df['subject']==s) & (df['model']==m) & (df['channel']==ch)]) == 0:\n",
    "                # Data does not exist in dataframe so let's add it\n",
    "                # using nan as pval as a placeholder as we still need to bootstrap\n",
    "                new_row = pd.DataFrame({\n",
    "                    'subject':[s], 'model':[m], 'channel':[ch],\n",
    "                    'r_value':[corrs[s][m][i]], 'p_value':[\"nan\"], \"best_alpha\":[best_alphas[s][m][0]]\n",
    "                })\n",
    "                df = df.append(new_row,ignore_index=True)\n",
    "            elif force_overwrite:\n",
    "                tgt_row = df[(df['subject']==s) & (df['model']==m) & (df['channel']==ch)]\n",
    "                df.loc[tgt_row.index, 'r_value'] = corrs[s][m][i]\n",
    "                df.loc[tgt_row.index, 'best_alpha'] = best_alphas[s][m][0]\n",
    "                df.loc[tgt_row.index, 'p_value'] = \"nan\"\n",
    "            else:\n",
    "                print(\n",
    "                    f\"data for {s} {m} {ch} already exists. To overwrite, set 'force_overwrite' to True\"\n",
    "                )\n",
    "df.to_csv(results_csv_fpath,index=False)"
   ]
  }
 ],
 "metadata": {
  "kernelspec": {
   "display_name": "Python 3",
   "language": "python",
   "name": "python3"
  },
  "language_info": {
   "codemirror_mode": {
    "name": "ipython",
    "version": 3
   },
   "file_extension": ".py",
   "mimetype": "text/x-python",
   "name": "python",
   "nbconvert_exporter": "python",
   "pygments_lexer": "ipython3",
   "version": "3.7.7"
  }
 },
 "nbformat": 4,
 "nbformat_minor": 4
}
