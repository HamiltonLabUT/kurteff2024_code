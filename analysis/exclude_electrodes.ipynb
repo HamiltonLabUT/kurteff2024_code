{
 "cells": [
  {
   "cell_type": "markdown",
   "metadata": {},
   "source": [
    "For analysis in NMF and representation in figures, electrodes must meet one of two criteria:\n",
    "1. A p-value of <= 0.05, as determined by the bootstrapping method in `results/stats/bootstrap_electrode_significance.ipynb`. Either a `spkr_p` or `mic_p` under the threshold is sufficient.\n",
    "2. An r-value of >= 0.1 in mTRF model 1 (\"full\" model), calculated in `ecog/strf/ecog_strf.ipynb`\n",
    "\n",
    "There are also several exclusion criteria:\n",
    "1. The electrode is outside the brain, or next to an outside-the-brain electrode and has a similar waveform to the one outside the brain. These were manually entered by GLK and stored in `./manually_excluded_electrodes.csv`.\n",
    "2. The waveform of the ERP is reduced to noise when a bipolar reference is used instead of the regular common average reference. These were manually entered by GLK and stored in `./manually_excluded_electrodes_bipolar.csv`.\n",
    "\n",
    "This notebook generates two csvs, `./all_included_electrodes.csv` and `./all_excluded_electrodes.csv`."
   ]
  },
  {
   "cell_type": "code",
   "execution_count": 2,
   "metadata": {},
   "outputs": [],
   "source": [
    "import mne\n",
    "import os\n",
    "import numpy as np\n",
    "import pandas as pd\n",
    "from img_pipe import img_pipe\n",
    "import warnings\n",
    "\n",
    "from matplotlib import pyplot as plt\n",
    "from matplotlib import cm\n",
    "from matplotlib import rcParams as rc\n",
    "from matplotlib.gridspec import GridSpec\n",
    "from matplotlib.colors import LinearSegmentedColormap\n",
    "rc['pdf.fonttype'] = 42\n",
    "plt.style.use('seaborn')\n",
    "import seaborn as sns\n",
    "%matplotlib inline"
   ]
  },
  {
   "cell_type": "code",
   "execution_count": null,
   "metadata": {},
   "outputs": [],
   "source": [
    "git_path = '/path/to/git/kurteff2024_code/'\n",
    "data_path = '/path/to/bids/dataset/'"
   ]
  },
  {
   "cell_type": "code",
   "execution_count": 1,
   "metadata": {},
   "outputs": [
    {
     "ename": "NameError",
     "evalue": "name 'os' is not defined",
     "output_type": "error",
     "traceback": [
      "\u001b[0;31m---------------------------------------------------------------------------\u001b[0m",
      "\u001b[0;31mNameError\u001b[0m                                 Traceback (most recent call last)",
      "\u001b[0;32m/var/folders/72/y7rz3xw121n5pp8przhfnd5c0000gn/T/ipykernel_96156/3357210129.py\u001b[0m in \u001b[0;36m<module>\u001b[0;34m\u001b[0m\n\u001b[0;32m----> 1\u001b[0;31m subjs = [s for s in os.listdir(\n\u001b[0m\u001b[1;32m      2\u001b[0m     os.path.join(git_path,\"preprocessing\",\"events\",\"csv\")) if \"TCH\" in s or \"S0\" in s]\n\u001b[1;32m      3\u001b[0m \u001b[0mexclude\u001b[0m \u001b[0;34m=\u001b[0m \u001b[0;34m[\u001b[0m\u001b[0;34m\"TCH8\"\u001b[0m\u001b[0;34m]\u001b[0m\u001b[0;34m\u001b[0m\u001b[0;34m\u001b[0m\u001b[0m\n\u001b[1;32m      4\u001b[0m \u001b[0mno_imaging\u001b[0m \u001b[0;34m=\u001b[0m \u001b[0;34m[\u001b[0m\u001b[0;34m\"S0010\"\u001b[0m\u001b[0;34m]\u001b[0m\u001b[0;34m\u001b[0m\u001b[0;34m\u001b[0m\u001b[0m\n\u001b[1;32m      5\u001b[0m \u001b[0mno_sh\u001b[0m \u001b[0;34m=\u001b[0m \u001b[0;34m[\u001b[0m\u001b[0;34m'S0023'\u001b[0m\u001b[0;34m,\u001b[0m\u001b[0;34m'TCH06'\u001b[0m\u001b[0;34m]\u001b[0m\u001b[0;34m\u001b[0m\u001b[0;34m\u001b[0m\u001b[0m\n",
      "\u001b[0;31mNameError\u001b[0m: name 'os' is not defined"
     ]
    }
   ],
   "source": [
    "subjs = [s for s in os.listdir(\n",
    "    os.path.join(git_path,\"preprocessing\",\"events\",\"csv\")) if \"TCH\" in s or \"S0\" in s]\n",
    "exclude = [\"TCH8\"]\n",
    "no_imaging = [\"S0010\"]\n",
    "subjs = [s for s in subjs if s not in exclude]"
   ]
  },
  {
   "cell_type": "code",
   "execution_count": null,
   "metadata": {},
   "outputs": [],
   "source": [
    "# get mtrf rvals\n",
    "rdf = pd.read_csv.os.path.join(git_path,\"analysis\",\"mtrf\",\"results.csv\")\n",
    "rdf = rdf.loc[rdf['model']=='model1']\n",
    "rvals = dict()\n",
    "for s in subjs:\n",
    "    rvals[s] = dict()\n",
    "    ch_names = list(rdf.loc[rdf['subject']==s]['channel'].values)\n",
    "    for ch in ch_names:\n",
    "        rvals[s][ch] = rdf.loc[(rdf['subject']==s)&(rdf['channel']==ch)]['r_value'].values[0]"
   ]
  },
  {
   "cell_type": "code",
   "execution_count": null,
   "metadata": {},
   "outputs": [],
   "source": [
    "# get pvals\n",
    "pdf = pd.read_csv(os.path.join(git_path,\"stats\",\"bootstraps\",\"seeg_elec_significance_16_subjs_1000_boots.csv\"))\n",
    "pvals = dict()\n",
    "for s in subjs:\n",
    "    pvals[s] = dict()\n",
    "    ch_names = list(pdf.loc[pdf['subj']==s]['ch_name'].values)\n",
    "    for ch in ch_names:\n",
    "        if ch != \"EKG1\":\n",
    "            pvals[s][ch] = dict()\n",
    "            pvals[s][ch]['spkr'] = pdf.loc[(pdf['subj']==s)&(pdf['ch_name']==ch)]['spkr_p'].values[0]\n",
    "            pvals[s][ch]['mic'] = pdf.loc[(pdf['subj']==s)&(pdf['ch_name']==ch)]['mic_p'].values[0]"
   ]
  },
  {
   "cell_type": "code",
   "execution_count": null,
   "metadata": {},
   "outputs": [],
   "source": [
    "# get outside the brain\n",
    "outside_brain = dict()\n",
    "for s in subjs:\n",
    "    if s not in no_anat:\n",
    "        in_bolt_fpath = os.path.join(data_path,f\"{s}_complete\",\"elecs\",f\"{s}_IN_BOLT.txt\")\n",
    "        elecs_in_bolt = np.loadtxt(in_bolt_fpath, dtype=str, skiprows=1)\n",
    "        if len(elecs_in_bolt.shape) > 0:\n",
    "            if elecs_in_bolt.shape[0] != 0:\n",
    "                elecs_in_bolt = list(elecs_in_bolt)\n",
    "            else:\n",
    "                elecs_in_bolt = []\n",
    "        else:\n",
    "            elecs_in_bolt = [str(elecs_in_bolt)]\n",
    "        outside_brain[s] = elecs_in_bolt\n",
    "    else:\n",
    "        outside_brain[s] = []"
   ]
  },
  {
   "cell_type": "code",
   "execution_count": null,
   "metadata": {},
   "outputs": [],
   "source": [
    "# get manually excluded\n",
    "manual_excludes = dict()\n",
    "excl_df = pd.read_csv(os.path.join(git_path,\"results\",\"ecog_paper\",\"manually_excluded_electrodes.csv\"))\n",
    "for s in subjs:\n",
    "    manual_excludes[s] = list(excl_df.loc[excl_df['subject']==s]['channel'].values)"
   ]
  },
  {
   "cell_type": "code",
   "execution_count": null,
   "metadata": {},
   "outputs": [],
   "source": [
    "# get manually excluded (bipolar ref)\n",
    "manual_excludes_bp = dict()\n",
    "excl_df = pd.read_csv(os.path.join(git_path,\"analysis\",\"manually_excluded_electrodes_bipolar.csv\"))\n",
    "for s in subjs:\n",
    "    manual_excludes_bp[s] = list(excl_df.loc[excl_df['subject']==s]['channel'].values)"
   ]
  },
  {
   "cell_type": "code",
   "execution_count": null,
   "metadata": {},
   "outputs": [],
   "source": [
    "# Evaluate inclusion, subject-by-subject\n",
    "include_chs = dict(); include_pvals, include_r = dict(), dict()\n",
    "exclude_chs = dict()\n",
    "for s in subjs:\n",
    "    include_chs[s] = []; include_pvals[s], include_r[s] = [], []\n",
    "    exclude_chs[s] = []\n",
    "    ch_names = list(pvals[s].keys())\n",
    "    for ch in ch_names:\n",
    "        spkr_p = pvals[s][ch]['spkr']\n",
    "        mic_p = pvals[s][ch]['mic']\n",
    "        r = rvals[s][ch]\n",
    "        if ch not in manual_excludes[s] and ch not in manual_excludes_bp[s] and ch not in outside_brain[s]:\n",
    "            if spkr_p < 0.05 or mic_p < 0.05:\n",
    "                include_chs[s].append(ch)\n",
    "                include_pvals[s].append(ch)\n",
    "            elif r >= 0.1:\n",
    "                include_chs[s].append(ch)\n",
    "            if r >= 0.1:\n",
    "                include_r[s].append(ch)\n",
    "            else:\n",
    "                exclude_chs[s].append(ch)\n",
    "        else:\n",
    "            exclude_chs[s].append(ch)\n",
    "    print(f\"{s}: Including {len(include_chs[s])} channels & excluding {len(exclude_chs[s])} channels.\")\n",
    "    print(f\"{s}: {len(include_pvals[s])} channels with significant pvals and {len(include_r[s])} channels with good TRF fit.\")\n",
    "    print(\"\")"
   ]
  },
  {
   "cell_type": "code",
   "execution_count": null,
   "metadata": {},
   "outputs": [],
   "source": [
    "# save to txtfiles\n",
    "include_txt = [[\"subject\",\"channel\"]]\n",
    "exclude_txt = [[\"subject\",\"channel\"]]\n",
    "for s in subjs:\n",
    "    for ch in include_chs[s]:\n",
    "        include_txt.append([s, ch])\n",
    "    for ch in exclude_chs[s]:\n",
    "        exclude_txt.append([s, ch])\n",
    "np.savetxt(os.path.join(git_path,\"analysis\", \"all_included_electrodes.csv\"),\n",
    "           np.array(include_txt), delimiter=\",\", fmt=\"%s\")\n",
    "np.savetxt(os.path.join(git_path,\"analysis\", \"all_excluded_electrodes.csv\"),\n",
    "           np.array(exclude_txt), delimiter=\",\", fmt=\"%s\")"
   ]
  }
 ],
 "metadata": {
  "kernelspec": {
   "display_name": "Python 3 (ipykernel)",
   "language": "python",
   "name": "python3"
  },
  "language_info": {
   "codemirror_mode": {
    "name": "ipython",
    "version": 3
   },
   "file_extension": ".py",
   "mimetype": "text/x-python",
   "name": "python",
   "nbconvert_exporter": "python",
   "pygments_lexer": "ipython3",
   "version": "3.9.7"
  }
 },
 "nbformat": 4,
 "nbformat_minor": 4
}
