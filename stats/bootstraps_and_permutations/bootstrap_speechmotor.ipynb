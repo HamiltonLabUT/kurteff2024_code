{
 "cells": [
  {
   "cell_type": "code",
   "execution_count": null,
   "metadata": {},
   "outputs": [],
   "source": [
    "# Paths - Update locally!\n",
    "git_path = '/path/to/git/kurteff2024_code/'\n",
    "data_path = '/path/to/bids/dataset/'"
   ]
  },
  {
   "cell_type": "code",
   "execution_count": null,
   "metadata": {},
   "outputs": [],
   "source": [
    "import mne\n",
    "import numpy as np\n",
    "import pandas as pd\n",
    "import os\n",
    "import re\n",
    "import csv\n",
    "from tqdm.notebook import tqdm\n",
    "import warnings\n",
    "\n",
    "from img_pipe import img_pipe\n",
    "\n",
    "from matplotlib import pyplot as plt\n",
    "from matplotlib import rcParams as rc\n",
    "import matplotlib.patheffects as PathEffects\n",
    "rc['pdf.fonttype'] = 42\n",
    "plt.style.use('seaborn')\n",
    "%matplotlib inline"
   ]
  },
  {
   "cell_type": "code",
   "execution_count": null,
   "metadata": {},
   "outputs": [],
   "source": [
    "subjs = [s for s in os.listdir(\n",
    "    os.path.join(git_path,\"preprocessing\",\"events\",\"csv\")) if \"TCH\" in s or \"S0\" in s]\n",
    "exclude = [\"TCH8\"]\n",
    "no_imaging = [\"S0010\"]\n",
    "subjs = [s for s in subjs if s not in exclude]\n",
    "\n",
    "blocks = {\n",
    "    s: [\n",
    "        b.split(\"_\")[-1] for b in os.listdir(os.path.join(\n",
    "            git_path,\"analysis\",\"events\",\"csv\",s)) if f\"{s}_B\" in b and os.path.isfile(os.path.join(\n",
    "            git_path,\"analysis\",\"events\",\"csv\",s,b,f\"{b}_spkr_sn_all.txt\"\n",
    "        ))\n",
    "    ] for s in subjs\n",
    "}\n",
    "\n",
    "smc_blocks = {\n",
    "    s: [\n",
    "        b.split(\"_\")[-1] for b in os.listdir(os.path.join(\n",
    "            git_path,\"analysis\",\"events\",\"csv\",s)) if f\"{s}_B\" in b and os.path.isfile(os.path.join(\n",
    "            git_path,\"analysis\",\"events\",\"csv\",s,b,f\"{b}_smc_mic.txt\"\n",
    "        ))\n",
    "    ] for s in subjs\n",
    "}"
   ]
  },
  {
   "cell_type": "markdown",
   "metadata": {},
   "source": [
    "### Epoch the data"
   ]
  },
  {
   "cell_type": "code",
   "execution_count": null,
   "metadata": {},
   "outputs": [],
   "source": [
    "baseline_tmin, baseline_tmax = -.5, 0. # Before the click\n",
    "resp_tmin, resp_tmax = 0.5, 1. # After the click resp\n",
    "baseline = None; epochs, ch_names = dict(), dict()\n",
    "for s in tqdm([ss for ss in subjs if len(smc_blocks[ss])>0]):\n",
    "    epochs[s] = dict(); epochs[s]['baseline'] = []; epochs[s]['resp'] = []\n",
    "    for b in smc_blocks[s]:\n",
    "        blockid = \"_\".join([s,b])\n",
    "        raw = mne.io.read_raw_fif(os.path.join(data_path,f\"sub-{s}\",s,blockid,\"HilbAA_70to150_8band\",\n",
    "                                               \"ecog_hilbAA70to150.fif\"), preload=True, verbose=False)\n",
    "        fs = raw.info['sfreq']\n",
    "        # Load event file\n",
    "        ev_fpath = os.path.join(git_path,\"preprocessing\",\"events\",\"csv\",s,blockid,f\"{blockid}_click_eve.txt\")\n",
    "        evs = np.loadtxt(ev_fpath)\n",
    "        evs = np.vstack(((evs[:,0]*fs).astype(int),(evs[:,1]*fs).astype(int),evs[:,2].astype(int))).T\n",
    "        epochs[s]['baseline'].append(mne.Epochs(raw, evs, tmin=baseline_tmin, tmax=baseline_tmax,\n",
    "                                                baseline=baseline, preload=True, verbose=False))\n",
    "        epochs[s]['resp'].append(mne.Epochs(raw, evs, tmin=resp_tmin, tmax=resp_tmax,\n",
    "                                            baseline=baseline, preload=True, verbose=False))\n",
    "    epochs[s]['baseline'] = mne.concatenate_epochs(epochs[s]['baseline'])\n",
    "    epochs[s]['resp'] = mne.concatenate_epochs(epochs[s]['resp'])\n",
    "    ch_names[s] = raw.info['ch_names']"
   ]
  },
  {
   "cell_type": "markdown",
   "metadata": {},
   "source": [
    "### Run the bootstrap"
   ]
  },
  {
   "cell_type": "code",
   "execution_count": null,
   "metadata": {},
   "outputs": [],
   "source": [
    "nboots = 1000; pvals = {s:{ch:0 for ch in ch_names[s]} for s in epochs.keys()}\n",
    "for s in tqdm(epochs.keys()):\n",
    "    baseline = epochs[s]['baseline'].get_data(); resp = epochs[s]['resp'].get_data()\n",
    "    nepochs_baseline = baseline.shape[0]; nepochs_resp = resp.shape[0]\n",
    "    for ch_idx, ch in enumerate(ch_names[s]):\n",
    "        boot_results = []\n",
    "        for n in np.arange(nboots):\n",
    "            # Get a random ten epochs and average across these\n",
    "            baseline_idx = np.random.choice(np.arange(nepochs_baseline), size=10)\n",
    "            resp_idx = np.random.choice(np.arange(nepochs_resp), size=10)\n",
    "            # Average resp across samples/epochs (chunk of 10)\n",
    "            baseline_chunk = baseline[baseline_idx,ch_idx,:].mean(0).mean(0)\n",
    "            resp_chunk = resp[resp_idx,ch_idx,:].mean(0).mean(0)\n",
    "            if baseline_chunk > resp_chunk:\n",
    "                boot_results.append(1)\n",
    "            else:\n",
    "                boot_results.append(0)\n",
    "        pvals[s][ch] = sum(boot_results)/nboots"
   ]
  },
  {
   "cell_type": "code",
   "execution_count": null,
   "metadata": {},
   "outputs": [],
   "source": [
    "# Save to dataframe\n",
    "df = pd.DataFrame(columns = ['subj', 'ch_name', 'p'])\n",
    "for s in pvals.keys():\n",
    "    ch_names = list(pvals[s].keys())\n",
    "    for ch in ch_names:\n",
    "        new_row = pd.DataFrame({'subj':[s], 'ch_name':[ch], 'p':[pvals[s][ch]]})\n",
    "        df = df.append(new_row, ignore_index=True)\n",
    "df.to_csv(os.path.join(git_path,\"stats\",\"bootstraps\",\"csv\",\n",
    "    f\"seeg_elec_significance_{len(pvals.keys())}_subjs_{nboots}_boots_smc.csv\"), index=False)  "
   ]
  }
 ],
 "metadata": {
  "kernelspec": {
   "display_name": "Python 3",
   "language": "python",
   "name": "python3"
  },
  "language_info": {
   "codemirror_mode": {
    "name": "ipython",
    "version": 3
   },
   "file_extension": ".py",
   "mimetype": "text/x-python",
   "name": "python",
   "nbconvert_exporter": "python",
   "pygments_lexer": "ipython3",
   "version": "3.7.7"
  }
 },
 "nbformat": 4,
 "nbformat_minor": 4
}
