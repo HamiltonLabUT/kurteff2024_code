{
 "cells": [
  {
   "cell_type": "code",
   "execution_count": null,
   "metadata": {},
   "outputs": [],
   "source": [
    "# Paths - Update locally!\n",
    "git_path = '/path/to/git/kurteff2024_code/'\n",
    "data_path = '/path/to/bids/dataset/'"
   ]
  },
  {
   "cell_type": "code",
   "execution_count": null,
   "metadata": {},
   "outputs": [],
   "source": [
    "import mne\n",
    "import numpy as np\n",
    "import pandas as pd\n",
    "import os\n",
    "import re\n",
    "import csv\n",
    "from tqdm.notebook import tqdm\n",
    "import warnings\n",
    "\n",
    "from img_pipe import img_pipe\n",
    "\n",
    "from matplotlib import pyplot as plt\n",
    "from matplotlib import rcParams as rc\n",
    "import matplotlib.patheffects as PathEffects\n",
    "rc['pdf.fonttype'] = 42\n",
    "plt.style.use('seaborn')\n",
    "%matplotlib inline"
   ]
  },
  {
   "cell_type": "code",
   "execution_count": null,
   "metadata": {},
   "outputs": [],
   "source": [
    "subjs = [s for s in os.listdir(\n",
    "    os.path.join(git_path,\"preprocessing\",\"events\",\"csv\")) if \"TCH\" in s or \"S0\" in s]\n",
    "exclude = [\"TCH8\"]\n",
    "no_imaging = [\"S0010\"]\n",
    "subjs = [s for s in subjs if s not in exclude]\n",
    "\n",
    "blocks = {\n",
    "    s: [\n",
    "        b.split(\"_\")[-1] for b in os.listdir(os.path.join(\n",
    "            git_path,\"analysis\",\"events\",\"csv\",s)) if f\"{s}_B\" in b and os.path.isfile(os.path.join(\n",
    "            git_path,\"analysis\",\"events\",\"csv\",s,b,f\"{b}_spkr_sn_all.txt\"\n",
    "        ))\n",
    "    ] for s in subjs\n",
    "}\n",
    "\n",
    "# these are the subjects that don't have inconsistent playback trials and\n",
    "# are therefore excluded from analysis in this notebook\n",
    "no_sh = ['S0023','TCH06'] "
   ]
  },
  {
   "cell_type": "markdown",
   "metadata": {},
   "source": [
    "### Epoch data"
   ]
  },
  {
   "cell_type": "code",
   "execution_count": null,
   "metadata": {},
   "outputs": [],
   "source": [
    "click_tmin, click_tmax = 0.4, 0.6\n",
    "task_tmin, task_tmax = 0.05, 0.55\n",
    "baseline = None\n",
    "epochs, ch_names = dict(), dict()\n",
    "for s in tqdm(subjs):\n",
    "    epochs[s] = dict()\n",
    "    click_epochs, el_epochs, sh_epochs = [], [], []\n",
    "    for b in blocks[s]:\n",
    "        blockid = \"_\".join([s,b])\n",
    "        raw = mne.io.read_raw_fif(os.path.join(data_path,f\"{s}_complete\",s,blockid,\n",
    "            \"HilbAA_70to150_8band\",\"ecog_hilbAA70to150.fif\"),preload=True, verbose=False)\n",
    "        fs = raw.info['sfreq']\n",
    "        # Click events\n",
    "        click_eventfile = os.path.join(git_path,\"preprocessing\",\"events\",\"csv\",s,blockid,\n",
    "                                       f\"{blockid}_click_eve.txt\")\n",
    "        with open(click_eventfile,'r') as f:\n",
    "            r = csv.reader(f, delimiter='\\t')\n",
    "            if s not in [\"S0026\",\"TCH14\"]:\n",
    "                events = np.array([[np.ceil(float(row[0])*fs).astype(int),\n",
    "                                    np.ceil(float(row[2])*fs).astype(int),int(float(row[4]))] for row in r])\n",
    "            else:\n",
    "                events = np.loadtxt(click_eventfile).astype(int)\n",
    "                events[:,0] = np.array(events[:,0] * fs).astype(int)\n",
    "                events[:,1] = np.array(events[:,1] * fs).astype(int)\n",
    "        click_epochs.append(mne.Epochs(raw, events, tmin=click_tmin, tmax=click_tmax, baseline=baseline,\n",
    "            preload=True, verbose=False))\n",
    "        # Consistent events\n",
    "        el_eventfile = os.path.join(git_path,\"preprocessing\",\"events\",\"csv\",s,blockid,\n",
    "                                      f\"{blockid}_spkr_sn_el.txt\")\n",
    "        with open(el_eventfile,'r') as f:\n",
    "            r = csv.reader(f, delimiter='\\t')\n",
    "            events = np.array([[np.ceil(float(row[0])*fs).astype(int),\n",
    "                                np.ceil(float(row[1])*fs).astype(int),int(row[2])] for row in r])\n",
    "        el_epochs.append(mne.Epochs(raw, events, tmin=task_tmin, tmax=task_tmax, baseline=baseline,\n",
    "                                      preload=True, verbose=False))\n",
    "        # Mic events\n",
    "        sh_eventfile = os.path.join(git_path,\"preprocessing\",\"events\",\"csv\",s,blockid,\n",
    "                                     f\"{blockid}_spkr_sn_sh.txt\")\n",
    "        with open(sh_eventfile,'r') as f:\n",
    "            r = csv.reader(f, delimiter='\\t')\n",
    "            events = np.array([[np.ceil(float(row[0])*fs).astype(int),\n",
    "                                np.ceil(float(row[1])*fs).astype(int),int(row[2])] for row in r])\n",
    "        sh_epochs.append(mne.Epochs(raw, events, tmin=task_tmin, tmax=task_tmax, baseline=baseline,\n",
    "                                     preload=True, verbose=False))\n",
    "    epochs[s]['click'] = mne.concatenate_epochs(click_epochs)\n",
    "    epochs[s]['el'] = mne.concatenate_epochs(el_epochs)\n",
    "    epochs[s]['sh'] = mne.concatenate_epochs(sh_epochs)\n",
    "    ch_names[s] = raw.info['ch_names']"
   ]
  },
  {
   "cell_type": "markdown",
   "metadata": {},
   "source": [
    "### Run the bootstrap"
   ]
  },
  {
   "cell_type": "code",
   "execution_count": null,
   "metadata": {},
   "outputs": [],
   "source": [
    "nboots = 1000; pvals = dict()\n",
    "pvals['el'] = {s:{ch:0 for ch in ch_names[s]} for s in subjs if s not in no_sh}\n",
    "pvals['sh'] = {s:{ch:0 for ch in ch_names[s]} for s in subjs if s not in no_sh}\n",
    "for s in tqdm([ss for ss in subjs if ss not in no_sh]):\n",
    "    baseline = epochs[s]['click'].get_data()\n",
    "    el_resp = epochs[s]['el'].get_data(); sh_resp = epochs[s]['sh'].get_data()\n",
    "    nepochs_click = baseline.shape[0]; nepochs_el = el_resp.shape[0]; nepochs_sh = sh_resp.shape[0]\n",
    "    for ch_idx, ch in enumerate(ch_names[s]):\n",
    "        el_ch_boots, sh_ch_boots = [], []\n",
    "        for n in np.arange(nboots):\n",
    "            # Get a random ten epochs and average across these\n",
    "            baseline_idx = np.random.choice(np.arange(nepochs_click), size=10)\n",
    "            sh_idx = np.random.choice(np.arange(nepochs_sh), size=10)\n",
    "            el_idx = np.random.choice(np.arange(nepochs_el), size=10)\n",
    "            # Average resp across samples/epochs (chunk of 10)\n",
    "            baseline_chunk = baseline[baseline_idx,ch_idx,:].mean(0).mean(0)\n",
    "            el_chunk = el_resp[el_idx,ch_idx,:].mean(0).mean(0)\n",
    "            sh_chunk = sh_resp[sh_idx,ch_idx,:].mean(0).mean(0)\n",
    "            if baseline_chunk > el_chunk:\n",
    "                el_ch_boots.append(1)\n",
    "            else:\n",
    "                el_ch_boots.append(0)\n",
    "            if baseline_chunk > sh_chunk:\n",
    "                sh_ch_boots.append(1)\n",
    "            else:\n",
    "                sh_ch_boots.append(0)\n",
    "        pvals['el'][s][ch] = sum(el_ch_boots)/nboots; pvals['sh'][s][ch] = sum(sh_ch_boots)/nboots"
   ]
  },
  {
   "cell_type": "code",
   "execution_count": null,
   "metadata": {},
   "outputs": [],
   "source": [
    "# Save to dataframe\n",
    "df = pd.DataFrame(columns = ['subj', 'ch_name', 'el_p', 'sh_p'])\n",
    "for s in pvals['el'].keys():\n",
    "    ch_names = list(pvals['el'][s])\n",
    "    for ch in ch_names:\n",
    "        new_row = pd.DataFrame({'subj':[s], 'ch_name':[ch],\n",
    "                                'el_p':[pvals['el'][s][ch]], 'sh_p':[pvals['sh'][s][ch]]})\n",
    "        df = df.append(new_row, ignore_index=True)\n",
    "df.to_csv(os.path.join(git_path,\"stats\",\"bootstraps\",\"csv\",\n",
    "    f\"seeg_elec_significance_{len(pvals['el'].keys())}_subjs_{nboots}_boots_elsh.csv\"), index=False)  "
   ]
  }
 ],
 "metadata": {
  "kernelspec": {
   "display_name": "Python 3",
   "language": "python",
   "name": "python3"
  },
  "language_info": {
   "codemirror_mode": {
    "name": "ipython",
    "version": 3
   },
   "file_extension": ".py",
   "mimetype": "text/x-python",
   "name": "python",
   "nbconvert_exporter": "python",
   "pygments_lexer": "ipython3",
   "version": "3.7.7"
  }
 },
 "nbformat": 4,
 "nbformat_minor": 4
}
