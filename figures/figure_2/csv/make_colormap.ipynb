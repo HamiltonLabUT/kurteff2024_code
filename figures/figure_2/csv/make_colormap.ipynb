{
 "cells": [
  {
   "cell_type": "code",
   "execution_count": null,
   "metadata": {},
   "outputs": [],
   "source": [
    "# Paths - Update locally!\n",
    "git_path = '/path/to/git/kurteff2024_code/'\n",
    "data_path = '/path/to/bids/dataset/'"
   ]
  },
  {
   "cell_type": "code",
   "execution_count": null,
   "metadata": {},
   "outputs": [],
   "source": [
    "import mne\n",
    "import numpy as np\n",
    "import pandas as pd\n",
    "import os\n",
    "import re\n",
    "import csv\n",
    "from tqdm.notebook import tqdm\n",
    "import warnings\n",
    "\n",
    "from img_pipe import img_pipe\n",
    "\n",
    "from matplotlib import pyplot as plt\n",
    "from matplotlib import rcParams as rc\n",
    "import matplotlib.patheffects as PathEffects\n",
    "rc['pdf.fonttype'] = 42\n",
    "plt.style.use('seaborn')\n",
    "%matplotlib inline\n",
    "\n",
    "import sys\n",
    "sys.path.append(os.path.join(git_path,\"figures\"))\n",
    "import plotting_utils"
   ]
  },
  {
   "cell_type": "code",
   "execution_count": null,
   "metadata": {},
   "outputs": [],
   "source": [
    "subjs = [s for s in os.listdir(\n",
    "    os.path.join(git_path,\"preprocessing\",\"events\",\"csv\")) if \"TCH\" in s or \"S0\" in s]\n",
    "exclude = [\"TCH8\"]\n",
    "no_imaging = [\"S0010\"]\n",
    "subjs = [s for s in subjs if s not in exclude]\n",
    "\n",
    "blocks = {\n",
    "    s: [\n",
    "        b.split(\"_\")[-1] for b in os.listdir(os.path.join(\n",
    "            git_path,\"analysis\",\"events\",\"csv\",s)) if f\"{s}_B\" in b and os.path.isfile(os.path.join(\n",
    "            git_path,\"analysis\",\"events\",\"csv\",s,b,f\"{b}_spkr_sn_all.txt\"\n",
    "        ))\n",
    "    ] for s in subjs\n",
    "}\n",
    "\n",
    "hems = {s:[] for s in subjs}\n",
    "for s in subjs:\n",
    "    pt = img_pipe.freeCoG(f\"{s}_complete\",hem='stereo',subj_dir=data_path)\n",
    "    elecs = pt.get_elecs()['elecmatrix']\n",
    "    if sum(elecs[:,0] > 0) >= 1:\n",
    "        hems[s].append('rh')\n",
    "    if sum(elecs[:,0] < 0) >= 1:\n",
    "        hems[s].append('lh')\n",
    "\n",
    "color_palette = pd.read_csv(os.path.join(git_path,\"figures\",\"color_palette.csv\"))\n",
    "spkr_color = color_palette.loc[color_palette['color_id']=='perception']['hex'].values[0]\n",
    "mic_color = color_palette.loc[color_palette['color_id']=='production']['hex'].values[0]"
   ]
  },
  {
   "cell_type": "markdown",
   "metadata": {},
   "source": [
    "### epoch data"
   ]
  },
  {
   "cell_type": "code",
   "execution_count": null,
   "metadata": {},
   "outputs": [],
   "source": [
    "si_tmin = 0; si_tmax = 1; erp_tmin = -.5; erp_tmax = 2; reject = None; baseline = None\n",
    "epochs = dict(); ch_names = dict()\n",
    "for s in tqdm(subjs):\n",
    "    epochs[s] = dict(); spkr_epochs, mic_epochs = [], []\n",
    "    for b in blocks[s]:\n",
    "        blockid = f'{s}_{b}'\n",
    "        raw_fpath = os.path.join(data_path,f\"sub-{s}\",s,blockid,\"HilbAA_70to150_8band\",\n",
    "                                 \"ecog_hilbAA70to150.fif\")\n",
    "        raw = mne.io.read_raw_fif(raw_fpath,preload=True,verbose=False)\n",
    "        ch_names[s] = raw.info['ch_names']\n",
    "        fs = raw.info['sfreq']\n",
    "        # Spkr events\n",
    "        eventfile = os.path.join(git_path,\"preprocessing\",\"events\",\"csv\",s,blockid,\n",
    "                                 f\"{blockid}_spkr_sn_all.txt\")\n",
    "        with open(eventfile,'r') as f:\n",
    "            c = csv.reader(f,delimiter='\\t')\n",
    "            events = np.array([[int(float(row[0])*fs),int(float(row[1])*fs),int(row[2])] for row in c])\n",
    "        spkr_epochs.append(mne.Epochs(raw,events,tmin=erp_tmin,tmax=erp_tmax,\n",
    "                                      baseline=baseline,reject=reject,verbose=False))\n",
    "        # Mic events\n",
    "        eventfile = os.path.join(git_path,\"preprocessing\",\"events\",\"csv\",s,blockid,\n",
    "                                 f\"{blockid}_mic_sn_all.txt\")\n",
    "        with open(eventfile,'r') as f:\n",
    "            c = csv.reader(f,delimiter='\\t')\n",
    "            events = np.array([[int(float(row[0])*fs),int(float(row[1])*fs),int(row[2])] for row in c])\n",
    "        mic_epochs.append(mne.Epochs(raw,events,tmin=erp_tmin,tmax=erp_tmax,\n",
    "                                      baseline=baseline,reject=reject,verbose=False))\n",
    "    epochs[s]['spkr'] = mne.concatenate_epochs(spkr_epochs)\n",
    "    epochs[s]['mic'] = mne.concatenate_epochs(mic_epochs)"
   ]
  },
  {
   "cell_type": "markdown",
   "metadata": {},
   "source": [
    "### Calculate the suppression index\n",
    "Suppression index ($SI$) is formalized as:\n",
    "\n",
    "$SI_{n} = \\frac{1}{t}\\sum\\limits_{t=0}^{t=1}{H_\\gamma L_{n,t}}-{H_\\gamma S_{n,t}}$ , \n",
    "\n",
    "where $H\\gamma$ is the averaged high gamma activity averaged across a time window of interest for either perception ($L$) or production ($S$). Here we will calculate $SI$ in a 0-1000ms window relative to sentence onset."
   ]
  },
  {
   "cell_type": "code",
   "execution_count": null,
   "metadata": {},
   "outputs": [],
   "source": [
    "x = epochs[s]['mic'].times\n",
    "si_inds = [np.where(x==si_tmin)[0][0],np.where(x==si_tmax)[0][0]]\n",
    "si = dict()\n",
    "for s in subjs:\n",
    "    subj_si = []\n",
    "    for i,ch in enumerate(epochs[s]['mic'].info['ch_names']):\n",
    "        spkr_resp = epochs[s]['spkr'].get_data(picks=[ch]).squeeze()[:,si_inds[0]:si_inds[1]].mean(0).mean(0)\n",
    "        mic_resp = epochs[s]['mic'].get_data(picks=[ch]).squeeze()[:,si_inds[0]:si_inds[1]].mean(0).mean(0)\n",
    "        subj_si.append(spkr_resp-mic_resp)\n",
    "    si[s] = np.array(subj_si)\n",
    "# Normalize between 0 and 1\n",
    "si_min = np.hstack((list(si.values()))).min()\n",
    "si_max = np.hstack((list(si.values()))).max()\n",
    "for s in subjs:\n",
    "    si[s] = ((si[s]-si_min)/(si_max-si_min)) * 2 - 1"
   ]
  },
  {
   "cell_type": "code",
   "execution_count": null,
   "metadata": {},
   "outputs": [],
   "source": [
    "# Create colormap\n",
    "# Shift SI values so that the max value is 1 without normalizing\n",
    "# Just for cmap! We still report native cmap values\n",
    "# Max val for spkr - we shift so this is 1\n",
    "max_val = np.hstack((list(si.values()))).max(); min_val = np.hstack((list(si.values()))).min()\n",
    "# Apply the shift\n",
    "normed_si = dict()\n",
    "for s in subjs:\n",
    "    subj_si = []\n",
    "    for ch in si[s]:\n",
    "        subj_si.append((ch-min_val)/(max_val-min_val))\n",
    "    # Normalize\n",
    "    normed_si[s] = np.array(subj_si)\n",
    "elec_colors_rgb = dict()\n",
    "elec_colors_hex = dict()\n",
    "cmap = LinearSegmentedColormap.from_list('my_gradient', (\n",
    "    # Edit this gradient at https://eltos.github.io/gradient/#0:954997-20:954997-45:FFFFFF-50:FFFFFF-55:FFFFFF-80:117632-100:117632\n",
    "    (0.000, (0.584, 0.286, 0.592)),\n",
    "    (0.200, (0.584, 0.286, 0.592)),\n",
    "    (0.450, (1.000, 1.000, 1.000)),\n",
    "    (0.500, (1.000, 1.000, 1.000)),\n",
    "    (0.550, (1.000, 1.000, 1.000)),\n",
    "    (0.800, (0.067, 0.463, 0.196)),\n",
    "    (1.000, (0.067, 0.463, 0.196))))\n",
    "for s in subjs:\n",
    "    elec_colors_rgb[s] = [cmap(f) for f in normed_si[s]]\n",
    "    elec_colors_hex[s] = np.array(\n",
    "        [plotting_utils.rgb_to_hex(int(ec[0]*255),int(ec[1]*255),int(ec[2]*255)) for ec in elec_colors_rgb[s]])"
   ]
  },
  {
   "cell_type": "markdown",
   "metadata": {},
   "source": [
    "### write colormap values to dataframe"
   ]
  },
  {
   "cell_type": "code",
   "execution_count": null,
   "metadata": {},
   "outputs": [],
   "source": [
    "# Save to pandas\n",
    "df = pd.DataFrame(columns=['subj','hem','ch_name','x','y','z','r','g','b','a'])\n",
    "incl_df = pd.read_csv(os.path.join(git_path,\"analysis\",\"included_electrodes_pvals_only.csv\"))\n",
    "\n",
    "for hem in ['lh','rh']:\n",
    "    for s in [ss for s in subjs if hem in hems[ss]]:\n",
    "        blockid = \"_\".join([s,blocks[s][0]])\n",
    "        fif_ch_names = mne.io.read_raw_fif(os.path.join(data_path,f\"sub-{s}\",blockid,\"HilbAA_70to150_8band\",\n",
    "            \"ecog_hilbAA70to150.fif\"), preload=False, verbose=False).info['ch_names']\n",
    "        pt = img_pipe.freeCoG(f'{s}_complete',hem=hem, subj_dir=ip)\n",
    "        e, a = imaging_utils.clip_4mm_elecs(pt,hem=hem,elecfile_prefix=\"TDT_elecs_all_warped\")\n",
    "        e, a = imaging_utils.clip_outside_brain_elecs(pt,elecmatrix=e,anatomy=a,hem=hem,\n",
    "                                                      elecfile_prefix=\"TDT_elecs_all_warped\")\n",
    "        fs_ch_names = [aa[0][0] for aa in a]\n",
    "        incl_ch_names = incl_df.loc[incl_df['subject']==s]['channel'].values\n",
    "        for ch in incl_ch_names:\n",
    "            if ch.replace('-','') in [c.replace('-','') for c in fif_ch_names]:\n",
    "                fif_idx = [c.replace('-','') for c in fif_ch_names].index(ch.replace('-',''))\n",
    "                r,g,b,a = elec_colors_rgb[s][fif_idx]\n",
    "                elecfile_idx = [c.replace('-','') for c in fs_ch_names].index(ch.replace('-',''))\n",
    "                x,y,z = e[elecfile_idx,:]\n",
    "                new_row = pd.DataFrame({'subj':[s],'hem':[hem],'ch_name':[ch],'x':[x],'y':[y],'z':[z],\n",
    "                                       'r':[r],'g':[g],'b':[b],'a':[a]})\n",
    "                df = df.append(new_row, ignore_index=True)\n",
    "df.to_csv(os.path.join(git_path,\"figures\",\"figure_1\",\"csv\",\"figure_1_cmap.csv\"),index=False)"
   ]
  }
 ],
 "metadata": {
  "kernelspec": {
   "display_name": "Python 3",
   "language": "python",
   "name": "python3"
  },
  "language_info": {
   "codemirror_mode": {
    "name": "ipython",
    "version": 3
   },
   "file_extension": ".py",
   "mimetype": "text/x-python",
   "name": "python",
   "nbconvert_exporter": "python",
   "pygments_lexer": "ipython3",
   "version": "3.7.7"
  }
 },
 "nbformat": 4,
 "nbformat_minor": 4
}
