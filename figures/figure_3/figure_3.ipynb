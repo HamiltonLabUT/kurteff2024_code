{
 "cells": [
  {
   "cell_type": "code",
   "execution_count": null,
   "metadata": {},
   "outputs": [],
   "source": [
    "# Paths - Update locally!\n",
    "git_path = '/path/to/git/kurteff2024_code/'\n",
    "data_path = '/path/to/bids/dataset/'"
   ]
  },
  {
   "cell_type": "code",
   "execution_count": null,
   "metadata": {},
   "outputs": [],
   "source": [
    "import mne\n",
    "import numpy as np\n",
    "import pandas as pd\n",
    "import os\n",
    "import re\n",
    "import csv\n",
    "from tqdm.notebook import tqdm\n",
    "import warnings\n",
    "from img_pipe import img_pipe\n",
    "import librosa\n",
    "import h5py\n",
    "import pymf3\n",
    "\n",
    "from matplotlib import pyplot as plt\n",
    "from matplotlib import rcParams as rc\n",
    "from matplotlib.gridspec import GridSpec\n",
    "from matplotlib.colors import LinearSegmentedColormap\n",
    "import seaborn as sns\n",
    "rc['pdf.fonttype'] = 42\n",
    "plt.style.use('seaborn')\n",
    "%matplotlib inline\n",
    "\n",
    "import sys\n",
    "sys.path.append(os.path.join(git_path,\"figures\"))\n",
    "import plotting_utils\n",
    "sys.path.append(os.path.join(git_path,\"preprocessing\",\"events\",\"textgrids\"))\n",
    "import textgrid\n",
    "sys.path.append(os.path.join(git_path,\"preprocessing\",\"imaging\"))\n",
    "import imaging_utils"
   ]
  },
  {
   "cell_type": "code",
   "execution_count": null,
   "metadata": {},
   "outputs": [],
   "source": [
    "subjs = [s for s in os.listdir(\n",
    "    os.path.join(git_path,\"preprocessing\",\"events\",\"csv\")) if \"TCH\" in s or \"S0\" in s]\n",
    "exclude = [\"TCH8\"]\n",
    "no_imaging = [\"S0010\"]\n",
    "subjs = [s for s in subjs if s not in exclude]\n",
    "\n",
    "blocks = {\n",
    "    s: [\n",
    "        b.split(\"_\")[-1] for b in os.listdir(os.path.join(\n",
    "            git_path,\"analysis\",\"events\",\"csv\",s)) if f\"{s}_B\" in b and os.path.isfile(os.path.join(\n",
    "            git_path,\"analysis\",\"events\",\"csv\",s,b,f\"{b}_spkr_sn_all.txt\"\n",
    "        ))\n",
    "    ] for s in subjs\n",
    "}\n",
    "\n",
    "hems = {s:[] for s in subjs}\n",
    "for s in subjs:\n",
    "    pt = img_pipe.freeCoG(f\"{s}_complete\",hem='stereo',subj_dir=data_path)\n",
    "    elecs = pt.get_elecs()['elecmatrix']\n",
    "    if sum(elecs[:,0] > 0) >= 1:\n",
    "        hems[s].append('rh')\n",
    "    if sum(elecs[:,0] < 0) >= 1:\n",
    "        hems[s].append('lh')\n",
    "\n",
    "color_palette = pd.read_csv(os.path.join(git_path,\"figures\",\"color_palette.csv\"))\n",
    "spkr_color = color_palette.loc[color_palette['color_id']=='perception']['hex'].values[0]\n",
    "mic_color = color_palette.loc[color_palette['color_id']=='production']['hex'].values[0]\n",
    "click_color = color_palette.loc[color_palette['color_id']=='click']['hex'].values[0]"
   ]
  },
  {
   "cell_type": "markdown",
   "metadata": {},
   "source": [
    "### Load cNMF results"
   ]
  },
  {
   "cell_type": "code",
   "execution_count": null,
   "metadata": {},
   "outputs": [],
   "source": [
    "# Load NMF results from h5\n",
    "bname = 'spkrmicclick'; epoch_types = ['spkr','mic','click']; plt_colors = [spkr_color,mic_color,click_color]\n",
    "nmf = dict(); nmf['resp'] = dict()\n",
    "h5_fpath = os.path.join(git_path,\"analysis\",\"cnmf\",\"h5\",f\"NMF_grouped_{bname}.hf5\")\n",
    "with h5py.File(h5_fpath,'r') as f:\n",
    "    num_bases = np.array(f.get('num_bases')); nmf['pve'] = np.array(f.get('pve'))\n",
    "    for nb in num_bases:\n",
    "        nmf[nb] = dict(); nmf[nb]['W'] = np.array(f.get(f'{nb}_bases/W'))\n",
    "        nmf[nb]['H'] = np.array(f.get(f'{nb}_bases/H'))\n",
    "    for epoch_type in epoch_types:\n",
    "        nmf['resp'][epoch_type] = np.array(f.get(f'resp/{epoch_type}'))\n",
    "nmf['ch_names'] = np.loadtxt(os.path.join(git_path,\"analysis\",\"cnmf\",\"h5\",\n",
    "                                          f\"NMF_grouped_{bname}_ch_names.txt\"),dtype=str)\n",
    "nmf['all_subjs'] = np.loadtxt(os.path.join(git_path,\"analysis\",\"cnmf\",\"h5\",\n",
    "                                           f\"NMF_grouped_{bname}_all_subjs.txt\"), dtype=str)"
   ]
  },
  {
   "cell_type": "code",
   "execution_count": null,
   "metadata": {},
   "outputs": [],
   "source": [
    "# Convert resp into a subject-by-subject format\n",
    "resp, ch_names = dict(), dict()\n",
    "for s in subjs:\n",
    "    nmf_inds = np.where(nmf['all_subjs']==s)[0]\n",
    "    if nmf_inds.shape[0] == 0:\n",
    "        warnings.warn(f\"Subject {s} missing from {bname} NMF, skipping...\")\n",
    "    else:\n",
    "        ch_names[s] = nmf['ch_names'][nmf_inds]; resp[s] = dict()\n",
    "        for epoch_type in epoch_types:\n",
    "            resp[s][epoch_type] = nmf['resp'][epoch_type][nmf_inds,:]"
   ]
  },
  {
   "cell_type": "code",
   "execution_count": null,
   "metadata": {},
   "outputs": [],
   "source": [
    "# Truncate weights according to a kneepoint\n",
    "nmf['k'] = 9 # 86% PVE\n",
    "# clip nmf.W to k clusters, and reorder by weight\n",
    "clust = nmf[nmf['k']]; W = clust['W']; clusters = dict(); clusters['W'] = np.zeros(W.shape)\n",
    "clusters['all_subjs'] = np.zeros(W.shape).astype(str); clusters['ch_names'] = np.zeros(W.shape).astype(str)\n",
    "clusters['resp'] = {epoch_type:np.zeros((nmf['k'],W.shape[0],\n",
    "                                         nmf['resp'][epoch_types[0].shape[1]])) for epoch_type in epoch_types}\n",
    "clust_sort = np.argsort(W.sum(0))\n",
    "for ri,ai in enumerate(clust_sort): # relative/absolute index\n",
    "    sorted_idxs = np.flip(np.argsort(W[:,ai])); clusters['W'][:,ri] = W[:,ai][sorted_idxs]\n",
    "    clusters['all_subjs'][:,ri] = nmf['all_subjs'][sorted_idxs]\n",
    "    clusters['ch_names'][:,ri] = nmf['ch_names'][sorted_idxs]\n",
    "    for epoch_type in epoch_types:\n",
    "        clusters['resp'][epoch_type][ri,:] = nmf['resp'][epoch_type][sorted_idxs]   "
   ]
  },
  {
   "cell_type": "markdown",
   "metadata": {},
   "source": [
    "### Kneepoint panel"
   ]
  },
  {
   "cell_type": "code",
   "execution_count": null,
   "metadata": {},
   "outputs": [],
   "source": [
    "plt.figure(figsize=(5,4))\n",
    "bname = \"spkrmicclick\"\n",
    "plt.plot(num_bases,nmf['pve'],color='r')\n",
    "plt.axvline(nmf['k'],color='k',\n",
    "            label=\"%.1f%% PVE k=%d\"%(nmf['pve'][nmf['k']-2]*100,nmf['k']))\n",
    "plt.gca().set_xticks(np.arange(num_bases[0],num_bases[-1],8))\n",
    "plt.xlabel(\"Number of clusters\")\n",
    "plt.ylabel(\"Percent variance explained (PVE)\")\n",
    "plt.legend(frameon=True,framealpha=1,loc='lower right');\n",
    "plt.savefig(os.path.join(git_path,\"figures\",\"figure_3\",\"pdf\",\"kneepoint.pdf\"))"
   ]
  },
  {
   "cell_type": "markdown",
   "metadata": {},
   "source": [
    "### Cluster average response"
   ]
  },
  {
   "cell_type": "code",
   "execution_count": null,
   "metadata": {},
   "outputs": [],
   "source": [
    "n_top_elecs = 16; clust = 0 # update accordingly, this is zero-indexed so 0 is dual onset clust\n",
    "# You can also cross-reference with figure S3 if you need to know which cluster is which response type.\n",
    "plt.figure(figsize=(5,5))\n",
    "x = np.linspace(-1,2,clusters['resp']['mic'][clust].shape[1])\n",
    "for i,epoch_type in enumerate(epoch_types):\n",
    "    plt.plot(x,clusters['resp'][epoch_type][clust][:top_elecs].mean(0),color=plt_colors[i])\n",
    "    plt.axvline(0,color='k'); plt.title(f\"Cluster {clust+1} top {top_elecs} elecs avg\")\n",
    "plt.savefig(os.path.join(git_path,\"figures\",\"figure_3\",\"pdf\",f\"cluster_{clust+1}_avg_resp.pdf\"))"
   ]
  },
  {
   "cell_type": "markdown",
   "metadata": {},
   "source": [
    "### Single electrode plots"
   ]
  },
  {
   "cell_type": "code",
   "execution_count": null,
   "metadata": {},
   "outputs": [],
   "source": [
    "def epoch_data(subj,blocks,git_path,data_path,channel='spkr',level='sn',condition='all',\n",
    "               tmin=-.5, tmax=2, baseline=None, click=False):\n",
    "    epochs = []\n",
    "    for b in blocks:\n",
    "        blockid = f'{subj}_{b}'\n",
    "        raw_fpath = os.path.join(\n",
    "            data_path,f\"sub-{subj}\",blockid,\"HilbAA_70to150_8band\",\"ecog_hilbAA70to150.fif\")\n",
    "        if click:\n",
    "            eventfile = os.path.join(git_path,\"preprocessing\",\"events\",\"csv\",s,blockid,\n",
    "                                     f\"{blockid}_click_eve.txt\")\n",
    "        else:\n",
    "            eventfile = os.path.join(git_path,\"preprocessing\",\"events\",\"csv\",s,blockid,\n",
    "                                     f\"{blockid}_{channel}_{level}_{condition}.txt\")\n",
    "        raw = mne.io.read_raw_fif(raw_fpath,preload=True,verbose=False)\n",
    "        fs = raw.info['sfreq']\n",
    "        if click:\n",
    "            onset_index, offset_index, id_index = 0,2,4\n",
    "        else:\n",
    "            onset_index, offset_index, id_index = 0,1,2\n",
    "        with open(eventfile,'r') as f:\n",
    "            r = csv.reader(f,delimiter='\\t')\n",
    "            events = np.array([[np.ceil(float(row[onset_index])*fs).astype(int),\n",
    "                                np.ceil(float(row[offset_index])*fs).astype(int),\n",
    "                                int(row[id_index])] for row in r])\n",
    "        epochs.append(mne.Epochs(raw,events,tmin=tmin,tmax=tmax,baseline=baseline,preload=True,verbose=False))\n",
    "    return mne.concatenate_epochs(epochs,verbose=False)"
   ]
  },
  {
   "cell_type": "code",
   "execution_count": null,
   "metadata": {},
   "outputs": [],
   "source": [
    "def sem(epochs):\n",
    "    '''\n",
    "    calculates standard error margin across epochs\n",
    "    epochs should have shape (epochs,samples)\n",
    "    '''\n",
    "    sem_below = epochs.mean(0) - (epochs.std(0)/np.sqrt(epochs.shape[0]))\n",
    "    sem_above = epochs.mean(0) + (epochs.std(0)/np.sqrt(epochs.shape[0]))\n",
    "    return sem_below, sem_above"
   ]
  },
  {
   "cell_type": "code",
   "execution_count": null,
   "metadata": {},
   "outputs": [],
   "source": [
    "subj, elec = \"S0018\", \"PST-PI'5\" # Update accordingly\n",
    "tmin, tmax = -0.5, 1.0\n",
    "with warnings.catch_warnings():\n",
    "    warnings.simplefilter(\"ignore\")\n",
    "    spkr_epochs = epoch_data(subj,blocks[subj],git_path,data_path,channel='spkr',tmin=tmin,tmax=tmax)\n",
    "    mic_epochs = epoch_data(subj,blocks[subj],git_path,data_path,channel='mic',tmin=tmin,tmax=tmax)\n",
    "    click_epochs = epoch_data(subj,blocks[subj],git_path,data_path,channel='spkr',click=True,tmin=tmin,tmax=tmax)\n",
    "ch_names = spkr_epochs.info['ch_names']\n",
    "ch_idx = ch_names.index(elec)\n",
    "# Load anat\n",
    "if os.path.isdir(os.path.join(data_path,f\"{subj}_complete\")):\n",
    "    patient = img_pipe.freeCoG(f\"{subj}_complete\",hem='stereo',subj_dir=data_path)\n",
    "    anat = patient.get_elecs()['anatomy']\n",
    "    anat_idx = [a[0][0] for a in anat].index(elec)\n",
    "    fs_roi = anat[anat_idx][3][0]\n",
    "else:\n",
    "    fs_roi = \"anatomy unknown\"\n",
    "x = spkr_epochs.times\n",
    "fig = plt.figure(figsize=(5,5))\n",
    "# Plot spkr\n",
    "spkr_y = spkr_epochs.get_data(picks=[elec]).squeeze()\n",
    "spkr_y_below, spkr_y_above = sem(spkr_y)\n",
    "plt.plot(x,spkr_y.mean(0),color=spkr_color)\n",
    "plt.fill_between(x,spkr_y_below,spkr_y_above,color=spkr_color,alpha=0.3)\n",
    "# Plot mic\n",
    "mic_y = mic_epochs.get_data(picks=[elec]).squeeze()\n",
    "mic_y_below, mic_y_above = sem(mic_y)\n",
    "plt.plot(x,mic_y.mean(0),color=mic_color)\n",
    "plt.fill_between(x,mic_y_below,mic_y_above,color=mic_color,alpha=0.3)\n",
    "# Plot click\n",
    "click_y = click_epochs.get_data(picks=[elec]).squeeze()\n",
    "click_y_below, click_y_above = sem(click_y)\n",
    "plt.plot(x,click_y.mean(0),color=click_color)\n",
    "plt.fill_between(x,click_y_below,click_y_above,color=click_color,alpha=0.3)\n",
    "# Plt decorations\n",
    "plt.title(f\"{subj} {elec} {fs_roi}\", fontsize=14)\n",
    "plt.axvline(0,color='k')\n",
    "# Plt settings\n",
    "xlims = [x[0], x[-1]]\n",
    "plt.gca().set_xlim(xlims)\n",
    "xticks = np.round(np.arange(xlims[0],xlims[-1]+.5,.5),decimals=1)\n",
    "plt.gca().set_xticks(xticks)\n",
    "plt.gca().set_xticklabels(xticks,fontsize=12)\n",
    "plt.savefig(os.path.join(git_path,\"figures\",\"figure_3\",\"pdf\",f\"{subj}_{elec}_spkrmicclick.pdf\"))"
   ]
  },
  {
   "cell_type": "markdown",
   "metadata": {},
   "source": [
    "### Colorbars\n",
    "for 2d and 1d recon heatmaps"
   ]
  },
  {
   "cell_type": "code",
   "execution_count": null,
   "metadata": {},
   "outputs": [],
   "source": [
    "cmap = cm.Reds\n",
    "plt.figure(figsize=(12,2))\n",
    "plt.imshow(np.repeat(np.expand_dims(np.arange(100),axis=1),3,axis=1).T,aspect='auto',cmap=cmap)\n",
    "plt.axis('off');\n",
    "plt.savefig(os.path.join(git_path,\"figures\",\"figure_3\",\"pdf\",\"legend_1d.pdf\"))"
   ]
  },
  {
   "cell_type": "code",
   "execution_count": null,
   "metadata": {},
   "outputs": [],
   "source": [
    "# Read in colormap from .png\n",
    "cmap_2d = plt.imread(os.path.join(git_path,\"figures\",\"figure_3\",\"RdBuPr_splinesqrt22.png\"))\n",
    "plt.figure(figsize=(5,5))\n",
    "plt.imshow(cmap_2d)\n",
    "plt.grid(False)\n",
    "plt.xlabel(\"RGB 0-255\")\n",
    "plt.ylabel(\"RGB 0-255\");\n",
    "plt.savefig(os.path.join(git_path,\"figures\",\"figure_3\",\"pdf\",\"legend_2d.pdf\"))"
   ]
  },
  {
   "cell_type": "markdown",
   "metadata": {},
   "source": [
    "### Pie charts"
   ]
  },
  {
   "cell_type": "code",
   "execution_count": null,
   "metadata": {},
   "outputs": [],
   "source": [
    "k = nmf['k']; n_top_elecs=50\n",
    "top_elecs = pd.DataFrame(columns=[\"subj\",\"elec\",\"clust\",\"elec_rank\",\"w\",\n",
    "                                  \"fs_roi\",\"fs_roi_condensed\",\"gross_anat\"])\n",
    "for clust in np.arange(k):\n",
    "    for n in np.arange(n_top_elecs):\n",
    "        elec = clusters['ch_names'][n,clust]; s = clusters['all_subjs'][n,clust]; w = clusters['W'][n,clust]\n",
    "        if s not in no_imaging:\n",
    "            pt = img_pipe.freeCoG(f\"{s}_complete\",hem='stereo',subj_dir=data_path)\n",
    "            anat = pt.get_elecs(elecfile_prefix=\"TDT_elecs_all_warped\")['anatomy']\n",
    "            fs_ch_names = [a[0][0].replace(\"-\",\"\") for a in anat]\n",
    "            if s == \"S0020\":\n",
    "                fs_ch_names = [c.replace(\"AIPOF'\",\"APIOF'\") for c in fs_ch_names]\n",
    "            if elec.replace(\"-\",\"\") in fs_ch_names:\n",
    "                fs_idx = fs_ch_names.index(elec.replace(\"-\",\"\"))\n",
    "                fs_roi = [a[3][0] for a in anat][fs_idx]\n",
    "                fs_roi_condensed = imaging_utils.condense_roi(fs_roi)\n",
    "                gross_anat = imaging_utils.gross_anat(fs_roi)\n",
    "            else:\n",
    "                fs_roi = \"anatomy unavailable\"; fs_roi_condensed = \"anatomy unavailable\"\n",
    "                gross_anat = \"anatomy unavailable\"\n",
    "        else:\n",
    "            fs_roi = \"anatomy unavailable\"; fs_roi_condensed = \"anatomy unavailable\"\n",
    "            gross_anat = \"anatomy unavailable\"\n",
    "        new_row = pd.DataFrame({'subj':[s],'elec':[elec],'clust':[clust],'elec_rank':[n],'w':[w],\n",
    "            'fs_roi':[fs_roi],'fs_roi_condensed':[fs_roi_condensed],'gross_anat':[gross_anat]})\n",
    "        top_elecs = top_elecs.append(new_row,ignore_index=True)               "
   ]
  },
  {
   "cell_type": "code",
   "execution_count": null,
   "metadata": {},
   "outputs": [],
   "source": [
    "xc, xlabel = 1, \"Onset suppression\"; yc, ylabel =  0, \"Dual onset\"; percentages = {xc:[], yc:[]}\n",
    "xc_subjs = np.unique(np.hstack((top_elecs.loc[top_elecs['clust']==xc]['subj'].values)))\n",
    "yc_subjs = np.unique(np.hstack((top_elecs.loc[top_elecs['clust']==yc]['subj'].values)))\n",
    "for s in xc_subjs:\n",
    "    xc_elecs = np.unique(np.hstack((top_elecs.loc[(top_elecs['clust']==xc)&(\n",
    "        top_elecs['subj']==s)]['elec'].values)))\n",
    "    num, denom = [], []\n",
    "    for elec in xc_elecs:\n",
    "        for clust in [xc,yc]:\n",
    "            clust_elecs = top_elecs.loc[(top_elecs['clust']==clust)&(top_elecs['subj']==s)]\n",
    "            if len(clust_elecs) > 0:\n",
    "                if elec in clust_elecs['elec'].values:\n",
    "                    w = top_elecs.loc[(top_elecs['clust']==clust)&(top_elecs['subj']==s)&(\n",
    "                        top_elecs['elec']==elec)]['w'].values[0]\n",
    "                    if clust == xc:\n",
    "                        num.append(w)\n",
    "                    denom.append(w)\n",
    "        percentages[xc].append(sum(num)/sum(denom))\n",
    "for s in yc_subjs:\n",
    "    yc_elecs = np.unique(np.hstack((top_elecs.loc[(top_elecs['clust']==yc)&(\n",
    "        top_elecs['subj']==s)]['elec'].values)))\n",
    "    num, denom = [], []\n",
    "    for elec in yc_elecs:\n",
    "        for clust in [xc,yc]:\n",
    "            clust_elecs = top_elecs.loc[(top_elecs['clust']==clust)&(top_elecs['subj']==s)]\n",
    "            if len(clust_elecs) > 0:\n",
    "                if elec in clust_elecs['elec'].values:\n",
    "                    w = top_elecs.loc[(top_elecs['clust']==clust)&(top_elecs['subj']==s)&(\n",
    "                        top_elecs['elec']==elec)]['w'].values[0]\n",
    "                    if clust == yc:\n",
    "                        num.append(w)\n",
    "                    denom.append(w)\n",
    "        percentages[yc].append(sum(num)/sum(denom))\n",
    "plt.figure(figsize=(10,4))\n",
    "plt.subplot(1,2,1)\n",
    "plt.title(f\"Top {n_top_elecs} {xlabel} electrodes\")\n",
    "w1 = np.array(percentages[xc]).mean()\n",
    "w2 = 1-w1\n",
    "plt.pie(np.array((w1,w2)), colors=[c1, c2], startangle=90, explode=[0.2,0.],\n",
    "        labels=[\"%.1f%%\"%(w1*100),\"%.1f%%\"%(w2*100)])\n",
    "plt.subplot(1,2,2)\n",
    "plt.title(f\"Top {n_top_elecs} {ylabel} electrodes\")\n",
    "w1 = np.array(percentages[yc]).mean()\n",
    "w2 = 1-w1\n",
    "plt.pie(np.array((w1,w2)), colors=[c2, c1], startangle=90, explode=[0.2,0.],\n",
    "        labels=[\"%.1f%%\"%(w1*100),\"%.1f%%\"%(w2*100)])\n",
    "plt.bar(0,0,color=c1,label=\"Onset suppression cluster weight\")\n",
    "plt.bar(0,0,color=c2,label=\"Dual onset cluster weight\")\n",
    "plt.legend(frameon=True, bbox_to_anchor=(1,1));\n",
    "plt.tight_layout();\n",
    "plt.savefig(os.path.join(git_path,\"figures\",\"figure_3\",\"pdf\",f\"{xlabel}_{ylabel}_pie.pdf\"))"
   ]
  }
 ],
 "metadata": {
  "kernelspec": {
   "display_name": "Python 3",
   "language": "python",
   "name": "python3"
  },
  "language_info": {
   "codemirror_mode": {
    "name": "ipython",
    "version": 3
   },
   "file_extension": ".py",
   "mimetype": "text/x-python",
   "name": "python",
   "nbconvert_exporter": "python",
   "pygments_lexer": "ipython3",
   "version": "3.7.7"
  }
 },
 "nbformat": 4,
 "nbformat_minor": 4
}
