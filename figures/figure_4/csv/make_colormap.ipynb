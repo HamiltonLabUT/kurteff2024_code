{
 "cells": [
  {
   "cell_type": "code",
   "execution_count": null,
   "metadata": {},
   "outputs": [],
   "source": [
    "# Paths - Update locally!\n",
    "git_path = '/path/to/git/kurteff2024_code/'\n",
    "data_path = '/path/to/bids/dataset/'"
   ]
  },
  {
   "cell_type": "code",
   "execution_count": null,
   "metadata": {},
   "outputs": [],
   "source": [
    "import mne\n",
    "import numpy as np\n",
    "import pandas as pd\n",
    "import os\n",
    "import re\n",
    "import csv\n",
    "from tqdm.notebook import tqdm\n",
    "import warnings\n",
    "\n",
    "from img_pipe import img_pipe\n",
    "\n",
    "from matplotlib import pyplot as plt\n",
    "from matplotlib import rcParams as rc\n",
    "import matplotlib.patheffects as PathEffects\n",
    "rc['pdf.fonttype'] = 42\n",
    "plt.style.use('seaborn')\n",
    "%matplotlib inline\n",
    "\n",
    "import sys\n",
    "sys.path.append(os.path.join(git_path,\"figures\"))\n",
    "import plotting_utils"
   ]
  },
  {
   "cell_type": "code",
   "execution_count": null,
   "metadata": {},
   "outputs": [],
   "source": [
    "subjs = [s for s in os.listdir(\n",
    "    os.path.join(git_path,\"preprocessing\",\"events\",\"csv\")) if \"TCH\" in s or \"S0\" in s]\n",
    "exclude = [\"TCH8\"]\n",
    "no_imaging = [\"S0010\"]\n",
    "# these are the subjects that don't have inconsistent playback trials and\n",
    "# are therefore excluded from analysis in this notebook\n",
    "no_sh = ['S0023','TCH06'] \n",
    "subjs = [s for s in subjs if s not in exclude and s not in no_sh]\n",
    "\n",
    "blocks = {\n",
    "    s: [\n",
    "        b.split(\"_\")[-1] for b in os.listdir(os.path.join(\n",
    "            git_path,\"analysis\",\"events\",\"csv\",s)) if f\"{s}_B\" in b and os.path.isfile(os.path.join(\n",
    "            git_path,\"analysis\",\"events\",\"csv\",s,b,f\"{b}_spkr_sn_all.txt\"\n",
    "        ))\n",
    "    ] for s in subjs\n",
    "}\n",
    "\n",
    "hems = {s:[] for s in subjs}\n",
    "for s in subjs:\n",
    "    pt = img_pipe.freeCoG(f\"{s}_complete\",hem='stereo',subj_dir=data_path)\n",
    "    elecs = pt.get_elecs()['elecmatrix']\n",
    "    if sum(elecs[:,0] > 0) >= 1:\n",
    "        hems[s].append('rh')\n",
    "    if sum(elecs[:,0] < 0) >= 1:\n",
    "        hems[s].append('lh')\n",
    "\n",
    "color_palette = pd.read_csv(os.path.join(git_path,\"figures\",\"color_palette.csv\"))\n",
    "spkr_color = color_palette.loc[color_palette['color_id']=='perception']['hex'].values[0]\n",
    "mic_color = color_palette.loc[color_palette['color_id']=='production']['hex'].values[0]"
   ]
  },
  {
   "cell_type": "markdown",
   "metadata": {},
   "source": [
    "### epoch data"
   ]
  },
  {
   "cell_type": "code",
   "execution_count": null,
   "metadata": {},
   "outputs": [],
   "source": [
    "ci_tmin = 0; ci_tmax = 1; erp_tmin = -.5; erp_tmax = 2; reject = None; baseline = None\n",
    "epochs = dict(); ch_names = dict()\n",
    "for s in tqdm(subjs):\n",
    "    epochs[s] = dict(); el_epochs, sh_epochs = [], []\n",
    "    for b in blocks[s]:\n",
    "        blockid = f'{s}_{b}'\n",
    "        raw_fpath = os.path.join(data_path,f\"sub-{s}\",s,blockid,\"HilbAA_70to150_8band\",\n",
    "                                 \"ecog_hilbAA70to150.fif\")\n",
    "        raw = mne.io.read_raw_fif(raw_fpath,preload=True,verbose=False)\n",
    "        ch_names[s] = raw.info['ch_names']\n",
    "        fs = raw.info['sfreq']\n",
    "        # Consistent events\n",
    "        eventfile = os.path.join(git_path,\"preprocessing\",\"events\",\"csv\",s,blockid,\n",
    "                                 f\"{blockid}_spkr_sn_el.txt\")\n",
    "        with open(eventfile,'r') as f:\n",
    "            c = csv.reader(f,delimiter='\\t')\n",
    "            events = np.array([[int(float(row[0])*fs),int(float(row[1])*fs),int(row[2])] for row in c])\n",
    "        el_epochs.append(mne.Epochs(raw,events,tmin=erp_tmin,tmax=erp_tmax,\n",
    "                                      baseline=baseline,reject=reject,verbose=False))\n",
    "        # Inconsistent events\n",
    "        eventfile = os.path.join(git_path,\"preprocessing\",\"events\",\"csv\",s,blockid,\n",
    "                                 f\"{blockid}_spkr_sn_sh.txt\")\n",
    "        with open(eventfile,'r') as f:\n",
    "            c = csv.reader(f,delimiter='\\t')\n",
    "            events = np.array([[int(float(row[0])*fs),int(float(row[1])*fs),int(row[2])] for row in c])\n",
    "        sh_epochs.append(mne.Epochs(raw,events,tmin=erp_tmin,tmax=erp_tmax,\n",
    "                                      baseline=baseline,reject=reject,verbose=False))\n",
    "    epochs[s]['el'] = mne.concatenate_epochs(el_epochs)\n",
    "    epochs[s]['sh'] = mne.concatenate_epochs(sh_epochs)"
   ]
  },
  {
   "cell_type": "markdown",
   "metadata": {},
   "source": [
    "### make colormap"
   ]
  },
  {
   "cell_type": "code",
   "execution_count": null,
   "metadata": {},
   "outputs": [],
   "source": [
    "cmap_2d = plt.imread(os.path.join(git_path,\"figures\",\"figure_4\",\"msh_elsh_splinesqrt_2d_bu_or.png\"))\n",
    "x = epochs[s]['el'].times\n",
    "ci_inds = [np.where(x==ci_tmin)[0][0],np.where(x==ci_tmax)[0][0]]\n",
    "all_el, all_sh, all_subj, all_ch = [], [], [], []\n",
    "for s in subjs:\n",
    "    for i, ch in enumerate(epochs[s]['el'].info['ch_names']):\n",
    "        all_el.append(epochs[s]['el'].get_data(picks=[ch]).squeeze()[:,ci_inds[0]:ci_inds[1]].mean(0).mean(0))\n",
    "        all_sh.append(epochs[s]['sh'].get_data(picks=[ch]).squeeze()[:,ci_inds[0]:ci_inds[1]].mean(0).mean(0))\n",
    "        all_subj.append(s)\n",
    "        all_ch.append(ch)\n",
    "all_el = np.array(all_el); all_sh = np.array(all_sh)\n",
    "all_subj = np.array(all_subj); all_ch = np.array(all_ch)\n",
    "all_el_norm, all_sh_norm = [], []\n",
    "for s in subjs:\n",
    "    idxs = np.where(all_subj==s)[0]\n",
    "    all_el_clip = all_el[idxs]; all_sh_clip = all_sh[idxs]\n",
    "    resp_min = np.hstack((all_el_clip,all_sh_clip)).min(); resp_max = np.hstack((all_el_clip,all_sh_clip)).max()\n",
    "    norm_el_clip = (all_el_clip + resp_min*-1)/(resp_max + resp_min*-1)\n",
    "    norm_sh_clip = (all_sh_clip + resp_min*-1)/(resp_max + resp_min*-1)\n",
    "    all_el_norm.append(norm_el_clip); all_sh_norm.append(norm_sh_clip)\n",
    "all_el_norm = np.hstack((all_el_norm)); all_sh_norm = np.hstack((all_sh_norm))\n",
    "# Format to be by-subject\n",
    "elec_colors_rgb_2d, values = dict(), dict()\n",
    "for s in subjs:\n",
    "    elec_colors_rgb_2d[s] = []; values[s] = dict(); values[s]['el'], values[s]['sh'] = dict(), dict()\n",
    "    idxs = np.where(all_subj==s)[0]\n",
    "    values[s]['el']['norm'] = all_el_norm[idxs]; values[s]['el']['native'] = all_el[idxs]\n",
    "    values[s]['sh']['norm'] = all_sh_norm[idxs]; values[s]['sh']['native'] = all_sh[idxs]\n",
    "    for i in idxs:\n",
    "        x = int(all_el_norm[i]*255); y = int(all_sh_norm[i]*255); elec_colors_rgb_2d[s].append(cmap_2d[x,y,:])        "
   ]
  },
  {
   "cell_type": "code",
   "execution_count": null,
   "metadata": {},
   "outputs": [],
   "source": [
    "# Save to pandas\n",
    "df = pd.DataFrame(columns=['subj','hem','ch_name','x','y','z','r','g','b','a'])\n",
    "for hem in ['lh','rh']:\n",
    "    for s in [ss for s in subjs if hem in hems[ss]]:\n",
    "        blockid = \"_\".join([s,blocks[s][0]])\n",
    "        fif_ch_names = mne.io.read_raw_fif(os.path.join(data_path,f\"sub-{s}\",blockid,\"HilbAA_70to150_8band\",\n",
    "            \"ecog_hilbAA70to150.fif\"), preload=False, verbose=False).info['ch_names']\n",
    "        pt = img_pipe.freeCoG(f'{s}_complete',hem=hem, subj_dir=ip)\n",
    "        e, a = imaging_utils.clip_4mm_elecs(pt,hem=hem,elecfile_prefix=\"TDT_elecs_all_warped\")\n",
    "        e, a = imaging_utils.clip_outside_brain_elecs(pt,elecmatrix=e,anatomy=a,hem=hem,\n",
    "                                                      elecfile_prefix=\"TDT_elecs_all_warped\")\n",
    "        fs_ch_names = [aa[0][0] for aa in a]\n",
    "        for ch in fs_ch_names:\n",
    "            if ch.replace('-','') in [c.replace('-','') for c in fif_ch_names]:\n",
    "                fif_idx = [c.replace('-','') for c in fif_ch_names].index(ch.replace('-',''))\n",
    "                r,g,b,a = elec_colors_rgb_2d[s][fif_idx]\n",
    "                elecfile_idx = [c.replace('-','') for c in fs_ch_names].index(ch.replace('-',''))\n",
    "                x,y,z = e[elecfile_idx,:]\n",
    "                new_row = pd.DataFrame({'subj':[s],'hem':[hem],'ch_name':[ch],'x':[x],'y':[y],'z':[z],\n",
    "                                       'r':[r],'g':[g],'b':[b],'a':[a]})\n",
    "                df = df.append(new_row, ignore_index=True)\n",
    "df.to_csv(os.path.join(git_path,\"figures\",\"figure_4\",\"csv\",\"figure_4_cmap.csv\"),index=False)"
   ]
  }
 ],
 "metadata": {
  "kernelspec": {
   "display_name": "Python 3",
   "language": "python",
   "name": "python3"
  },
  "language_info": {
   "codemirror_mode": {
    "name": "ipython",
    "version": 3
   },
   "file_extension": ".py",
   "mimetype": "text/x-python",
   "name": "python",
   "nbconvert_exporter": "python",
   "pygments_lexer": "ipython3",
   "version": "3.7.7"
  }
 },
 "nbformat": 4,
 "nbformat_minor": 4
}
