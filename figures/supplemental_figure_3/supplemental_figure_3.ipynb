{
 "cells": [
  {
   "cell_type": "code",
   "execution_count": null,
   "metadata": {},
   "outputs": [],
   "source": [
    "# Paths - Update locally!\n",
    "git_path = '/path/to/git/kurteff2024_code/'\n",
    "data_path = '/path/to/bids/dataset/'"
   ]
  },
  {
   "cell_type": "code",
   "execution_count": null,
   "metadata": {},
   "outputs": [],
   "source": [
    "import mne\n",
    "import numpy as np\n",
    "import pandas as pd\n",
    "import os\n",
    "import re\n",
    "import csv\n",
    "from tqdm.notebook import tqdm\n",
    "import warnings\n",
    "from img_pipe import img_pipe\n",
    "import librosa\n",
    "import h5py\n",
    "import pymf3\n",
    "\n",
    "from matplotlib import pyplot as plt\n",
    "from matplotlib import rcParams as rc\n",
    "from matplotlib.gridspec import GridSpec\n",
    "from matplotlib.colors import LinearSegmentedColormap\n",
    "import seaborn as sns\n",
    "rc['pdf.fonttype'] = 42\n",
    "plt.style.use('seaborn')\n",
    "%matplotlib inline\n",
    "\n",
    "import sys\n",
    "sys.path.append(os.path.join(git_path,\"figures\"))\n",
    "import plotting_utils\n",
    "sys.path.append(os.path.join(git_path,\"preprocessing\",\"events\",\"textgrids\"))\n",
    "import textgrid\n",
    "sys.path.append(os.path.join(git_path,\"preprocessing\",\"imaging\"))\n",
    "import imaging_utils"
   ]
  },
  {
   "cell_type": "code",
   "execution_count": null,
   "metadata": {},
   "outputs": [],
   "source": [
    "subjs = [s for s in os.listdir(\n",
    "    os.path.join(git_path,\"preprocessing\",\"events\",\"csv\")) if \"TCH\" in s or \"S0\" in s]\n",
    "exclude = [\"TCH8\"]\n",
    "no_imaging = [\"S0010\"]\n",
    "subjs = [s for s in subjs if s not in exclude]\n",
    "\n",
    "blocks = {\n",
    "    s: [\n",
    "        b.split(\"_\")[-1] for b in os.listdir(os.path.join(\n",
    "            git_path,\"analysis\",\"events\",\"csv\",s)) if f\"{s}_B\" in b and os.path.isfile(os.path.join(\n",
    "            git_path,\"analysis\",\"events\",\"csv\",s,b,f\"{b}_spkr_sn_all.txt\"\n",
    "        ))\n",
    "    ] for s in subjs\n",
    "}\n",
    "\n",
    "hems = {s:[] for s in subjs}\n",
    "for s in subjs:\n",
    "    pt = img_pipe.freeCoG(f\"{s}_complete\",hem='stereo',subj_dir=data_path)\n",
    "    elecs = pt.get_elecs()['elecmatrix']\n",
    "    if sum(elecs[:,0] > 0) >= 1:\n",
    "        hems[s].append('rh')\n",
    "    if sum(elecs[:,0] < 0) >= 1:\n",
    "        hems[s].append('lh')\n",
    "\n",
    "color_palette = pd.read_csv(os.path.join(git_path,\"figures\",\"color_palette.csv\"))\n",
    "spkr_color = color_palette.loc[color_palette['color_id']=='perception']['hex'].values[0]\n",
    "mic_color = color_palette.loc[color_palette['color_id']=='production']['hex'].values[0]\n",
    "click_color = color_palette.loc[color_palette['color_id']=='click']['hex'].values[0]"
   ]
  },
  {
   "cell_type": "markdown",
   "metadata": {},
   "source": [
    "### load cNMF results"
   ]
  },
  {
   "cell_type": "code",
   "execution_count": null,
   "metadata": {},
   "outputs": [],
   "source": [
    "# Load NMF results from h5\n",
    "bname = 'spkrmicclick'; epoch_types = ['spkr','mic','click']; plt_colors = [spkr_color,mic_color,click_color]\n",
    "nmf = dict(); nmf['resp'] = dict()\n",
    "h5_fpath = os.path.join(git_path,\"analysis\",\"cnmf\",\"h5\",f\"NMF_grouped_{bname}.hf5\")\n",
    "with h5py.File(h5_fpath,'r') as f:\n",
    "    num_bases = np.array(f.get('num_bases')); nmf['pve'] = np.array(f.get('pve'))\n",
    "    for nb in num_bases:\n",
    "        nmf[nb] = dict(); nmf[nb]['W'] = np.array(f.get(f'{nb}_bases/W'))\n",
    "        nmf[nb]['H'] = np.array(f.get(f'{nb}_bases/H'))\n",
    "    for epoch_type in epoch_types:\n",
    "        nmf['resp'][epoch_type] = np.array(f.get(f'resp/{epoch_type}'))\n",
    "nmf['ch_names'] = np.loadtxt(os.path.join(git_path,\"analysis\",\"cnmf\",\"h5\",\n",
    "                                          f\"NMF_grouped_{bname}_ch_names.txt\"),dtype=str)\n",
    "nmf['all_subjs'] = np.loadtxt(os.path.join(git_path,\"analysis\",\"cnmf\",\"h5\",\n",
    "                                           f\"NMF_grouped_{bname}_all_subjs.txt\"), dtype=str)"
   ]
  },
  {
   "cell_type": "code",
   "execution_count": null,
   "metadata": {},
   "outputs": [],
   "source": [
    "# Convert resp into a subject-by-subject format\n",
    "resp, ch_names = dict(), dict()\n",
    "for s in subjs:\n",
    "    nmf_inds = np.where(nmf['all_subjs']==s)[0]\n",
    "    if nmf_inds.shape[0] == 0:\n",
    "        warnings.warn(f\"Subject {s} missing from {bname} NMF, skipping...\")\n",
    "    else:\n",
    "        ch_names[s] = nmf['ch_names'][nmf_inds]; resp[s] = dict()\n",
    "        for epoch_type in epoch_types:\n",
    "            resp[s][epoch_type] = nmf['resp'][epoch_type][nmf_inds,:]"
   ]
  },
  {
   "cell_type": "code",
   "execution_count": null,
   "metadata": {},
   "outputs": [],
   "source": [
    "# Truncate weights according to a kneepoint\n",
    "nmf['k'] = 9 # 86% PVE\n",
    "# clip nmf.W to k clusters, and reorder by weight\n",
    "clust = nmf[nmf['k']]; W = clust['W']; clusters = dict(); clusters['W'] = np.zeros(W.shape)\n",
    "clusters['all_subjs'] = np.zeros(W.shape).astype(str); clusters['ch_names'] = np.zeros(W.shape).astype(str)\n",
    "clusters['resp'] = {epoch_type:np.zeros((nmf['k'],W.shape[0],\n",
    "                                         nmf['resp'][epoch_types[0].shape[1]])) for epoch_type in epoch_types}\n",
    "clust_sort = np.argsort(W.sum(0))\n",
    "for ri,ai in enumerate(clust_sort): # relative/absolute index\n",
    "    sorted_idxs = np.flip(np.argsort(W[:,ai])); clusters['W'][:,ri] = W[:,ai][sorted_idxs]\n",
    "    clusters['all_subjs'][:,ri] = nmf['all_subjs'][sorted_idxs]\n",
    "    clusters['ch_names'][:,ri] = nmf['ch_names'][sorted_idxs]\n",
    "    for epoch_type in epoch_types:\n",
    "        clusters['resp'][epoch_type][ri,:] = nmf['resp'][epoch_type][sorted_idxs]   "
   ]
  },
  {
   "cell_type": "markdown",
   "metadata": {},
   "source": [
    "### all clusters' top elecs, averaged"
   ]
  },
  {
   "cell_type": "code",
   "execution_count": null,
   "metadata": {},
   "outputs": [],
   "source": [
    "n_top_elecs = 16\n",
    "plt.figure(figsize=(10,10))\n",
    "for clust in np.arange(nmf['k']):\n",
    "    plt.subplot(3,3,clust+1)\n",
    "    x = np.linspace(-1,2,clusters['resp']['mic'][clust].shape[1])\n",
    "    for i,epoch_type in enumerate(epoch_types):\n",
    "        plt.plot(x,clusters['resp'][epoch_type][clust][:top_elecs].mean(0),color=plt_colors[i])\n",
    "        plt.axvline(0,color='k'); plt.title(f\"Cluster {clust+1} top {top_elecs} elecs avg\")\n",
    "plt.tight_layout();\n",
    "plt.savefig(os.path.join(git_path,\"figures\",\"supplemental_figure_3\",\"pdf\",f\"cluster_avg_resps.pdf\"))"
   ]
  }
 ],
 "metadata": {
  "kernelspec": {
   "display_name": "Python 3",
   "language": "python",
   "name": "python3"
  },
  "language_info": {
   "codemirror_mode": {
    "name": "ipython",
    "version": 3
   },
   "file_extension": ".py",
   "mimetype": "text/x-python",
   "name": "python",
   "nbconvert_exporter": "python",
   "pygments_lexer": "ipython3",
   "version": "3.7.7"
  }
 },
 "nbformat": 4,
 "nbformat_minor": 4
}
